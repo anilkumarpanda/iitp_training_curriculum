{
 "cells": [
  {
   "cell_type": "markdown",
   "metadata": {
    "run_control": {
     "frozen": false,
     "read_only": false
    }
   },
   "source": [
    "# <span style=\"color:#f44259\"> Python Tutorial I: Basics</span>\n",
    "\n",
    "> \"Simplicity is the ultimate sophistication.\"  Leonardo da Vinci\n",
    "\n",
    "> “Always code as if the guy who ends up maintaining your code will be a violent psychopath who knows where you live.”  John Woods"
   ]
  },
  {
   "cell_type": "markdown",
   "metadata": {
    "run_control": {
     "frozen": false,
     "read_only": false
    }
   },
   "source": [
    "This tutorial introduces Python fundementals in a Jupyter Notebook environment. After following this tutorial, you\n",
    "will be able to write, execute and present simple Python programs in Jupyter Notebooks. "
   ]
  },
  {
   "cell_type": "markdown",
   "metadata": {
    "run_control": {
     "frozen": false,
     "read_only": false
    }
   },
   "source": [
    "## 2. Programming Environment: Jupyter (old name: iPython) Notebooks"
   ]
  },
  {
   "cell_type": "markdown",
   "metadata": {
    "run_control": {
     "frozen": false,
     "read_only": false
    }
   },
   "source": [
    "Jupyter Notebook is a browser-based Python progamming and presentation environment. \n",
    "It allows you to write Python code, execute that code and present the results in the same web page."
   ]
  },
  {
   "cell_type": "markdown",
   "metadata": {
    "run_control": {
     "frozen": false,
     "read_only": false
    }
   },
   "source": [
    "The Jupyter Notebook has two different keyboard input modes: EDIT MODE and COMMAND MODE"
   ]
  },
  {
   "cell_type": "markdown",
   "metadata": {
    "run_control": {
     "frozen": false,
     "read_only": false
    }
   },
   "source": [
    "- **Edit mode** allows you to type code/text into a cell and is indicated by a green cell border. \n",
    "You can edit cells in the edit mode by writing text or code."
   ]
  },
  {
   "cell_type": "markdown",
   "metadata": {
    "run_control": {
     "frozen": false,
     "read_only": false
    }
   },
   "source": [
    "Exercise: \n",
    "Click on this cell and then press Enter on your keyboard or directly click into the cell to edit it.\n",
    "(delete this)"
   ]
  },
  {
   "cell_type": "markdown",
   "metadata": {
    "run_control": {
     "frozen": false,
     "read_only": false
    }
   },
   "source": [
    "- **Command mode** binds the keyboard to notebook level actions and is indicated by a grey cell border."
   ]
  },
  {
   "cell_type": "raw",
   "metadata": {},
   "source": [
    "Exersice: Click left of the cell below and see the grey border.\n",
    "Then, press ctrl+enter to execute the following Python code"
   ]
  },
  {
   "cell_type": "markdown",
   "metadata": {},
   "source": [
    "# Hello world "
   ]
  },
  {
   "cell_type": "markdown",
   "metadata": {},
   "source": [
    "### Print statements"
   ]
  },
  {
   "cell_type": "code",
   "execution_count": null,
   "metadata": {
    "run_control": {
     "frozen": false,
     "read_only": false
    }
   },
   "outputs": [],
   "source": [
    "print (\"Hello world!\")"
   ]
  },
  {
   "cell_type": "markdown",
   "metadata": {
    "run_control": {
     "frozen": false,
     "read_only": false
    }
   },
   "source": [
    "- **Homework**: Click on Help -> Keyboard Shortcuts and read about the keyboard shortcuts."
   ]
  },
  {
   "cell_type": "markdown",
   "metadata": {
    "run_control": {
     "frozen": false,
     "read_only": false
    }
   },
   "source": [
    "### Exercise:  \n",
    "\n",
    "a. Make the text on this line bold (Hint: Click on Help -> Markdown )  \n",
    "b. Enter a cell below using the keyboard shortcut and delete it with another shortcut"
   ]
  },
  {
   "cell_type": "markdown",
   "metadata": {
    "run_control": {
     "frozen": false,
     "read_only": false
    }
   },
   "source": [
    "### Comments"
   ]
  },
  {
   "cell_type": "code",
   "execution_count": null,
   "metadata": {
    "run_control": {
     "frozen": false,
     "read_only": false
    }
   },
   "outputs": [],
   "source": [
    "# This is a comment. It means nothing after # is executed\n",
    "\n",
    "#If you dont believe me, run this cell and see"
   ]
  },
  {
   "cell_type": "markdown",
   "metadata": {
    "run_control": {
     "frozen": false,
     "read_only": false
    }
   },
   "source": [
    "**Advice**: Always and always comment your code because CODE CHANGES and the coder too!"
   ]
  },
  {
   "cell_type": "markdown",
   "metadata": {
    "run_control": {
     "frozen": false,
     "read_only": false
    }
   },
   "source": [
    "### Printing"
   ]
  },
  {
   "cell_type": "markdown",
   "metadata": {
    "run_control": {
     "frozen": false,
     "read_only": false
    }
   },
   "source": [
    "- **TODO**: Run the cell below and fix the error!"
   ]
  },
  {
   "cell_type": "code",
   "execution_count": null,
   "metadata": {
    "run_control": {
     "frozen": false,
     "read_only": false
    }
   },
   "outputs": [],
   "source": [
    "Print \"Python is Case-sensitive!\""
   ]
  },
  {
   "cell_type": "markdown",
   "metadata": {
    "run_control": {
     "frozen": false,
     "read_only": false
    }
   },
   "source": [
    "# Variables"
   ]
  },
  {
   "cell_type": "markdown",
   "metadata": {
    "run_control": {
     "frozen": false,
     "read_only": false
    }
   },
   "source": [
    "* A variable is a symbol that holds a value. \n",
    "* Variables in the Python are created by assignment. \n",
    "* Python is a dynamically typed language, which means you can assign values/objects of different types to the same variable during the execution of the program.\n",
    "* Variable names must start with letter or underscore (_) and be followed by letters, digits or underscores. \n",
    "* Every variable, indeed everything in Python, is an object"
   ]
  },
  {
   "cell_type": "code",
   "execution_count": null,
   "metadata": {},
   "outputs": [],
   "source": [
    "a = 5"
   ]
  },
  {
   "cell_type": "code",
   "execution_count": null,
   "metadata": {
    "run_control": {
     "frozen": false,
     "read_only": false
    }
   },
   "outputs": [],
   "source": [
    "my_integer_variable = 5\n",
    "my_string_variable = \"I am a beautiful string\"\n",
    "my_float_variable = 4.5\n"
   ]
  },
  {
   "cell_type": "code",
   "execution_count": null,
   "metadata": {
    "run_control": {
     "frozen": false,
     "read_only": false
    }
   },
   "outputs": [],
   "source": [
    "print(\"my_integer_variable\") #lets remove the quotation marks and print again"
   ]
  },
  {
   "cell_type": "code",
   "execution_count": null,
   "metadata": {
    "run_control": {
     "frozen": false,
     "read_only": false
    }
   },
   "outputs": [],
   "source": [
    "print(my_integer_variable) # what do you think it will print? what is the problem?"
   ]
  },
  {
   "cell_type": "code",
   "execution_count": null,
   "metadata": {
    "run_control": {
     "frozen": false,
     "read_only": false
    }
   },
   "outputs": [],
   "source": [
    "print(my_integer_variable + my_float_variable)"
   ]
  },
  {
   "cell_type": "markdown",
   "metadata": {},
   "source": [
    "the `type` built-in function"
   ]
  },
  {
   "cell_type": "code",
   "execution_count": null,
   "metadata": {
    "run_control": {
     "frozen": false,
     "read_only": false
    }
   },
   "outputs": [],
   "source": [
    "print(type(my_integer_variable + my_float_variable))\n",
    "\n"
   ]
  },
  {
   "cell_type": "code",
   "execution_count": null,
   "metadata": {
    "run_control": {
     "frozen": false,
     "read_only": false
    }
   },
   "outputs": [],
   "source": [
    "print(my_string_variable, \" \", str(my_integer_variable))\n",
    "database_name = my_string_variable + str(my_integer_variable)"
   ]
  },
  {
   "cell_type": "code",
   "execution_count": null,
   "metadata": {
    "run_control": {
     "frozen": false,
     "read_only": false
    }
   },
   "outputs": [],
   "source": [
    "my_integer_variable = 10 # lets assign a different variable to the my_integerr_variable\n",
    "print(my_integer_variable + my_string_variable)"
   ]
  },
  {
   "cell_type": "code",
   "execution_count": null,
   "metadata": {
    "run_control": {
     "frozen": false,
     "read_only": false
    }
   },
   "outputs": [],
   "source": [
    " print(3*my_string_variable )# what do you think it will print?"
   ]
  },
  {
   "cell_type": "markdown",
   "metadata": {
    "run_control": {
     "frozen": false,
     "read_only": false
    }
   },
   "source": [
    "* **Question**: How to delete a variable?"
   ]
  },
  {
   "cell_type": "markdown",
   "metadata": {},
   "source": [
    "# Strings\n",
    "\n",
    "Strings are variables representing text.<br>\n",
    "A string is a particular python object that comes with some built-in function"
   ]
  },
  {
   "cell_type": "code",
   "execution_count": null,
   "metadata": {},
   "outputs": [],
   "source": [
    "text = \"Magnis diam. Fringilla auctor nullam vel faucibus curae; vitae    sociis\"\n"
   ]
  },
  {
   "cell_type": "code",
   "execution_count": null,
   "metadata": {},
   "outputs": [],
   "source": [
    "text.split()"
   ]
  },
  {
   "cell_type": "markdown",
   "metadata": {},
   "source": [
    "*** We called the function for the string.  ***\n",
    "* <b>But how do I know which functions are there?</b><br>\n",
    "type the variable name, followed by the dot and the tab to get the available functions/attributes, for instance:<br>\n",
    "    `text.+<tab>`\n",
    "* <b>And how can I get more help? </b><br>\n",
    "1) Look it up in the documentation online (https://docs.python.org/3/library/string.html)<br>\n",
    "2) Use the built-in function of jupyter to access the funtion docstrings: `help(text.split)` or `text.split?`\n"
   ]
  },
  {
   "cell_type": "code",
   "execution_count": null,
   "metadata": {},
   "outputs": [],
   "source": [
    "help(text.split )"
   ]
  },
  {
   "cell_type": "code",
   "execution_count": null,
   "metadata": {},
   "outputs": [],
   "source": [
    "# This works only in interactive notebooks like jupyter\n",
    "text.split?"
   ]
  },
  {
   "cell_type": "markdown",
   "metadata": {},
   "source": [
    "### More operations with strings"
   ]
  },
  {
   "cell_type": "code",
   "execution_count": null,
   "metadata": {},
   "outputs": [],
   "source": [
    "name = \"  John _ Doe   \""
   ]
  },
  {
   "cell_type": "code",
   "execution_count": null,
   "metadata": {},
   "outputs": [],
   "source": [
    "len(name)"
   ]
  },
  {
   "cell_type": "code",
   "execution_count": null,
   "metadata": {},
   "outputs": [],
   "source": [
    "name.split(\"_\")"
   ]
  },
  {
   "cell_type": "code",
   "execution_count": null,
   "metadata": {},
   "outputs": [],
   "source": [
    "name.strip().split(\"_\") #removes whitespaces from the beginning and end of a string"
   ]
  },
  {
   "cell_type": "code",
   "execution_count": null,
   "metadata": {},
   "outputs": [],
   "source": [
    "name.replace(\" \",\"\").split(\"_\")"
   ]
  },
  {
   "cell_type": "markdown",
   "metadata": {},
   "source": [
    "#### Bonus question: did my variable actually change?"
   ]
  },
  {
   "cell_type": "code",
   "execution_count": null,
   "metadata": {},
   "outputs": [],
   "source": [
    "name"
   ]
  },
  {
   "cell_type": "code",
   "execution_count": null,
   "metadata": {},
   "outputs": [],
   "source": [
    "name.upper()"
   ]
  },
  {
   "cell_type": "code",
   "execution_count": null,
   "metadata": {},
   "outputs": [],
   "source": [
    "#### Let's go back to our text variable"
   ]
  },
  {
   "cell_type": "code",
   "execution_count": null,
   "metadata": {},
   "outputs": [],
   "source": [
    "text"
   ]
  },
  {
   "cell_type": "code",
   "execution_count": null,
   "metadata": {},
   "outputs": [],
   "source": [
    "### What does this actually mean?\n",
    "text.find(\"diam\")"
   ]
  },
  {
   "cell_type": "markdown",
   "metadata": {},
   "source": [
    "A string is a sequence of carachters. The find function return the index (location) of the substring (in our example \"diam\")"
   ]
  },
  {
   "cell_type": "markdown",
   "metadata": {},
   "source": [
    " Let's look at this block and let's understand what it is doing?<br>\n",
    "What do I need to Change here to write <br>\n",
    "`Hello John Doe`? (with only one space?)"
   ]
  },
  {
   "cell_type": "code",
   "execution_count": null,
   "metadata": {},
   "outputs": [],
   "source": [
    "my_name = \" John   \"\n",
    "my_lastname = \"doe  \"\n",
    "my_name.capitalize()\n",
    "my_lastname = my_lastname.upper()\n",
    "#my_name.lower()\n",
    "#c = my_name + her_name\n",
    "\n",
    "my_full_name = \"\".join([\"hello\",my_name,my_lastname])\n",
    "#c\n",
    "my_full_name = my_full_name.strip()\n",
    "my_full_name\n",
    "#c.split()"
   ]
  },
  {
   "cell_type": "markdown",
   "metadata": {},
   "source": [
    "### The format function"
   ]
  },
  {
   "cell_type": "code",
   "execution_count": null,
   "metadata": {},
   "outputs": [],
   "source": [
    "text = \"Pi is the {} of a circle's {} to its and equals to\".\\\n",
    "format('circumference','ratio')"
   ]
  },
  {
   "cell_type": "code",
   "execution_count": null,
   "metadata": {},
   "outputs": [],
   "source": [
    "print(text)"
   ]
  },
  {
   "cell_type": "code",
   "execution_count": null,
   "metadata": {},
   "outputs": [],
   "source": [
    "text =  \"Pi is the {1} of a circle's {0} to its and equals to\".format('circumference','ratio')\n",
    "text"
   ]
  },
  {
   "cell_type": "code",
   "execution_count": null,
   "metadata": {},
   "outputs": [],
   "source": [
    "print( \"Pi is the {a} of a circle's {b} to its and equals to\".\\\n",
    "format(a='circumference',b='ratio'))"
   ]
  },
  {
   "cell_type": "markdown",
   "metadata": {},
   "source": [
    "* **TODO**: Read about the **str.format()** method on [Python Documentation](https://docs.python.org/2/library/string.html#format-examples)"
   ]
  },
  {
   "cell_type": "code",
   "execution_count": null,
   "metadata": {},
   "outputs": [],
   "source": [
    "#Formatting with only two decimals?\n",
    "print(\"Pi equals to {:.2f}\".format(3.141592653589793))"
   ]
  },
  {
   "cell_type": "code",
   "execution_count": null,
   "metadata": {},
   "outputs": [],
   "source": [
    "print(\"Pi equals to {:+>10.2f}\".format(3.141592653589793))"
   ]
  },
  {
   "cell_type": "markdown",
   "metadata": {},
   "source": [
    "** Exercise **\n",
    "1. Define 3 variables holding the last names of your classmates\n",
    "2. Define 3 variables holding the ages of those classmates\n",
    "3. Print them in this format:   \n",
    "        +++++++++Genc: 20\t\n",
    "        ++++++Verhaaf: 90   \n",
    "    "
   ]
  },
  {
   "cell_type": "markdown",
   "metadata": {
    "run_control": {
     "frozen": false,
     "read_only": false
    }
   },
   "source": [
    "# Operations"
   ]
  },
  {
   "cell_type": "markdown",
   "metadata": {
    "run_control": {
     "frozen": false,
     "read_only": false
    }
   },
   "source": [
    "**TODO**: Read about the built-in types and operations on the [Python Docs](https://docs.python.org/2/library/stdtypes.html)"
   ]
  },
  {
   "cell_type": "markdown",
   "metadata": {},
   "source": [
    "    <   : strictly less than\t \n",
    "    <=  : less than or equal\t \n",
    "    >  : strictly greater than\t \n",
    "    >= : greater than or equal\t \n",
    "    ==  : equal\t \n",
    "    !=  : not equal\n",
    "\n",
    "    or: logical or\n",
    "    and: logical and\n",
    "    not: negate\n",
    "    \n",
    "    is  : object identity\t \n",
    "    is not : negated object identity"
   ]
  },
  {
   "cell_type": "code",
   "execution_count": null,
   "metadata": {
    "run_control": {
     "frozen": false,
     "read_only": false
    }
   },
   "outputs": [],
   "source": [
    "a = 4 ## assigning the variable\n",
    "a == 5 ## checking equality"
   ]
  },
  {
   "cell_type": "markdown",
   "metadata": {
    "run_control": {
     "frozen": false,
     "read_only": false
    }
   },
   "source": [
    "\n",
    "\n",
    "   ** IMPORTANT ** : **\"is\"** and **\"==\"** are different operators\n",
    "   * **'=='** checks for equality such as **(a == b)** which checks if 'a' and 'b' have the same value\n",
    "   * **'is'** checks for identity such as **( id(obj1) == id(obj2) )** which checks if 'obj1' and 'obj2' reference to the same object\n",
    "    \n",
    "\n",
    "\n"
   ]
  },
  {
   "cell_type": "code",
   "execution_count": null,
   "metadata": {},
   "outputs": [],
   "source": [
    "a = 400\n",
    "b = 400\n",
    "print (a==b)\n",
    "print (a is b)"
   ]
  },
  {
   "cell_type": "code",
   "execution_count": null,
   "metadata": {},
   "outputs": [],
   "source": [
    "print( \"\\n'is' vs. '=='\")\n",
    "s1 = list([1,2])\n",
    "s2 = list([1,2])\n",
    "print( \"s1: {} \\ns2: {}\".format(s1,s2))\n",
    "print( \"s1 == s2: \", s1==s2)\n",
    "print( \"s1 is s2: \", s1 is s2) # print ids of s1 and s2 to understand why s1 is not s2\n",
    "print( \"s1 is not s2: \", s1 is not s2)\n",
    "print( \"id(s1):{}, id(s2):{} \".format(id(s1),id(s2)))"
   ]
  },
  {
   "cell_type": "markdown",
   "metadata": {},
   "source": [
    "# Python can have some very weird behavior sometimes\n",
    "*** For instance: what happens if in the previous cell I change a=3, and b =3? ***"
   ]
  },
  {
   "cell_type": "code",
   "execution_count": null,
   "metadata": {
    "ExecuteTime": {
     "end_time": "2019-06-25T11:04:31.378725Z",
     "start_time": "2019-06-25T11:04:31.375960Z"
    }
   },
   "outputs": [],
   "source": [
    "a = 222\n",
    "b = 222\n",
    "print (a==b)\n",
    "print (a is b)"
   ]
  },
  {
   "cell_type": "markdown",
   "metadata": {},
   "source": [
    "\n",
    "*** Some more built-in functions in Python<br>***\n",
    "    -x : x negated\t \n",
    "\n",
    "    abs(x)  : absolute value or magnitude of x\t\n",
    "    int(x)  : x converted to integer\t\n",
    "    long(x) : x converted to long integer\t\n",
    "    float(x): x converted to floating point\t\n",
    "\n",
    "    x ** y\t: x to the power y\t\n",
    "    x % y   : x mod y : returns the remainder after division of x by y"
   ]
  },
  {
   "cell_type": "code",
   "execution_count": null,
   "metadata": {
    "run_control": {
     "frozen": false,
     "read_only": false
    }
   },
   "outputs": [],
   "source": [
    "x = 5\n",
    "y = 4\n",
    "z = 1.6\n",
    "\n",
    "n = None\n",
    "t = True\n",
    "f = False"
   ]
  },
  {
   "cell_type": "code",
   "execution_count": null,
   "metadata": {
    "run_control": {
     "frozen": false,
     "read_only": false
    }
   },
   "outputs": [],
   "source": [
    "result_a =  x + y * z / 2\n",
    "result_b = (x + y ) * z / 2\n",
    "\n",
    "print(\"\\nArithmetic Operations: \")\n",
    "print(\" x + y * z / 2: \", result_a)\n",
    "print(\"(x + y) * z / 2: \", result_b)\n",
    "print(\"-x: \", -x)"
   ]
  },
  {
   "cell_type": "code",
   "execution_count": null,
   "metadata": {
    "run_control": {
     "frozen": false,
     "read_only": false
    }
   },
   "outputs": [],
   "source": [
    "print(\"\\nComparisons\")\n",
    "print( \"x >= y --> \", x >= y)\n",
    "print( \"x - 1 == y  --> \", x - 1 == y)\n",
    "print( \"(x > y) != False --> \", (x > y) != False)\n",
    "print( \"5 and 0: \",bool(5 and 0))\n",
    "print( \"float z: {} | integer converted z: {}\".format(z,int(z)))"
   ]
  },
  {
   "cell_type": "code",
   "execution_count": null,
   "metadata": {
    "run_control": {
     "frozen": false,
     "read_only": false
    }
   },
   "outputs": [],
   "source": [
    "print(\"id of s1: \", id(s1))\n",
    "print( \"id of s2: \", id(s2))\n",
    "print( \"type of s1 \", type(s1))"
   ]
  },
  {
   "cell_type": "markdown",
   "metadata": {},
   "source": [
    "** Exercise **\n",
    "1. Print “True” if the sum of all the numbers from 1 to 60 is greater than 1903\n",
    "2. Is 6/5 equal to 9/5?\n",
    "3. Print the result of  6/5 == 9/5\n",
    "4. What is wrong with 6/5 == 9/5?\n",
    "5. Calculate the total money you need to pay after having dinner in such a restaurant:\n",
    "6. Cost of meal: €65.50   \n",
    "\tRestaurant tax: 2.75%   \n",
    "\tTip: 15%   \n",
    "\tYou'll apply the tip to the overall cost of the meal (including tax).   \n",
    "\n"
   ]
  },
  {
   "cell_type": "markdown",
   "metadata": {
    "run_control": {
     "frozen": false,
     "read_only": false
    }
   },
   "source": [
    "# Control Flow"
   ]
  },
  {
   "cell_type": "markdown",
   "metadata": {
    "run_control": {
     "frozen": false,
     "read_only": false
    }
   },
   "source": [
    "### a. if conditions"
   ]
  },
  {
   "cell_type": "code",
   "execution_count": null,
   "metadata": {
    "run_control": {
     "frozen": false,
     "read_only": false
    }
   },
   "outputs": [],
   "source": [
    "x = 1\n",
    "y = int(1.99)\n",
    "z = None\n",
    "if ( x==y ):\n",
    "    print(\" x is equal to y \")"
   ]
  },
  {
   "cell_type": "code",
   "execution_count": null,
   "metadata": {},
   "outputs": [],
   "source": [
    "if not z:\n",
    "    print(\"z is nothing\")"
   ]
  },
  {
   "cell_type": "code",
   "execution_count": null,
   "metadata": {},
   "outputs": [],
   "source": [
    "if (not z) and (x == 1) or (y < 0):\n",
    "    print(\"whole chain of conditions is True!\")"
   ]
  },
  {
   "cell_type": "code",
   "execution_count": null,
   "metadata": {
    "run_control": {
     "frozen": false,
     "read_only": false
    }
   },
   "outputs": [],
   "source": [
    "#if elif else block\n",
    "if (0 <= x < 1 ):\n",
    "    print(\"x is between 0 and 1\")\n",
    "elif( x < 0 ):\n",
    "    print(\"x is negative\")\n",
    "else:\n",
    "    print(\"I couldnt find what x is :(\")\n"
   ]
  },
  {
   "cell_type": "markdown",
   "metadata": {
    "run_control": {
     "frozen": false,
     "read_only": false
    }
   },
   "source": [
    "**Important**: In Python, indentation matters! <br>\n",
    "\n",
    "If we want to enclose multiple lines of code within an if condition, we need to use the identation"
   ]
  },
  {
   "cell_type": "code",
   "execution_count": null,
   "metadata": {},
   "outputs": [],
   "source": [
    "a = 4\n",
    "b = 3\n",
    "\n",
    "if a ==4:\n",
    "    print(\"This is the first correct statement\")\n",
    "    print(\"This is the second correct statement\")\n",
    "    \n",
    "    if b== a-1:\n",
    "        print(\"I am a new if condition and I am True\")\n",
    "    else:\n",
    "        print(\"I am a new if condition and I am False\")\n",
    "\n",
    "print(\"I am not indented, so I do am outside the if block :P\")       "
   ]
  },
  {
   "cell_type": "code",
   "execution_count": null,
   "metadata": {
    "run_control": {
     "frozen": false,
     "read_only": false
    }
   },
   "outputs": [],
   "source": [
    "x = 2\n",
    "y = x if (x**2) == 4 else 0\n",
    "print (y)"
   ]
  },
  {
   "cell_type": "markdown",
   "metadata": {
    "run_control": {
     "frozen": false,
     "read_only": false
    }
   },
   "source": [
    "### b. for loops"
   ]
  },
  {
   "cell_type": "markdown",
   "metadata": {
    "run_control": {
     "frozen": false,
     "read_only": false
    }
   },
   "source": [
    "**TODO**: Read about the [range() function](https://docs.python.org/2/library/functions.html#range)"
   ]
  },
  {
   "cell_type": "code",
   "execution_count": null,
   "metadata": {
    "run_control": {
     "frozen": false,
     "read_only": false
    }
   },
   "outputs": [],
   "source": [
    "range(1,20)# watch out! the last digit is not included\n",
    "range(1,20,5) # values from 1 (included) to 20 (excluded) in steps of 5\n",
    "range(0, -10, -1)  # values from 0 (included) to -10 (excluded) in steps of -1 (backwards)"
   ]
  },
  {
   "cell_type": "markdown",
   "metadata": {},
   "source": [
    "### Advanced tip<br>\n",
    "\n",
    "`range` returns is an iterator, which is a very specific and lazy type of function which executes the steps only when \"explicitly\" asked for. <br>\n",
    "\n",
    "for example, putting it within the list object, it will be executed `list(range(1,20))`, or within the for statemtn\n",
    "\n"
   ]
  },
  {
   "cell_type": "code",
   "execution_count": null,
   "metadata": {},
   "outputs": [],
   "source": [
    "#\n",
    "list(range(1,20))"
   ]
  },
  {
   "cell_type": "code",
   "execution_count": null,
   "metadata": {
    "run_control": {
     "frozen": false,
     "read_only": false
    }
   },
   "outputs": [],
   "source": [
    "for i in range(1, 10): \n",
    "    print(i) #note the indetation\n",
    "\n",
    "print(\"\\n\\nwith step of 2:\")\n",
    "for i in range(1,10,2):\n",
    "    print(i)\n",
    "    \n"
   ]
  },
  {
   "cell_type": "markdown",
   "metadata": {},
   "source": [
    "Extra on loops:\n",
    "    * `break`: when this line is met, the loop stops\n",
    "    * `continue`: when this line is met, the loop skips the next steps and goes to the next iteration"
   ]
  },
  {
   "cell_type": "code",
   "execution_count": null,
   "metadata": {},
   "outputs": [],
   "source": []
  },
  {
   "cell_type": "code",
   "execution_count": null,
   "metadata": {
    "run_control": {
     "frozen": false,
     "read_only": false
    }
   },
   "outputs": [],
   "source": [
    "print(' The loop with break')\n",
    "for i in range(1,10):\n",
    "    if (i == 4): # change this to 1000 and see what happens\n",
    "        break\n",
    "    print(i)\n",
    "\n",
    "print(' The loop with continue')\n",
    "for i in range(1,10):\n",
    "    if (i == 4): # change this to 1000 and see what happens\n",
    "        continue\n",
    "    print(i)"
   ]
  },
  {
   "cell_type": "markdown",
   "metadata": {},
   "source": [
    "### Extra: the usefuleness of the modulo operation,\n",
    "i.e `a % b`"
   ]
  },
  {
   "cell_type": "code",
   "execution_count": null,
   "metadata": {},
   "outputs": [],
   "source": [
    "print('The loop with modulo operation')\n",
    "for i in range(1,1000000):\n",
    "    if i%100000==0: # if  i is divisble by 100000, then do the next step\n",
    "        print('I am at step {}'.format(i))\n"
   ]
  },
  {
   "cell_type": "markdown",
   "metadata": {
    "run_control": {
     "frozen": false,
     "read_only": false
    }
   },
   "source": [
    "### c. while loops"
   ]
  },
  {
   "cell_type": "code",
   "execution_count": null,
   "metadata": {
    "run_control": {
     "frozen": false,
     "read_only": false
    }
   },
   "outputs": [],
   "source": [
    "i = 30 # try this with 10 and see what happens\n",
    "while i > -1:\n",
    "    i = i - 1\n",
    "    if i == 20:\n",
    "        break\n",
    "    else:\n",
    "        print(i)\n",
    "else: \n",
    "    print(\"\\n\\nhere I am i: \",i )"
   ]
  },
  {
   "cell_type": "markdown",
   "metadata": {},
   "source": [
    "** Exercise **\n",
    "1. Find the sum of numbers that are divisible by 7 from 1 till 100\n",
    "2. Write a program to prompt for a score between 0.0 and 1.0. If the core is out of range print an error. If the score is between 0.0 and 1.0, print a grade using the following table:\n",
    "Score Grade    \n",
    "\t\t>= 0.9 A   \n",
    "\t\t>= 0.8 B   \n",
    "\t\t>= 0.7 C   \n",
    "\t\t>= 0.6 D   \n",
    "\t\t< 0.6 F  \n",
    "Hint: to get the input from user in python  \n",
    "age = input(\"What is your age?\") "
   ]
  },
  {
   "cell_type": "markdown",
   "metadata": {
    "run_control": {
     "frozen": false,
     "read_only": false
    }
   },
   "source": [
    "# Data Structures"
   ]
  },
  {
   "cell_type": "markdown",
   "metadata": {
    "run_control": {
     "frozen": false,
     "read_only": false
    }
   },
   "source": [
    " **list --> [1,2,'a',\"hello\"]**\n",
    " - comma-separated values(items) between square brackets\n",
    " - can include different types \n",
    " - preserves the order of the items\n",
    " - can include duplicate items\n",
    " \n",
    " - <b>The list is a mutable object</b>\n",
    " \n",
    " **TODO**: Read about the list and its methods on [Python Docs](https://docs.python.org/2/tutorial/datastructures.html)\n",
    " "
   ]
  },
  {
   "cell_type": "code",
   "execution_count": null,
   "metadata": {
    "run_control": {
     "frozen": false,
     "read_only": false
    }
   },
   "outputs": [],
   "source": [
    "a = [1,5,2,8,\"I am an element in this list\",'a',9,9 , [\"22\",22]]"
   ]
  },
  {
   "cell_type": "code",
   "execution_count": null,
   "metadata": {},
   "outputs": [],
   "source": [
    "#print the 3rd element of a (remember, we start counting from 0)\n",
    "print(a[2])"
   ]
  },
  {
   "cell_type": "code",
   "execution_count": null,
   "metadata": {},
   "outputs": [],
   "source": [
    "#print the last element of a\n",
    "print(a[-1])"
   ]
  },
  {
   "cell_type": "code",
   "execution_count": null,
   "metadata": {
    "run_control": {
     "frozen": false,
     "read_only": false
    }
   },
   "outputs": [],
   "source": [
    "#It's a list of list, get the first element of the last element\n",
    "print(a[-1][0])"
   ]
  },
  {
   "cell_type": "code",
   "execution_count": null,
   "metadata": {
    "run_control": {
     "frozen": false,
     "read_only": false
    }
   },
   "outputs": [],
   "source": [
    "a[1] = 10 #list index starts from zero\n",
    "a"
   ]
  },
  {
   "cell_type": "markdown",
   "metadata": {
    "run_control": {
     "frozen": false,
     "read_only": false
    }
   },
   "source": [
    "You can slice the lists"
   ]
  },
  {
   "cell_type": "code",
   "execution_count": null,
   "metadata": {
    "run_control": {
     "frozen": false,
     "read_only": false
    }
   },
   "outputs": [],
   "source": [
    "print(a[1:5:2]) #start from the 2nd element and access every second element till 5th element\n",
    "print(a[1:8]) #till the last element (including the last element)\n"
   ]
  },
  {
   "cell_type": "code",
   "execution_count": null,
   "metadata": {},
   "outputs": [],
   "source": [
    "a[1::2] # What does this do?"
   ]
  },
  {
   "cell_type": "code",
   "execution_count": null,
   "metadata": {
    "run_control": {
     "frozen": false,
     "read_only": false
    }
   },
   "outputs": [],
   "source": [
    "print (a[-1::-1]) # what does that do?"
   ]
  },
  {
   "cell_type": "markdown",
   "metadata": {
    "run_control": {
     "frozen": false,
     "read_only": false
    }
   },
   "source": [
    "### List Methods"
   ]
  },
  {
   "cell_type": "code",
   "execution_count": null,
   "metadata": {},
   "outputs": [],
   "source": [
    "a = [10,5,4,7,8,\"BMW\",\"Porsche\",0,0]"
   ]
  },
  {
   "cell_type": "code",
   "execution_count": null,
   "metadata": {},
   "outputs": [],
   "source": [
    "a.append(\"Dacia\")"
   ]
  },
  {
   "cell_type": "code",
   "execution_count": null,
   "metadata": {},
   "outputs": [],
   "source": [
    "a"
   ]
  },
  {
   "cell_type": "code",
   "execution_count": null,
   "metadata": {},
   "outputs": [],
   "source": [
    "a.insert(3,-99)\n",
    "a"
   ]
  },
  {
   "cell_type": "code",
   "execution_count": null,
   "metadata": {},
   "outputs": [],
   "source": [
    "x = a.pop()\n",
    "print(x,'\\n', a)"
   ]
  },
  {
   "cell_type": "code",
   "execution_count": null,
   "metadata": {},
   "outputs": [],
   "source": [
    "dummy_list = a\n",
    "is_list = True\n",
    "while is_list:\n",
    "    print(dummy_list.pop())\n",
    "    if len(dummy_list)==0: is_list = False\n",
    "\n",
    "print('This is the list at the end:',dummy_list)"
   ]
  },
  {
   "cell_type": "code",
   "execution_count": null,
   "metadata": {},
   "outputs": [],
   "source": [
    "### What happend to a?\n",
    "print(a)"
   ]
  },
  {
   "cell_type": "code",
   "execution_count": null,
   "metadata": {},
   "outputs": [],
   "source": [
    "print(id(a))\n",
    "print(id(dummy_list))"
   ]
  },
  {
   "cell_type": "code",
   "execution_count": null,
   "metadata": {},
   "outputs": [],
   "source": [
    "a = [10,5,4,7,8,\"BMW\",\"Porsche\",0,0]\n",
    "dummy_list = a.copy()\n",
    "is_list = True\n",
    "while is_list:\n",
    "    print(dummy_list.pop())\n",
    "    if len(dummy_list)==0: is_list = False\n",
    "\n",
    "print('This is the list at the end:',dummy_list)\n",
    "print('This is the list at the end:',a)\n",
    "print('ID of a:', id(a))\n",
    "print('ID of dummy_list:',id(dummy_list))"
   ]
  },
  {
   "cell_type": "code",
   "execution_count": null,
   "metadata": {},
   "outputs": [],
   "source": [
    "# let's make sure we have a again\n",
    "a = [10,5,4,7,8,0,0]"
   ]
  },
  {
   "cell_type": "code",
   "execution_count": null,
   "metadata": {},
   "outputs": [],
   "source": [
    "a.insert(3,-99)\n",
    "a"
   ]
  },
  {
   "cell_type": "code",
   "execution_count": null,
   "metadata": {},
   "outputs": [],
   "source": [
    "a.extend([1,1,1])\n",
    "a"
   ]
  },
  {
   "cell_type": "code",
   "execution_count": null,
   "metadata": {},
   "outputs": [],
   "source": [
    "print(a.count(1))"
   ]
  },
  {
   "cell_type": "code",
   "execution_count": null,
   "metadata": {},
   "outputs": [],
   "source": [
    "a.sort(reverse=False)\n",
    "a"
   ]
  },
  {
   "cell_type": "code",
   "execution_count": null,
   "metadata": {},
   "outputs": [],
   "source": [
    "min(a), max(a)"
   ]
  },
  {
   "cell_type": "markdown",
   "metadata": {
    "run_control": {
     "frozen": false,
     "read_only": false
    }
   },
   "source": [
    "### Lists are very handy in for loops"
   ]
  },
  {
   "cell_type": "code",
   "execution_count": null,
   "metadata": {},
   "outputs": [],
   "source": [
    "car_brands = ['Audi','BMW', 'VW', 'Porsche', 'Volvo']"
   ]
  },
  {
   "cell_type": "code",
   "execution_count": null,
   "metadata": {
    "run_control": {
     "frozen": false,
     "read_only": false
    }
   },
   "outputs": [],
   "source": [
    "#search for a value in the list\n",
    "#oldschool way\n",
    "missing_key = \"BMW\"\n",
    "for i in car_brands:\n",
    "    if i == missing_key:\n",
    "        print(\"The key has been found\")\n",
    "        break\n",
    "else:\n",
    "    print(\"The key couldn't be found\")"
   ]
  },
  {
   "cell_type": "code",
   "execution_count": null,
   "metadata": {
    "run_control": {
     "frozen": false,
     "read_only": false
    }
   },
   "outputs": [],
   "source": [
    "#python way\n",
    "missing_key = \"BMW\"\n",
    "if missing_key in car_brands:\n",
    "    print(\"The key has been found\")\n",
    "else:\n",
    "    print(\"The key couldn't be found\")"
   ]
  },
  {
   "cell_type": "code",
   "execution_count": null,
   "metadata": {
    "run_control": {
     "frozen": false,
     "read_only": false
    }
   },
   "outputs": [],
   "source": [
    "car_brands.index(\"BMW\")"
   ]
  },
  {
   "cell_type": "code",
   "execution_count": null,
   "metadata": {
    "run_control": {
     "frozen": false,
     "read_only": false
    }
   },
   "outputs": [],
   "source": [
    "#what do you think this does?\n",
    "print(car_brands + car_brands)"
   ]
  },
  {
   "cell_type": "markdown",
   "metadata": {
    "run_control": {
     "frozen": false,
     "read_only": false
    }
   },
   "source": [
    "**Tuple --> (1,2,'a',\"hello\")**\n",
    "- Tuples are immutable (you cant add/remove/replace elements)\n",
    "- Tuples are handy when you need to return multiple elements from your Python function\n"
   ]
  },
  {
   "cell_type": "code",
   "execution_count": null,
   "metadata": {
    "run_control": {
     "frozen": false,
     "read_only": false
    },
    "scrolled": true
   },
   "outputs": [],
   "source": [
    "b = (1,2,'a',\"hello\",(4,5))\n",
    "t = (1,2,3)\n",
    "t = (4,5,6)\n",
    "\n",
    "x,y = (4.6,9.2)\n",
    "\n",
    "#b[1]\n",
    "#b[1]=7\n",
    "#b[-1]  \n",
    "#b = t\n",
    "#print b"
   ]
  },
  {
   "cell_type": "code",
   "execution_count": null,
   "metadata": {},
   "outputs": [],
   "source": [
    "print(x)\n",
    "print(y)"
   ]
  },
  {
   "cell_type": "markdown",
   "metadata": {
    "run_control": {
     "frozen": false,
     "read_only": false
    }
   },
   "source": [
    "**Set --> set([1,2,'a',\"hello\"])**\n",
    "- A set is an unordered collection with no duplicate elements. \n",
    "- Basic uses include membership testing and eliminating duplicate entries.\n"
   ]
  },
  {
   "cell_type": "code",
   "execution_count": null,
   "metadata": {
    "run_control": {
     "frozen": false,
     "read_only": false
    }
   },
   "outputs": [],
   "source": [
    "basket = ['apple', 'orange', 'apple', 'pear', 'orange', 'banana']\n",
    "fruit = set(basket)\n",
    "print(fruit)"
   ]
  },
  {
   "cell_type": "code",
   "execution_count": null,
   "metadata": {},
   "outputs": [],
   "source": [
    "basket_a = {'apple', 'orange', 'apple', 'pear', 'orange', 'banana'}\n",
    "basket_b = {'watermellon', 'orange', 'orange','banana'}\n"
   ]
  },
  {
   "cell_type": "code",
   "execution_count": null,
   "metadata": {},
   "outputs": [],
   "source": [
    "basket_a.intersection(basket_b)"
   ]
  },
  {
   "cell_type": "code",
   "execution_count": null,
   "metadata": {},
   "outputs": [],
   "source": [
    "basket_a.difference(basket_b)"
   ]
  },
  {
   "cell_type": "markdown",
   "metadata": {
    "run_control": {
     "frozen": false,
     "read_only": false
    }
   },
   "source": [
    "**Dictionary** --> {'1':'orange','2':'apple',100:'mellon'}\n",
    "- It is best to think of a dictionary as an unordered set of key: value pairs\n",
    "- The keys must be unique \n",
    "- A pair of braces creates an empty dictionary: {}\n",
    "- The main operations on a dictionary are storing a value with some key and extracting the value given the key\n",
    "- It is also possible to delete a key:value pair with del\n",
    "- If you store using a key that is already in use, the old value associated with that key is forgotten\n",
    "- It is an error to extract a value using a non-existent key"
   ]
  },
  {
   "cell_type": "code",
   "execution_count": null,
   "metadata": {
    "run_control": {
     "frozen": false,
     "read_only": false
    }
   },
   "outputs": [],
   "source": [
    "c = {'fruit_1':'orange','fruit_2':'apple',3:'mellon','car':9}\n",
    "c['fruit_3'] = 'apple' \n",
    "\n"
   ]
  },
  {
   "cell_type": "code",
   "execution_count": null,
   "metadata": {},
   "outputs": [],
   "source": [
    "print(c['fruit_2'])\n",
    "print(c)"
   ]
  },
  {
   "cell_type": "markdown",
   "metadata": {
    "run_control": {
     "frozen": false,
     "read_only": false
    }
   },
   "source": [
    "**TODO** Read the dictionary on [Python Docs](https://docs.python.org/2/tutorial/datastructures.html)"
   ]
  },
  {
   "cell_type": "markdown",
   "metadata": {},
   "source": [
    "** Exercise **\n",
    "1. Write a Python program to get the largest number from a list.\n",
    "2. Write a Python program to remove duplicates from a list if the list is not empty.\n",
    "3. Write a Python program to generate and print a list of first and last 5 elements where the values are square of numbers between 1 and 25 (both included).\n",
    "4. a. Create a new dictionary called prices and put these values in your prices dictionary:   \n",
    "   \n",
    "\"banana\": 2.17,   \n",
    "\t\"apple\": 1.08,   \n",
    "\t\"orange\": 0.54,   \n",
    "\t\"pear\": 1   \n",
    "   \n",
    "b. Loop through each key in prices. For each key, print out the key along with its price   \n",
    "c. Let's determine how much money you would make if you sold all of your food.   \n"
   ]
  },
  {
   "cell_type": "markdown",
   "metadata": {
    "run_control": {
     "frozen": false,
     "read_only": false
    }
   },
   "source": [
    "## 7. Functions"
   ]
  },
  {
   "cell_type": "markdown",
   "metadata": {
    "run_control": {
     "frozen": false,
     "read_only": false
    }
   },
   "source": [
    "- Functions are blocks of code identified by a name, which can receive predetermined parameters.\n",
    "- Can return objects or not.\n",
    "- Accepted Doc Strings.\n",
    "- Accepts optional parameters (with defaults ). If no parameter is passed, it will be equal to the default defined in the function.\n",
    "- Accepts parameters to be passed by name. In this case, the order in which the parameters were passed does not matter.\n"
   ]
  },
  {
   "cell_type": "markdown",
   "metadata": {
    "run_control": {
     "frozen": false,
     "read_only": false
    }
   },
   "source": [
    "** Important ** Always document your function with Doc Strings as follows\n"
   ]
  },
  {
   "cell_type": "code",
   "execution_count": null,
   "metadata": {
    "run_control": {
     "frozen": false,
     "read_only": false
    }
   },
   "outputs": [],
   "source": [
    "import math\n",
    "def pythagoras(a,b=4):\n",
    "    \"\"\"\n",
    "    Calculates the length of the hypotenuse from the given legths of other two sides.\n",
    "   \n",
    "    Example: \n",
    "        pythagoras(3,4) -> sqrt(3^2,4^2) = 5 \n",
    "    \n",
    "    Arguments:\n",
    "        a (float): one of the sides\n",
    "        b (float): the other side\n",
    "        \n",
    "    Returns:\n",
    "        c (float): the lenth of the hypotenuse\n",
    "    \"\"\"\n",
    "    c = math.sqrt(a**2 + b**2)\n",
    "    return c"
   ]
  },
  {
   "cell_type": "code",
   "execution_count": null,
   "metadata": {
    "run_control": {
     "frozen": false,
     "read_only": false
    }
   },
   "outputs": [],
   "source": [
    "print(pythagoras(3))"
   ]
  },
  {
   "cell_type": "code",
   "execution_count": null,
   "metadata": {},
   "outputs": [],
   "source": [
    "print(pythagoras(3,4))"
   ]
  },
  {
   "cell_type": "code",
   "execution_count": null,
   "metadata": {},
   "outputs": [],
   "source": [
    "def find(customer_id, customers_list,other_parameters=\"asads\"):\n",
    "    if customer_id and customers_list:\n",
    "        return customer_id in customers_list"
   ]
  },
  {
   "cell_type": "code",
   "execution_count": null,
   "metadata": {},
   "outputs": [],
   "source": [
    "find(customer_id = 10, customers_list = range(1,20,1))"
   ]
  },
  {
   "cell_type": "markdown",
   "metadata": {},
   "source": [
    "#### Anonymous Functions"
   ]
  },
  {
   "cell_type": "code",
   "execution_count": null,
   "metadata": {},
   "outputs": [],
   "source": [
    "f = lambda x: x*4 # even functions are objects in Python!"
   ]
  },
  {
   "cell_type": "code",
   "execution_count": null,
   "metadata": {},
   "outputs": [],
   "source": [
    "f(8)"
   ]
  },
  {
   "cell_type": "markdown",
   "metadata": {},
   "source": [
    "# Exercise\n",
    "\n",
    "In a linear regression\n",
    "\n",
    "$$y = ax+b$$\n",
    "\n",
    "\n",
    "there exists an analytical solution to compute the slope coefficient (`a`) and the intercept (`b`), which is given by the following equations\n",
    "\n",
    "\n",
    "$$b = \\frac{(\\sum y)(\\sum x^{2}) - (\\sum x)(\\sum xy)}{n(\\sum x^{2})-(\\sum x)^{2}}$$\n",
    "\n",
    "and\n",
    "\n",
    "$$a = \\frac{n (\\sum  xy) - (\\sum x)(\\sum y)}{n(\\sum x^{2}) - (\\sum x)^2}$$\n",
    "\n",
    "Write a function that takes six coordinate pairs (x,y) and computes the slope"
   ]
  },
  {
   "cell_type": "code",
   "execution_count": null,
   "metadata": {
    "ExecuteTime": {
     "end_time": "2019-06-25T12:33:16.822884Z",
     "start_time": "2019-06-25T12:33:16.815136Z"
    }
   },
   "outputs": [],
   "source": [
    "coordinates_1 = [(0,1),(1,3),(2,5),(3,7), (4,9),(5,11)]\n",
    "coordinates_2 = [(10,5),(11,4),(12,3),(13,2), (14,1),(15,0)]\n",
    "\n",
    "\n",
    "def compute_slope():\n",
    "    \n",
    "   <...> your code here\n",
    "\n",
    "def compute_intercept():\n",
    "   <...>  your code here\n"
   ]
  },
  {
   "cell_type": "markdown",
   "metadata": {},
   "source": [
    "#### If it helps, you can also visualize it"
   ]
  },
  {
   "cell_type": "code",
   "execution_count": null,
   "metadata": {
    "ExecuteTime": {
     "end_time": "2019-06-25T12:36:51.554370Z",
     "start_time": "2019-06-25T12:36:51.413895Z"
    }
   },
   "outputs": [],
   "source": [
    "from plotting import plot_linear_regression\n",
    "\n",
    "slope = compute_slope(*coordinates_2)\n",
    "intercept = compute_intercept(*coordinates_2)\n",
    "plot_linear_regression(slope, intercept, coordinates_2)"
   ]
  },
  {
   "cell_type": "markdown",
   "metadata": {
    "ExecuteTime": {
     "end_time": "2019-06-25T12:35:30.754179Z",
     "start_time": "2019-06-25T12:35:30.752025Z"
    }
   },
   "source": [
    "### If the following test passes (ie no error is thrown, then your code works)"
   ]
  },
  {
   "cell_type": "code",
   "execution_count": null,
   "metadata": {
    "ExecuteTime": {
     "end_time": "2019-06-25T12:35:35.682462Z",
     "start_time": "2019-06-25T12:35:35.680137Z"
    }
   },
   "outputs": [],
   "source": [
    "assert(compute_slope(*coordinates_1)==2.0)\n",
    "assert(compute_slope(*coordinates_2)==-1.0)"
   ]
  },
  {
   "cell_type": "markdown",
   "metadata": {
    "ExecuteTime": {
     "end_time": "2019-06-25T12:43:42.917605Z",
     "start_time": "2019-06-25T12:43:42.913719Z"
    }
   },
   "source": [
    "# Extra exercise\n",
    "\n",
    "If this is easy, try making th function accept any number of coordinates (not only limited to 6).<br>\n",
    "**TIP** Learn about `*args` and `**kwargs`"
   ]
  },
  {
   "cell_type": "markdown",
   "metadata": {},
   "source": [
    "# Advanced Python"
   ]
  },
  {
   "cell_type": "markdown",
   "metadata": {
    "run_control": {
     "frozen": false,
     "read_only": false
    }
   },
   "source": [
    "##  Exception Handling"
   ]
  },
  {
   "cell_type": "markdown",
   "metadata": {
    "run_control": {
     "frozen": false,
     "read_only": false
    }
   },
   "source": [
    "- Exception handling is essential for quality coding. Dont mind spending little time on writing exception handling.\n",
    "- Make the cause of the exception clear for the user "
   ]
  },
  {
   "cell_type": "code",
   "execution_count": null,
   "metadata": {
    "run_control": {
     "frozen": false,
     "read_only": false
    }
   },
   "outputs": [],
   "source": [
    "import pandas as pd\n",
    "import numpy.random as nprnd\n",
    "import timeit\n",
    "import os"
   ]
  },
  {
   "cell_type": "code",
   "execution_count": null,
   "metadata": {
    "run_control": {
     "frozen": false,
     "read_only": false
    }
   },
   "outputs": [],
   "source": [
    "df2 = pd.read_csv(\"ANAF2.txt\",delimiter='\\t')"
   ]
  },
  {
   "cell_type": "code",
   "execution_count": null,
   "metadata": {
    "run_control": {
     "frozen": false,
     "read_only": false
    }
   },
   "outputs": [],
   "source": [
    "try:\n",
    "    df2 = pd.read_csv(\"ANAF2.txt\",delimiter='\\t')\n",
    "except IOError as err:\n",
    "    print(\"couldnt read the file: \" + str(err))\n"
   ]
  },
  {
   "cell_type": "markdown",
   "metadata": {},
   "source": [
    "### Exercise: fix the code below to catch properly the exceptions"
   ]
  },
  {
   "cell_type": "code",
   "execution_count": null,
   "metadata": {},
   "outputs": [],
   "source": [
    "actor = {\"name\": \"John Cleese\", \"rank\": \"awesome\"} #setup\n",
    "\n",
    "def get_last_name():\n",
    "    return actor[\"last_name\"]\n",
    "\n",
    "#Test code\n",
    "get_last_name()\n",
    "print(\"All exceptions caught! Good job!\")\n",
    "print(\"The actor's last name is %s\" % get_last_name())\n"
   ]
  },
  {
   "cell_type": "markdown",
   "metadata": {
    "run_control": {
     "frozen": false,
     "read_only": false
    }
   },
   "source": [
    "## 9. Functional Programming Basics\n"
   ]
  },
  {
   "cell_type": "markdown",
   "metadata": {},
   "source": [
    "\"In a functional program, input flows through a set of functions. Each function operates on its input and produces some output. Functional style discourages functions with side effects that modify internal state or make other changes that aren’t visible in the function’s return value. Functions that have no side effects at all are called purely functional. Avoiding side effects means not using data structures that get updated as a program runs; every function’s output must only depend on its input.\""
   ]
  },
  {
   "cell_type": "markdown",
   "metadata": {},
   "source": [
    "### List Comprehensions"
   ]
  },
  {
   "cell_type": "markdown",
   "metadata": {
    "run_control": {
     "frozen": false,
     "read_only": false
    }
   },
   "source": [
    "List comprehensions are a tool for transforming one list (any iterable actually) into another list. During this transformation, elements can be conditionally included in the new list and each element can be transformed as needed."
   ]
  },
  {
   "cell_type": "code",
   "execution_count": null,
   "metadata": {
    "ExecuteTime": {
     "end_time": "2019-06-25T11:11:36.965176Z",
     "start_time": "2019-06-25T11:11:36.962976Z"
    },
    "run_control": {
     "frozen": false,
     "read_only": false
    }
   },
   "outputs": [],
   "source": [
    "numbers = range(1,10)"
   ]
  },
  {
   "cell_type": "code",
   "execution_count": null,
   "metadata": {
    "ExecuteTime": {
     "end_time": "2019-06-25T11:11:37.277201Z",
     "start_time": "2019-06-25T11:11:37.270426Z"
    },
    "run_control": {
     "frozen": false,
     "read_only": false
    }
   },
   "outputs": [],
   "source": [
    "numbers"
   ]
  },
  {
   "cell_type": "code",
   "execution_count": null,
   "metadata": {
    "ExecuteTime": {
     "end_time": "2019-06-25T11:11:37.569567Z",
     "start_time": "2019-06-25T11:11:37.566112Z"
    },
    "run_control": {
     "frozen": false,
     "read_only": false
    }
   },
   "outputs": [],
   "source": [
    "[x**2 for x in numbers if x%2 == 1]"
   ]
  },
  {
   "cell_type": "markdown",
   "metadata": {
    "run_control": {
     "frozen": false,
     "read_only": false
    }
   },
   "source": [
    "Every list comprehension can be rewritten as a for loop but not every for loop can be rewritten as a list comprehension.\n",
    "\n"
   ]
  },
  {
   "cell_type": "code",
   "execution_count": null,
   "metadata": {
    "ExecuteTime": {
     "end_time": "2019-06-25T11:11:39.221564Z",
     "start_time": "2019-06-25T11:11:39.218063Z"
    },
    "run_control": {
     "frozen": false,
     "read_only": false
    }
   },
   "outputs": [],
   "source": [
    "squared_odds = []\n",
    "for n in numbers:\n",
    "    if n % 2 == 1:\n",
    "        squared_odds.append(n ** 2)\n",
    "\n",
    "squared_odds"
   ]
  },
  {
   "cell_type": "markdown",
   "metadata": {
    "run_control": {
     "frozen": false,
     "read_only": false
    }
   },
   "source": [
    "** <font color=\"#ff6600\"> new_list = [\"something with \" + ITEM for ITEM in old_list if a_condition(ITEM)] </font> **\n"
   ]
  },
  {
   "cell_type": "code",
   "execution_count": null,
   "metadata": {
    "ExecuteTime": {
     "end_time": "2019-06-25T11:11:40.050472Z",
     "start_time": "2019-06-25T11:11:40.047405Z"
    },
    "run_control": {
     "frozen": false,
     "read_only": false
    },
    "scrolled": true
   },
   "outputs": [],
   "source": [
    "#the condition is not an obligation!\n",
    "[x for x in numbers]"
   ]
  },
  {
   "cell_type": "markdown",
   "metadata": {
    "run_control": {
     "frozen": false,
     "read_only": false
    }
   },
   "source": [
    "### Lambda, Map, Reduce, Filter"
   ]
  },
  {
   "cell_type": "markdown",
   "metadata": {
    "run_control": {
     "frozen": false,
     "read_only": false
    }
   },
   "source": [
    "Let's create anonymous functions (i.e. functions that are not bound to a name) at runtime, using a construct called \"lambda\"."
   ]
  },
  {
   "cell_type": "code",
   "execution_count": null,
   "metadata": {
    "ExecuteTime": {
     "end_time": "2019-06-25T11:11:41.121873Z",
     "start_time": "2019-06-25T11:11:41.119720Z"
    },
    "run_control": {
     "frozen": false,
     "read_only": false
    }
   },
   "outputs": [],
   "source": [
    "doubler = lambda x: x * 2"
   ]
  },
  {
   "cell_type": "code",
   "execution_count": null,
   "metadata": {
    "ExecuteTime": {
     "end_time": "2019-06-25T11:11:41.474665Z",
     "start_time": "2019-06-25T11:11:41.471620Z"
    },
    "run_control": {
     "frozen": false,
     "read_only": false
    }
   },
   "outputs": [],
   "source": [
    "type(doubler)"
   ]
  },
  {
   "cell_type": "markdown",
   "metadata": {
    "run_control": {
     "frozen": false,
     "read_only": false
    }
   },
   "source": [
    "Lambda definition does not include a \"return\" statement -- it always contains an expression which is returned."
   ]
  },
  {
   "cell_type": "code",
   "execution_count": null,
   "metadata": {
    "ExecuteTime": {
     "end_time": "2019-06-25T11:11:44.839371Z",
     "start_time": "2019-06-25T11:11:44.836334Z"
    },
    "run_control": {
     "frozen": false,
     "read_only": false
    }
   },
   "outputs": [],
   "source": [
    "doubler(8)"
   ]
  },
  {
   "cell_type": "code",
   "execution_count": null,
   "metadata": {
    "ExecuteTime": {
     "end_time": "2019-06-25T11:11:47.736368Z",
     "start_time": "2019-06-25T11:11:47.734246Z"
    },
    "run_control": {
     "frozen": false,
     "read_only": false
    }
   },
   "outputs": [],
   "source": [
    "multiplier = lambda x,y: x*y "
   ]
  },
  {
   "cell_type": "code",
   "execution_count": null,
   "metadata": {
    "ExecuteTime": {
     "end_time": "2019-06-25T11:11:48.012142Z",
     "start_time": "2019-06-25T11:11:48.008904Z"
    },
    "run_control": {
     "frozen": false,
     "read_only": false
    }
   },
   "outputs": [],
   "source": [
    "multiplier(3,2)"
   ]
  },
  {
   "cell_type": "markdown",
   "metadata": {
    "run_control": {
     "frozen": false,
     "read_only": false
    }
   },
   "source": [
    "** MAP **"
   ]
  },
  {
   "cell_type": "markdown",
   "metadata": {
    "run_control": {
     "frozen": false,
     "read_only": false
    }
   },
   "source": [
    "Apply the given function to every element in the given list"
   ]
  },
  {
   "cell_type": "code",
   "execution_count": null,
   "metadata": {
    "ExecuteTime": {
     "end_time": "2019-06-25T11:11:48.921300Z",
     "start_time": "2019-06-25T11:11:48.918989Z"
    },
    "run_control": {
     "frozen": false,
     "read_only": false
    }
   },
   "outputs": [],
   "source": [
    "def power_x(x):\n",
    "    return x**2"
   ]
  },
  {
   "cell_type": "code",
   "execution_count": null,
   "metadata": {
    "ExecuteTime": {
     "end_time": "2019-06-25T11:11:49.682054Z",
     "start_time": "2019-06-25T11:11:49.678846Z"
    },
    "run_control": {
     "frozen": false,
     "read_only": false
    }
   },
   "outputs": [],
   "source": [
    "map(power_x,numbers)"
   ]
  },
  {
   "cell_type": "markdown",
   "metadata": {
    "run_control": {
     "frozen": false,
     "read_only": false
    }
   },
   "source": [
    "We can also use lambda functions!"
   ]
  },
  {
   "cell_type": "code",
   "execution_count": null,
   "metadata": {
    "ExecuteTime": {
     "end_time": "2019-06-25T11:11:55.393096Z",
     "start_time": "2019-06-25T11:11:55.389070Z"
    },
    "run_control": {
     "frozen": false,
     "read_only": false
    }
   },
   "outputs": [],
   "source": [
    "map(lambda x: x**2, numbers)"
   ]
  },
  {
   "cell_type": "markdown",
   "metadata": {
    "run_control": {
     "frozen": false,
     "read_only": false
    }
   },
   "source": [
    "** Filter **"
   ]
  },
  {
   "cell_type": "markdown",
   "metadata": {
    "run_control": {
     "frozen": false,
     "read_only": false
    }
   },
   "source": [
    "Filter calls the lambda function for each element of the list, and returns a new list that contains only those elements for which the function returned \"True\"."
   ]
  },
  {
   "cell_type": "code",
   "execution_count": null,
   "metadata": {
    "ExecuteTime": {
     "end_time": "2019-06-25T11:11:58.521140Z",
     "start_time": "2019-06-25T11:11:58.517671Z"
    },
    "run_control": {
     "frozen": false,
     "read_only": false
    }
   },
   "outputs": [],
   "source": [
    "filter(lambda x: x%3==0,numbers)"
   ]
  },
  {
   "cell_type": "markdown",
   "metadata": {
    "run_control": {
     "frozen": false,
     "read_only": false
    }
   },
   "source": [
    "** Reduce **"
   ]
  },
  {
   "cell_type": "code",
   "execution_count": null,
   "metadata": {
    "ExecuteTime": {
     "end_time": "2019-06-25T11:11:59.417575Z",
     "start_time": "2019-06-25T11:11:59.415860Z"
    }
   },
   "outputs": [],
   "source": [
    "from functools import reduce"
   ]
  },
  {
   "cell_type": "markdown",
   "metadata": {
    "run_control": {
     "frozen": false,
     "read_only": false
    }
   },
   "source": [
    " The function is called with the first two elements from the list, then with the result of that call and the third element, and so on, until all of the list elements have been handled. This means that our function is called n-1 times if the list contains n elements. The return value of the last call is the result of the reduce() construct."
   ]
  },
  {
   "cell_type": "code",
   "execution_count": null,
   "metadata": {
    "ExecuteTime": {
     "end_time": "2019-06-25T11:12:18.159152Z",
     "start_time": "2019-06-25T11:12:18.155257Z"
    },
    "run_control": {
     "frozen": false,
     "read_only": false
    }
   },
   "outputs": [],
   "source": [
    "reduce(lambda x,y: x + y , numbers)"
   ]
  },
  {
   "cell_type": "code",
   "execution_count": null,
   "metadata": {
    "run_control": {
     "frozen": false,
     "read_only": false
    }
   },
   "outputs": [],
   "source": [
    "def sum(x,y):\n",
    "    return x+y\n",
    "\n",
    "reduce(sum,numbers)"
   ]
  },
  {
   "cell_type": "code",
   "execution_count": null,
   "metadata": {
    "run_control": {
     "frozen": false,
     "read_only": false
    }
   },
   "outputs": [],
   "source": [
    "\n",
    "reduce(lambda x,y: x + y,[1,2,4]) \n",
    "\n",
    "#first does 1 + 2 = 3\n",
    "#then 3 + 4 = 7"
   ]
  },
  {
   "cell_type": "code",
   "execution_count": null,
   "metadata": {},
   "outputs": [],
   "source": []
  },
  {
   "cell_type": "markdown",
   "metadata": {
    "run_control": {
     "frozen": false,
     "read_only": false
    }
   },
   "source": [
    "# 10. Modules and Virtual Environments"
   ]
  },
  {
   "cell_type": "markdown",
   "metadata": {
    "run_control": {
     "frozen": false,
     "read_only": false
    }
   },
   "source": [
    "The modules are loaded with the import statement. Thus, when using a module structure, it is necessary to identify the module. This is called absolute import."
   ]
  },
  {
   "cell_type": "code",
   "execution_count": null,
   "metadata": {
    "run_control": {
     "frozen": false,
     "read_only": false
    }
   },
   "outputs": [],
   "source": [
    "import os #import the os module\n",
    "os.listdir('.') #when using a module structure, it is necessary to identify the module. This is called absolute import."
   ]
  },
  {
   "cell_type": "code",
   "execution_count": null,
   "metadata": {
    "run_control": {
     "frozen": false,
     "read_only": false
    }
   },
   "outputs": [],
   "source": [
    "from numpy import random #You can also import modules with relative form:\n",
    "#import numpy\n",
    "random.randn(10,10)"
   ]
  },
  {
   "cell_type": "code",
   "execution_count": null,
   "metadata": {},
   "outputs": [],
   "source": [
    "import numpy as np #you can use the modules with the custom name you give\n",
    "np.random.randint(100)"
   ]
  },
  {
   "cell_type": "markdown",
   "metadata": {
    "run_control": {
     "frozen": false,
     "read_only": false
    }
   },
   "source": [
    "#### Python Virtual Environments"
   ]
  },
  {
   "cell_type": "markdown",
   "metadata": {
    "run_control": {
     "frozen": false,
     "read_only": false
    }
   },
   "source": [
    "Virtual Environment is a tool to keep dependencies on different modules and versions separate for each project. So that projects have their own isolated environments and istalling different libraries for one project does not affect the others."
   ]
  },
  {
   "cell_type": "markdown",
   "metadata": {
    "run_control": {
     "frozen": false,
     "read_only": false
    }
   },
   "source": [
    "We will use Anaconda Python Distribution which includes basic libraries for data science"
   ]
  },
  {
   "cell_type": "code",
   "execution_count": null,
   "metadata": {
    "run_control": {
     "frozen": false,
     "read_only": false
    }
   },
   "outputs": [],
   "source": [
    "%%bash\n",
    "conda -V"
   ]
  },
  {
   "cell_type": "code",
   "execution_count": null,
   "metadata": {
    "run_control": {
     "frozen": false,
     "read_only": false
    }
   },
   "outputs": [],
   "source": [
    "#installing libraries with conda\n",
    "conda install <name of the library>"
   ]
  },
  {
   "cell_type": "markdown",
   "metadata": {
    "run_control": {
     "frozen": false,
     "read_only": false
    }
   },
   "source": [
    "#### create a virtual environment with conda"
   ]
  },
  {
   "cell_type": "markdown",
   "metadata": {
    "run_control": {
     "frozen": false,
     "read_only": false
    }
   },
   "source": [
    "conda create -n yourenvname python=x.x anaconda  \n",
    "( x.x is python version number such as = 2.7)"
   ]
  },
  {
   "cell_type": "markdown",
   "metadata": {
    "run_control": {
     "frozen": false,
     "read_only": false
    }
   },
   "source": [
    "But, our platform has scripts to simply create a python environment with pre-installed libraries -->"
   ]
  },
  {
   "cell_type": "markdown",
   "metadata": {
    "run_control": {
     "frozen": false,
     "read_only": false
    }
   },
   "source": [
    "For creating a default Python2 virtual environment, called condap2   \n",
    "** makepy2.sh  **\n",
    "\n",
    "For creating a default Python3 virtual environment, called condap3  \n",
    "** makepy3.sh **"
   ]
  },
  {
   "cell_type": "markdown",
   "metadata": {
    "run_control": {
     "frozen": false,
     "read_only": false
    }
   },
   "source": [
    "#### activate virtual environment"
   ]
  },
  {
   "cell_type": "code",
   "execution_count": null,
   "metadata": {
    "run_control": {
     "frozen": false,
     "read_only": false
    }
   },
   "outputs": [],
   "source": [
    "%%bash\n",
    "source activate condap2"
   ]
  },
  {
   "cell_type": "markdown",
   "metadata": {
    "run_control": {
     "frozen": false,
     "read_only": false
    }
   },
   "source": [
    "#### de-activate virtual environment"
   ]
  },
  {
   "cell_type": "code",
   "execution_count": null,
   "metadata": {
    "run_control": {
     "frozen": false,
     "read_only": false
    }
   },
   "outputs": [],
   "source": [
    "%%bash\n",
    "source deactivate"
   ]
  },
  {
   "cell_type": "markdown",
   "metadata": {
    "run_control": {
     "frozen": false,
     "read_only": false
    }
   },
   "source": [
    "#### install a library on your virtual environment"
   ]
  },
  {
   "cell_type": "markdown",
   "metadata": {
    "run_control": {
     "frozen": false,
     "read_only": false
    }
   },
   "source": [
    "1. Activate your virtual environment\n",
    "2. conda install \"name of the library\"  (or use pip: pip install \"name of the library\")"
   ]
  },
  {
   "cell_type": "markdown",
   "metadata": {
    "run_control": {
     "frozen": false,
     "read_only": false
    }
   },
   "source": [
    "**list virtual environments**"
   ]
  },
  {
   "cell_type": "code",
   "execution_count": null,
   "metadata": {
    "run_control": {
     "frozen": false,
     "read_only": false
    }
   },
   "outputs": [],
   "source": [
    "%%bash\n",
    "conda env list"
   ]
  },
  {
   "cell_type": "markdown",
   "metadata": {
    "run_control": {
     "frozen": false,
     "read_only": false
    }
   },
   "source": [
    "** Exercises  **\n",
    "\n",
    "    1. Write a program which can map() and filter() to make a list whose elements are square of even number in [1,2,3,4,5,6,7,8,9,10].\n",
    " \n",
    " ____________________________________________________________________\n",
    "\n",
    "    2. Write a program which can filter() to make a list whose elements are even number between 1 and 20 (both included).\n",
    "____________________________________________________________________\n",
    "\n",
    "    3. Write a program which will find all such numbers which are divisible by 7 but are not a multiple of 5,between 2000 and 3200 (both included). The numbers obtained should be printed in a comma-separated sequence on a single line.\n",
    "\n",
    "____________________________________________________________________\n",
    "\n",
    "    4.With a given integral number n, write a program to generate a dictionary that contains (i, i*i) such that is an integral number between 1 and n (both included). and then the program should print the dictionary.\n",
    "\n",
    "    Suppose the following input is supplied to the program: 8\n",
    "    Then, the output should be:\n",
    "    {1: 1, 2: 4, 3: 9, 4: 16, 5: 25, 6: 36, 7: 49, 8: 64}\n",
    "____________________________________________________________________\n",
    "    \n",
    "    5. Write a program that accepts a sequence of whitespace separated words as input and prints the words after removing all duplicate words and sorting them alphanumerically.\n",
    "    \n",
    "    Suppose the following input is supplied to the program:\n",
    "    hello world and practice makes perfect and hello world again\n",
    "    Then, the output should be:\n",
    "    again and hello makes perfect practice world"
   ]
  }
 ],
 "metadata": {
  "anaconda-cloud": {},
  "kernelspec": {
   "display_name": "Python 3",
   "language": "python",
   "name": "python3"
  },
  "language_info": {
   "codemirror_mode": {
    "name": "ipython",
    "version": 3
   },
   "file_extension": ".py",
   "mimetype": "text/x-python",
   "name": "python",
   "nbconvert_exporter": "python",
   "pygments_lexer": "ipython3",
   "version": "3.6.8"
  },
  "latex_envs": {
   "LaTeX_envs_menu_present": true,
   "autoclose": false,
   "autocomplete": true,
   "bibliofile": "biblio.bib",
   "cite_by": "apalike",
   "current_citInitial": 1,
   "eqLabelWithNumbers": true,
   "eqNumInitial": 1,
   "hotkeys": {
    "equation": "Ctrl-E",
    "itemize": "Ctrl-I"
   },
   "labels_anchors": false,
   "latex_user_defs": false,
   "report_style_numbering": false,
   "user_envs_cfg": false
  },
  "toc": {
   "colors": {
    "hover_highlight": "#DAA520",
    "running_highlight": "#FF0000",
    "selected_highlight": "#FFD700"
   },
   "moveMenuLeft": true,
   "nav_menu": {
    "height": "510px",
    "width": "252px"
   },
   "navigate_menu": true,
   "number_sections": true,
   "sideBar": true,
   "threshold": 4,
   "toc_cell": false,
   "toc_section_display": "block",
   "toc_window_display": false
  }
 },
 "nbformat": 4,
 "nbformat_minor": 2
}
