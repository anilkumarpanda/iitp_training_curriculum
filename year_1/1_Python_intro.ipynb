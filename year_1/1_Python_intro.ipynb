{
  "nbformat": 4,
  "nbformat_minor": 0,
  "metadata": {
    "anaconda-cloud": {},
    "kernelspec": {
      "display_name": "Python [conda env:IITP]",
      "language": "python",
      "name": "conda-env-IITP-py"
    },
    "language_info": {
      "codemirror_mode": {
        "name": "ipython",
        "version": 3
      },
      "file_extension": ".py",
      "mimetype": "text/x-python",
      "name": "python",
      "nbconvert_exporter": "python",
      "pygments_lexer": "ipython3",
      "version": "3.6.5"
    },
    "toc": {
      "colors": {
        "hover_highlight": "#DAA520",
        "running_highlight": "#FF0000",
        "selected_highlight": "#FFD700"
      },
      "moveMenuLeft": true,
      "nav_menu": {
        "height": "510px",
        "width": "252px"
      },
      "navigate_menu": true,
      "number_sections": true,
      "sideBar": true,
      "threshold": 4,
      "toc_cell": false,
      "toc_section_display": "block",
      "toc_window_display": false
    },
    "colab": {
      "name": "1_Python_intro.ipynb",
      "provenance": []
    }
  },
  "cells": [
    {
      "cell_type": "markdown",
      "metadata": {
        "run_control": {
          "frozen": false,
          "read_only": false
        },
        "id": "c8C73Eb4riDi",
        "colab_type": "text"
      },
      "source": [
        "# <span style=\"color:#f44259\"> Python Tutorial I: Basics</span>\n",
        "\n",
        "> \"Simplicity is the ultimate sophistication.\"  Leonardo da Vinci\n",
        "\n",
        "> “Always code as if the guy who ends up maintaining your code will be a violent psychopath who knows where you live.”  John Woods"
      ]
    },
    {
      "cell_type": "markdown",
      "metadata": {
        "run_control": {
          "frozen": false,
          "read_only": false
        },
        "id": "62xqeNHBriDk",
        "colab_type": "text"
      },
      "source": [
        "This tutorial introduces Python fundementals in a Jupyter Notebook environment. After following this tutorial, you\n",
        "will be able to write, execute and present simple Python programs in Jupyter Notebooks. "
      ]
    },
    {
      "cell_type": "markdown",
      "metadata": {
        "run_control": {
          "frozen": false,
          "read_only": false
        },
        "id": "ivoKPCFeriDk",
        "colab_type": "text"
      },
      "source": [
        "## 1. Setup Anaconda for Python"
      ]
    },
    {
      "cell_type": "markdown",
      "metadata": {
        "run_control": {
          "frozen": false,
          "read_only": false
        },
        "id": "hk2Ow8F3riDl",
        "colab_type": "text"
      },
      "source": [
        "Anaconda is a free, very-easy-to-install Python distribution, which includes over 720 open source packages. \n",
        "It can be used on Windows, OS X and Linux."
      ]
    },
    {
      "cell_type": "markdown",
      "metadata": {
        "run_control": {
          "frozen": false,
          "read_only": false
        },
        "id": "nai667TMriDm",
        "colab_type": "text"
      },
      "source": [
        "* **TODO**: Download and install Anaconda for Python 2.7 from [Anaconda Webpage](https://docs.continuum.io/anaconda/install)\n",
        "* **TODO**: After installation, click on Launcher and launch Jupyter (Jupyter) notebook "
      ]
    },
    {
      "cell_type": "markdown",
      "metadata": {
        "run_control": {
          "frozen": false,
          "read_only": false
        },
        "id": "8VxQCaaFriDn",
        "colab_type": "text"
      },
      "source": [
        "## 2. Programming Environment: Jupyter (old name: iPython) Notebooks"
      ]
    },
    {
      "cell_type": "markdown",
      "metadata": {
        "run_control": {
          "frozen": false,
          "read_only": false
        },
        "id": "xCB0xhc1riDn",
        "colab_type": "text"
      },
      "source": [
        "Jupyter Notebook is a browser-based Python progamming and presentation environment. \n",
        "It allows you to write Python code, execute that code and present the results in the same web page."
      ]
    },
    {
      "cell_type": "markdown",
      "metadata": {
        "run_control": {
          "frozen": false,
          "read_only": false
        },
        "id": "PqxEGLjSriDo",
        "colab_type": "text"
      },
      "source": [
        "The Jupyter Notebook has two different keyboard input modes: EDIT MODE and COMMAND MODE"
      ]
    },
    {
      "cell_type": "markdown",
      "metadata": {
        "run_control": {
          "frozen": false,
          "read_only": false
        },
        "id": "3GBMC3PjriDo",
        "colab_type": "text"
      },
      "source": [
        "- **Edit mode** allows you to type code/text into a cell and is indicated by a green cell border. \n",
        "You can edit cells in the edit mode by writing text or code."
      ]
    },
    {
      "cell_type": "markdown",
      "metadata": {
        "run_control": {
          "frozen": false,
          "read_only": false
        },
        "id": "9-zL1wUKriDp",
        "colab_type": "text"
      },
      "source": [
        "Exercise: \n",
        "Click on this cell and then press Enter on your keyboard or directly click into the cell to edit it.\n",
        "(delete this)"
      ]
    },
    {
      "cell_type": "markdown",
      "metadata": {
        "run_control": {
          "frozen": false,
          "read_only": false
        },
        "id": "mJou8EW5riDp",
        "colab_type": "text"
      },
      "source": [
        "- **Command mode** binds the keyboard to notebook level actions and is indicated by a grey cell border."
      ]
    },
    {
      "cell_type": "markdown",
      "metadata": {
        "id": "A--_QI-uriDq",
        "colab_type": "raw"
      },
      "source": [
        "Exersice: Click left of the cell below and see the grey border.\n",
        "Then, press ctrl+enter to execute the following Python code"
      ]
    },
    {
      "cell_type": "markdown",
      "metadata": {
        "id": "VsqyHCikriDr",
        "colab_type": "text"
      },
      "source": [
        "# Hello world "
      ]
    },
    {
      "cell_type": "markdown",
      "metadata": {
        "id": "4qAhdzbDriDr",
        "colab_type": "text"
      },
      "source": [
        "### Print statements"
      ]
    },
    {
      "cell_type": "code",
      "metadata": {
        "run_control": {
          "frozen": false,
          "read_only": false
        },
        "id": "WlLN0DFqriDs",
        "colab_type": "code",
        "colab": {
          "base_uri": "https://localhost:8080/",
          "height": 34
        },
        "outputId": "34bef438-c8a9-436f-89fc-6e9b9b5e4fab"
      },
      "source": [
        "print (\"Hello world!\")"
      ],
      "execution_count": 1,
      "outputs": [
        {
          "output_type": "stream",
          "text": [
            "Hello world!\n"
          ],
          "name": "stdout"
        }
      ]
    },
    {
      "cell_type": "markdown",
      "metadata": {
        "run_control": {
          "frozen": false,
          "read_only": false
        },
        "id": "--47xwHTriDu",
        "colab_type": "text"
      },
      "source": [
        "- **Homework**: Click on Help -> Keyboard Shortcuts and read about the keyboard shortcuts."
      ]
    },
    {
      "cell_type": "markdown",
      "metadata": {
        "run_control": {
          "frozen": false,
          "read_only": false
        },
        "id": "QMGTN5E7riDv",
        "colab_type": "text"
      },
      "source": [
        "### Exercise:  \n",
        "\n",
        "a. Make the text on this line bold (Hint: Click on Help -> Markdown )  \n",
        "b. Enter a cell below using the keyboard shortcut and delete it with another shortcut"
      ]
    },
    {
      "cell_type": "markdown",
      "metadata": {
        "run_control": {
          "frozen": false,
          "read_only": false
        },
        "id": "MBtorFIPriDv",
        "colab_type": "text"
      },
      "source": [
        "### Comments"
      ]
    },
    {
      "cell_type": "code",
      "metadata": {
        "run_control": {
          "frozen": false,
          "read_only": false
        },
        "id": "2CNF36-hriDw",
        "colab_type": "code",
        "colab": {}
      },
      "source": [
        "# This is a comment. It means nothing after # is executed\n",
        "\n",
        "#If you dont believe me, run this cell and see"
      ],
      "execution_count": 0,
      "outputs": []
    },
    {
      "cell_type": "markdown",
      "metadata": {
        "run_control": {
          "frozen": false,
          "read_only": false
        },
        "id": "dVZM0UAQriDy",
        "colab_type": "text"
      },
      "source": [
        "**Advice**: Always and always comment your code because CODE CHANGES and the coder too!"
      ]
    },
    {
      "cell_type": "markdown",
      "metadata": {
        "run_control": {
          "frozen": false,
          "read_only": false
        },
        "id": "E3_HFMRDriDy",
        "colab_type": "text"
      },
      "source": [
        "### Printing"
      ]
    },
    {
      "cell_type": "markdown",
      "metadata": {
        "run_control": {
          "frozen": false,
          "read_only": false
        },
        "id": "5CrNj-KLriDz",
        "colab_type": "text"
      },
      "source": [
        "- **TODO**: Run the cell below and fix the error!"
      ]
    },
    {
      "cell_type": "code",
      "metadata": {
        "run_control": {
          "frozen": false,
          "read_only": false
        },
        "id": "Ik5Yq7o9riDz",
        "colab_type": "code",
        "colab": {
          "base_uri": "https://localhost:8080/",
          "height": 34
        },
        "outputId": "50c37c95-8030-4aa8-87ad-4047be64ecb5"
      },
      "source": [
        "print (\"Python is Case-sensitive!\")"
      ],
      "execution_count": 5,
      "outputs": [
        {
          "output_type": "stream",
          "text": [
            "Python is Case-sensitive!\n"
          ],
          "name": "stdout"
        }
      ]
    },
    {
      "cell_type": "markdown",
      "metadata": {
        "run_control": {
          "frozen": false,
          "read_only": false
        },
        "id": "MelwObV6riD2",
        "colab_type": "text"
      },
      "source": [
        "# Variables"
      ]
    },
    {
      "cell_type": "markdown",
      "metadata": {
        "run_control": {
          "frozen": false,
          "read_only": false
        },
        "id": "sp68Q1KLriD2",
        "colab_type": "text"
      },
      "source": [
        "* A variable is a symbol that holds a value. \n",
        "* Variables in the Python are created by assignment. \n",
        "* Python is a dynamically typed language, which means you can assign values/objects of different types to the same variable during the execution of the program.\n",
        "* Variable names must start with letter or underscore (_) and be followed by letters, digits or underscores. \n",
        "* Every variable, indeed everything in Python, is an object"
      ]
    },
    {
      "cell_type": "code",
      "metadata": {
        "id": "r-HOc2vCriD3",
        "colab_type": "code",
        "colab": {}
      },
      "source": [
        "a = 5"
      ],
      "execution_count": 0,
      "outputs": []
    },
    {
      "cell_type": "code",
      "metadata": {
        "run_control": {
          "frozen": false,
          "read_only": false
        },
        "id": "CZffu9kVriD5",
        "colab_type": "code",
        "colab": {}
      },
      "source": [
        "my_integer_variable = 5\n",
        "my_string_variable = \"I am a beautiful string\"\n",
        "my_float_variable = 4.5\n"
      ],
      "execution_count": 0,
      "outputs": []
    },
    {
      "cell_type": "code",
      "metadata": {
        "run_control": {
          "frozen": false,
          "read_only": false
        },
        "id": "Ryd9bLb_riD6",
        "colab_type": "code",
        "colab": {
          "base_uri": "https://localhost:8080/",
          "height": 34
        },
        "outputId": "ee5e511a-5a54-42bd-855e-e54c96ef113d"
      },
      "source": [
        "print(\"my_integer_variable\") #lets remove the quotation marks and print again"
      ],
      "execution_count": 10,
      "outputs": [
        {
          "output_type": "stream",
          "text": [
            "my_integer_variable\n"
          ],
          "name": "stdout"
        }
      ]
    },
    {
      "cell_type": "code",
      "metadata": {
        "run_control": {
          "frozen": false,
          "read_only": false
        },
        "id": "EQZtqYFSriD8",
        "colab_type": "code",
        "colab": {
          "base_uri": "https://localhost:8080/",
          "height": 34
        },
        "outputId": "c9eac3c9-28dd-49af-e967-f31e5e8c8c66"
      },
      "source": [
        "print(my_integer_variable) # what do you think it will print? what is the problem?"
      ],
      "execution_count": 11,
      "outputs": [
        {
          "output_type": "stream",
          "text": [
            "5\n"
          ],
          "name": "stdout"
        }
      ]
    },
    {
      "cell_type": "code",
      "metadata": {
        "run_control": {
          "frozen": false,
          "read_only": false
        },
        "id": "NwndP7TPriD9",
        "colab_type": "code",
        "colab": {
          "base_uri": "https://localhost:8080/",
          "height": 34
        },
        "outputId": "ce68d416-b7fb-48c6-c202-9bc05d33edb3"
      },
      "source": [
        "print(my_integer_variable + my_float_variable)"
      ],
      "execution_count": 12,
      "outputs": [
        {
          "output_type": "stream",
          "text": [
            "9.5\n"
          ],
          "name": "stdout"
        }
      ]
    },
    {
      "cell_type": "markdown",
      "metadata": {
        "id": "JIq6jK_4riD_",
        "colab_type": "text"
      },
      "source": [
        "the `type` built-in function"
      ]
    },
    {
      "cell_type": "code",
      "metadata": {
        "run_control": {
          "frozen": false,
          "read_only": false
        },
        "id": "EbsPfuoBriEA",
        "colab_type": "code",
        "colab": {
          "base_uri": "https://localhost:8080/",
          "height": 34
        },
        "outputId": "0b1d10a7-eff7-4745-bf17-78c25961d0b0"
      },
      "source": [
        "print(type(my_integer_variable + my_float_variable))\n",
        "\n"
      ],
      "execution_count": 13,
      "outputs": [
        {
          "output_type": "stream",
          "text": [
            "<class 'float'>\n"
          ],
          "name": "stdout"
        }
      ]
    },
    {
      "cell_type": "code",
      "metadata": {
        "run_control": {
          "frozen": false,
          "read_only": false
        },
        "id": "0442QhfgriEC",
        "colab_type": "code",
        "colab": {
          "base_uri": "https://localhost:8080/",
          "height": 34
        },
        "outputId": "43e19b25-ce54-4156-e8c4-4678d1caad99"
      },
      "source": [
        "print(my_string_variable, \" \", str(my_integer_variable))\n",
        "database_name = my_string_variable + str(my_integer_variable)"
      ],
      "execution_count": 18,
      "outputs": [
        {
          "output_type": "stream",
          "text": [
            "I am a beautiful string   10\n"
          ],
          "name": "stdout"
        }
      ]
    },
    {
      "cell_type": "code",
      "metadata": {
        "run_control": {
          "frozen": false,
          "read_only": false
        },
        "id": "J1e1J8omriED",
        "colab_type": "code",
        "colab": {
          "base_uri": "https://localhost:8080/",
          "height": 181
        },
        "outputId": "93cb54b5-d219-4fec-feab-d9e616143226"
      },
      "source": [
        "my_integer_variable = 10 # lets assign a different variable to the my_integerr_variable\n",
        "print(my_integer_variable + my_string_variable)"
      ],
      "execution_count": 17,
      "outputs": [
        {
          "output_type": "error",
          "ename": "TypeError",
          "evalue": "ignored",
          "traceback": [
            "\u001b[0;31m---------------------------------------------------------------------------\u001b[0m",
            "\u001b[0;31mTypeError\u001b[0m                                 Traceback (most recent call last)",
            "\u001b[0;32m<ipython-input-17-cdea02145579>\u001b[0m in \u001b[0;36m<module>\u001b[0;34m()\u001b[0m\n\u001b[1;32m      1\u001b[0m \u001b[0mmy_integer_variable\u001b[0m \u001b[0;34m=\u001b[0m \u001b[0;36m10\u001b[0m \u001b[0;31m# lets assign a different variable to the my_integerr_variable\u001b[0m\u001b[0;34m\u001b[0m\u001b[0;34m\u001b[0m\u001b[0m\n\u001b[0;32m----> 2\u001b[0;31m \u001b[0mprint\u001b[0m\u001b[0;34m(\u001b[0m\u001b[0mmy_integer_variable\u001b[0m \u001b[0;34m+\u001b[0m \u001b[0mmy_string_variable\u001b[0m\u001b[0;34m)\u001b[0m\u001b[0;34m\u001b[0m\u001b[0;34m\u001b[0m\u001b[0m\n\u001b[0m",
            "\u001b[0;31mTypeError\u001b[0m: unsupported operand type(s) for +: 'int' and 'str'"
          ]
        }
      ]
    },
    {
      "cell_type": "code",
      "metadata": {
        "run_control": {
          "frozen": false,
          "read_only": false
        },
        "id": "xe63pTzJriEF",
        "colab_type": "code",
        "colab": {
          "base_uri": "https://localhost:8080/",
          "height": 34
        },
        "outputId": "b0f25ef8-26eb-4ecc-9574-333953de92d0"
      },
      "source": [
        " print(3*my_string_variable )# what do you think it will print?"
      ],
      "execution_count": 19,
      "outputs": [
        {
          "output_type": "stream",
          "text": [
            "I am a beautiful stringI am a beautiful stringI am a beautiful string\n"
          ],
          "name": "stdout"
        }
      ]
    },
    {
      "cell_type": "markdown",
      "metadata": {
        "run_control": {
          "frozen": false,
          "read_only": false
        },
        "id": "ZoiQVQ-oriEH",
        "colab_type": "text"
      },
      "source": [
        "* **Question**: How to delete a variable?"
      ]
    },
    {
      "cell_type": "markdown",
      "metadata": {
        "run_control": {
          "frozen": false,
          "read_only": false
        },
        "id": "1dmyv4vrriEI",
        "colab_type": "text"
      },
      "source": [
        "*** Bonus: Naming Conventions ***"
      ]
    },
    {
      "cell_type": "markdown",
      "metadata": {
        "run_control": {
          "frozen": false,
          "read_only": false
        },
        "id": "akD2zbcUriEI",
        "colab_type": "text"
      },
      "source": [
        "[Google Python Style Guide](https://google.github.io/styleguide/pyguide.html) recommends the following convention"
      ]
    },
    {
      "cell_type": "markdown",
      "metadata": {
        "id": "a2wxD_JXriEJ",
        "colab_type": "raw"
      },
      "source": [
        "module_name, package_name, ClassName, method_name, ExceptionName, function_name, GLOBAL_CONSTANT_NAME, global_var_name, instance_var_name, function_parameter_name, local_var_name"
      ]
    },
    {
      "cell_type": "markdown",
      "metadata": {
        "id": "B4-psEg0riEL",
        "colab_type": "text"
      },
      "source": [
        "# Strings\n",
        "\n",
        "Strings are variables representing text.<br>\n",
        "A string is a particular python object that comes with some built-in function"
      ]
    },
    {
      "cell_type": "code",
      "metadata": {
        "id": "J6EhseT2riEL",
        "colab_type": "code",
        "colab": {}
      },
      "source": [
        "text = \"Magnis diam. Fringilla auctor nullam vel faucibus curae; vitae    sociis diam\"\n"
      ],
      "execution_count": 0,
      "outputs": []
    },
    {
      "cell_type": "code",
      "metadata": {
        "id": "_-f6_9uHriEN",
        "colab_type": "code",
        "colab": {
          "base_uri": "https://localhost:8080/",
          "height": 204
        },
        "outputId": "9a982bc5-f1f6-4627-9722-ead53d1766e4"
      },
      "source": [
        "text.split()"
      ],
      "execution_count": 47,
      "outputs": [
        {
          "output_type": "execute_result",
          "data": {
            "text/plain": [
              "['Magnis',\n",
              " 'diam.',\n",
              " 'Fringilla',\n",
              " 'auctor',\n",
              " 'nullam',\n",
              " 'vel',\n",
              " 'faucibus',\n",
              " 'curae;',\n",
              " 'vitae',\n",
              " 'sociis',\n",
              " 'diam']"
            ]
          },
          "metadata": {
            "tags": []
          },
          "execution_count": 47
        }
      ]
    },
    {
      "cell_type": "markdown",
      "metadata": {
        "id": "lWC-0a7griEQ",
        "colab_type": "text"
      },
      "source": [
        "*** We called the function for the string.  ***\n",
        "* <b>But how do I know which functions are there?</b><br>\n",
        "type the variable name, followed by the dot and the tab to get the available functions/attributes, for instance:<br>\n",
        "    `text.+<tab>`\n",
        "* <b>And how can I get more help? </b><br>\n",
        "1) Look it up in the documentation online (https://docs.python.org/3/library/string.html)<br>\n",
        "2) Use the built-in function of jupyter to access the funtion docstrings: `help(text.split)` or `text.split?`\n"
      ]
    },
    {
      "cell_type": "code",
      "metadata": {
        "id": "HVo4a1n6riEQ",
        "colab_type": "code",
        "colab": {
          "base_uri": "https://localhost:8080/",
          "height": 204
        },
        "outputId": "46baf71a-b03c-4f90-8b9f-67dbb53927ff"
      },
      "source": [
        "help(text.split )"
      ],
      "execution_count": 22,
      "outputs": [
        {
          "output_type": "stream",
          "text": [
            "Help on built-in function split:\n",
            "\n",
            "split(...) method of builtins.str instance\n",
            "    S.split(sep=None, maxsplit=-1) -> list of strings\n",
            "    \n",
            "    Return a list of the words in S, using sep as the\n",
            "    delimiter string.  If maxsplit is given, at most maxsplit\n",
            "    splits are done. If sep is not specified or is None, any\n",
            "    whitespace string is a separator and empty strings are\n",
            "    removed from the result.\n",
            "\n"
          ],
          "name": "stdout"
        }
      ]
    },
    {
      "cell_type": "code",
      "metadata": {
        "id": "BC-glfkqriES",
        "colab_type": "code",
        "colab": {}
      },
      "source": [
        "# This works only in interactive notebooks like jupyter\n",
        "text.split?"
      ],
      "execution_count": 0,
      "outputs": []
    },
    {
      "cell_type": "markdown",
      "metadata": {
        "id": "6id1T5PQriEY",
        "colab_type": "text"
      },
      "source": [
        "### More operations with strings"
      ]
    },
    {
      "cell_type": "code",
      "metadata": {
        "id": "1i4k0E4MriEY",
        "colab_type": "code",
        "colab": {}
      },
      "source": [
        "name = \"  John _ Doe   \""
      ],
      "execution_count": 0,
      "outputs": []
    },
    {
      "cell_type": "code",
      "metadata": {
        "id": "fJUNtVbKriEZ",
        "colab_type": "code",
        "colab": {
          "base_uri": "https://localhost:8080/",
          "height": 34
        },
        "outputId": "a643a5ea-341e-4a94-dbec-fd6050918359"
      },
      "source": [
        "len(name)"
      ],
      "execution_count": 31,
      "outputs": [
        {
          "output_type": "execute_result",
          "data": {
            "text/plain": [
              "15"
            ]
          },
          "metadata": {
            "tags": []
          },
          "execution_count": 31
        }
      ]
    },
    {
      "cell_type": "code",
      "metadata": {
        "id": "buhUzxrIriEa",
        "colab_type": "code",
        "colab": {
          "base_uri": "https://localhost:8080/",
          "height": 34
        },
        "outputId": "b60171b8-538d-4a36-92c1-247659865f8e"
      },
      "source": [
        "name.split(\"_\")"
      ],
      "execution_count": 32,
      "outputs": [
        {
          "output_type": "execute_result",
          "data": {
            "text/plain": [
              "['  John ', ' Doe   ']"
            ]
          },
          "metadata": {
            "tags": []
          },
          "execution_count": 32
        }
      ]
    },
    {
      "cell_type": "code",
      "metadata": {
        "id": "H2NrWC8NriEc",
        "colab_type": "code",
        "colab": {
          "base_uri": "https://localhost:8080/",
          "height": 34
        },
        "outputId": "0bcdfc73-9331-4ef8-e3f2-7eefa5eb3451"
      },
      "source": [
        "name.strip().split(\"_\") #removes whitespaces from the beginning and end of a string"
      ],
      "execution_count": 33,
      "outputs": [
        {
          "output_type": "execute_result",
          "data": {
            "text/plain": [
              "['John ', ' Doe']"
            ]
          },
          "metadata": {
            "tags": []
          },
          "execution_count": 33
        }
      ]
    },
    {
      "cell_type": "code",
      "metadata": {
        "id": "bKQAZtQ3riEd",
        "colab_type": "code",
        "colab": {
          "base_uri": "https://localhost:8080/",
          "height": 34
        },
        "outputId": "debbfdd4-01ec-40ff-a769-685535e8d8d4"
      },
      "source": [
        "name.replace(\" \",\"\").split(\"_\")"
      ],
      "execution_count": 34,
      "outputs": [
        {
          "output_type": "execute_result",
          "data": {
            "text/plain": [
              "['John', 'Doe']"
            ]
          },
          "metadata": {
            "tags": []
          },
          "execution_count": 34
        }
      ]
    },
    {
      "cell_type": "markdown",
      "metadata": {
        "id": "_ahgJlhWriEf",
        "colab_type": "text"
      },
      "source": [
        "#### Bonus question: did my variable actually change?"
      ]
    },
    {
      "cell_type": "code",
      "metadata": {
        "id": "xZ2V_L63riEg",
        "colab_type": "code",
        "colab": {
          "base_uri": "https://localhost:8080/",
          "height": 34
        },
        "outputId": "b7b840d9-916f-4dfb-99bd-24055a7fae73"
      },
      "source": [
        "name"
      ],
      "execution_count": 35,
      "outputs": [
        {
          "output_type": "execute_result",
          "data": {
            "text/plain": [
              "'  John _ Doe   '"
            ]
          },
          "metadata": {
            "tags": []
          },
          "execution_count": 35
        }
      ]
    },
    {
      "cell_type": "code",
      "metadata": {
        "id": "aatnB7BZriEi",
        "colab_type": "code",
        "colab": {
          "base_uri": "https://localhost:8080/",
          "height": 34
        },
        "outputId": "952ea9a1-c1b7-4748-ed60-2553647b73fc"
      },
      "source": [
        "name.upper()"
      ],
      "execution_count": 36,
      "outputs": [
        {
          "output_type": "execute_result",
          "data": {
            "text/plain": [
              "'  JOHN _ DOE   '"
            ]
          },
          "metadata": {
            "tags": []
          },
          "execution_count": 36
        }
      ]
    },
    {
      "cell_type": "code",
      "metadata": {
        "id": "XbZ9M6XfriEj",
        "colab_type": "code",
        "colab": {}
      },
      "source": [
        "#### Let's go back to our text variable"
      ],
      "execution_count": 0,
      "outputs": []
    },
    {
      "cell_type": "code",
      "metadata": {
        "id": "C2HZ4YJ6riEl",
        "colab_type": "code",
        "colab": {
          "base_uri": "https://localhost:8080/",
          "height": 34
        },
        "outputId": "d756f8ed-2aad-4f5b-c815-8ce4d58c56e0"
      },
      "source": [
        "text"
      ],
      "execution_count": 44,
      "outputs": [
        {
          "output_type": "execute_result",
          "data": {
            "text/plain": [
              "'Magnis . Fringilla auctor nullam vel faucibus curae; vitae    sociis diam'"
            ]
          },
          "metadata": {
            "tags": []
          },
          "execution_count": 44
        }
      ]
    },
    {
      "cell_type": "code",
      "metadata": {
        "id": "E6eArZa2riEm",
        "colab_type": "code",
        "colab": {
          "base_uri": "https://localhost:8080/",
          "height": 34
        },
        "outputId": "dadb41d2-97d5-424f-c404-72d3216d5ae3"
      },
      "source": [
        "### What does this actually mean?\n",
        "text.find(\"diam\")"
      ],
      "execution_count": 45,
      "outputs": [
        {
          "output_type": "execute_result",
          "data": {
            "text/plain": [
              "69"
            ]
          },
          "metadata": {
            "tags": []
          },
          "execution_count": 45
        }
      ]
    },
    {
      "cell_type": "markdown",
      "metadata": {
        "id": "axL-6zwrriEo",
        "colab_type": "text"
      },
      "source": [
        "A string is a sequence of carachters. The find function return the index (location) of the substring (in our example \"diam\")"
      ]
    },
    {
      "cell_type": "markdown",
      "metadata": {
        "id": "7AJa_JvWriEo",
        "colab_type": "text"
      },
      "source": [
        " Let's look at this block and let's understand what it is doing?<br>\n",
        "What do I need to Change here to write <br>\n",
        "`Hello John Doe`? (with only one space?)"
      ]
    },
    {
      "cell_type": "code",
      "metadata": {
        "id": "0huMwLPwriEp",
        "colab_type": "code",
        "colab": {}
      },
      "source": [
        "my_name = \" John   \"\n",
        "my_lastname = \"doe  \"\n",
        "my_name.capitalize()\n",
        "my_lastname = my_lastname.upper()\n",
        "#my_name.lower()\n",
        "#c = my_name + her_name\n",
        "\n",
        "my_full_name = \"\".join([\"hello\",my_name,my_lastname])\n",
        "#c\n",
        "my_full_name = my_full_name.strip()\n",
        "my_full_name\n",
        "#c.split()"
      ],
      "execution_count": 0,
      "outputs": []
    },
    {
      "cell_type": "markdown",
      "metadata": {
        "id": "GaH92GoZriEq",
        "colab_type": "text"
      },
      "source": [
        "### The format function"
      ]
    },
    {
      "cell_type": "code",
      "metadata": {
        "id": "L33XXW5BriEr",
        "colab_type": "code",
        "colab": {}
      },
      "source": [
        "text = \"Pi is the {} of a circle's {} to its and equals to\".\\\n",
        "format('circumference','ratio')"
      ],
      "execution_count": 0,
      "outputs": []
    },
    {
      "cell_type": "code",
      "metadata": {
        "id": "neKl23QrriEt",
        "colab_type": "code",
        "colab": {
          "base_uri": "https://localhost:8080/",
          "height": 34
        },
        "outputId": "f736a40e-6d4d-48f3-a370-8bc73bc12254"
      },
      "source": [
        "print(text)"
      ],
      "execution_count": 49,
      "outputs": [
        {
          "output_type": "stream",
          "text": [
            "Pi is the circumference of a circle's ratio to its and equals to\n"
          ],
          "name": "stdout"
        }
      ]
    },
    {
      "cell_type": "code",
      "metadata": {
        "id": "HNyi6acjriEu",
        "colab_type": "code",
        "colab": {
          "base_uri": "https://localhost:8080/",
          "height": 34
        },
        "outputId": "810e3851-51ee-455e-af2b-79c4bb1ebd9d"
      },
      "source": [
        "text =  \"Pi is the {1} of a circle's {0} to its and equals to\".format('circumference','ratio')\n",
        "text"
      ],
      "execution_count": 50,
      "outputs": [
        {
          "output_type": "execute_result",
          "data": {
            "text/plain": [
              "\"Pi is the ratio of a circle's circumference to its and equals to\""
            ]
          },
          "metadata": {
            "tags": []
          },
          "execution_count": 50
        }
      ]
    },
    {
      "cell_type": "code",
      "metadata": {
        "id": "Q1CFaJlXriEv",
        "colab_type": "code",
        "colab": {
          "base_uri": "https://localhost:8080/",
          "height": 34
        },
        "outputId": "4e56f88f-f3d6-43a8-e254-79111df3c2ab"
      },
      "source": [
        "print( \"Pi is the {a} of a circle's {b} to its and equals to\".\\\n",
        "format(a='circumference',b='ratio'))"
      ],
      "execution_count": 51,
      "outputs": [
        {
          "output_type": "stream",
          "text": [
            "Pi is the circumference of a circle's ratio to its and equals to\n"
          ],
          "name": "stdout"
        }
      ]
    },
    {
      "cell_type": "markdown",
      "metadata": {
        "id": "NJF0tCoFriEx",
        "colab_type": "text"
      },
      "source": [
        "* **TODO**: Read about the **str.format()** method on [Python Documentation](https://docs.python.org/2/library/string.html#format-examples)"
      ]
    },
    {
      "cell_type": "code",
      "metadata": {
        "id": "xmp5E_OSriEy",
        "colab_type": "code",
        "colab": {
          "base_uri": "https://localhost:8080/",
          "height": 34
        },
        "outputId": "507f0b7d-22de-45ad-fc55-2e466087056f"
      },
      "source": [
        "#Formatting with only two decimals?\n",
        "print(\"Pi equals to {:.2f}\".format(3.141592653589793))"
      ],
      "execution_count": 52,
      "outputs": [
        {
          "output_type": "stream",
          "text": [
            "Pi equals to 3.14\n"
          ],
          "name": "stdout"
        }
      ]
    },
    {
      "cell_type": "code",
      "metadata": {
        "id": "ifSz0ie8riE0",
        "colab_type": "code",
        "colab": {
          "base_uri": "https://localhost:8080/",
          "height": 34
        },
        "outputId": "505fc8fa-da04-4355-e040-a007207b9081"
      },
      "source": [
        "print(\"Pi equals to {:+>10.2f}\".format(3.141592653589793))"
      ],
      "execution_count": 53,
      "outputs": [
        {
          "output_type": "stream",
          "text": [
            "Pi equals to ++++++3.14\n"
          ],
          "name": "stdout"
        }
      ]
    },
    {
      "cell_type": "markdown",
      "metadata": {
        "id": "YJIXobUNriE3",
        "colab_type": "text"
      },
      "source": [
        "** Exercise **\n",
        "1. Define 3 variables holding the last names of your classmates\n",
        "2. Define 3 variables holding the ages of those classmates\n",
        "3. Print them in this format:   \n",
        "        +++++++++Genc: 20\t\n",
        "        ++++++Verhaaf: 90   \n",
        "    "
      ]
    },
    {
      "cell_type": "markdown",
      "metadata": {
        "run_control": {
          "frozen": false,
          "read_only": false
        },
        "id": "28_yOk_GriE4",
        "colab_type": "text"
      },
      "source": [
        "# Operations"
      ]
    },
    {
      "cell_type": "markdown",
      "metadata": {
        "run_control": {
          "frozen": false,
          "read_only": false
        },
        "id": "Gsi2xm0kriE4",
        "colab_type": "text"
      },
      "source": [
        "**TODO**: Read about the built-in types and operations on the [Python Docs](https://docs.python.org/2/library/stdtypes.html)"
      ]
    },
    {
      "cell_type": "markdown",
      "metadata": {
        "id": "iZdo2FEiriE5",
        "colab_type": "text"
      },
      "source": [
        "    <   : strictly less than\t \n",
        "    <=  : less than or equal\t \n",
        "    >  : strictly greater than\t \n",
        "    >= : greater than or equal\t \n",
        "    ==  : equal\t \n",
        "    !=  : not equal\n",
        "\n",
        "    or: logical or\n",
        "    and: logical and\n",
        "    not: negate\n",
        "    \n",
        "    is  : object identity\t \n",
        "    is not : negated object identity"
      ]
    },
    {
      "cell_type": "code",
      "metadata": {
        "run_control": {
          "frozen": false,
          "read_only": false
        },
        "id": "QSrrQJZHriE5",
        "colab_type": "code",
        "colab": {
          "base_uri": "https://localhost:8080/",
          "height": 34
        },
        "outputId": "bf006739-ec6e-4271-813a-64ec21c96041"
      },
      "source": [
        "a = 4 ## assigning the variable\n",
        "a == 5 ## checking equality"
      ],
      "execution_count": 54,
      "outputs": [
        {
          "output_type": "execute_result",
          "data": {
            "text/plain": [
              "False"
            ]
          },
          "metadata": {
            "tags": []
          },
          "execution_count": 54
        }
      ]
    },
    {
      "cell_type": "markdown",
      "metadata": {
        "run_control": {
          "frozen": false,
          "read_only": false
        },
        "id": "BkBwYJznriE6",
        "colab_type": "text"
      },
      "source": [
        "\n",
        "\n",
        "   ** IMPORTANT ** : **\"is\"** and **\"==\"** are different operators\n",
        "   * **'=='** checks for equality such as **(a == b)** which checks if 'a' and 'b' have the same value\n",
        "   * **'is'** checks for identity such as **( id(obj1) == id(obj2) )** which checks if 'obj1' and 'obj2' reference to the same object\n",
        "    \n",
        "\n",
        "\n"
      ]
    },
    {
      "cell_type": "code",
      "metadata": {
        "id": "BdmcUvz5riE6",
        "colab_type": "code",
        "colab": {
          "base_uri": "https://localhost:8080/",
          "height": 51
        },
        "outputId": "ee04ccb2-136a-4c4b-ea19-33ac9fde7426"
      },
      "source": [
        "a = 400\n",
        "b = 400\n",
        "print (a==b)\n",
        "print (a is b)"
      ],
      "execution_count": 55,
      "outputs": [
        {
          "output_type": "stream",
          "text": [
            "True\n",
            "False\n"
          ],
          "name": "stdout"
        }
      ]
    },
    {
      "cell_type": "code",
      "metadata": {
        "id": "VdOxhldvriE7",
        "colab_type": "code",
        "colab": {
          "base_uri": "https://localhost:8080/",
          "height": 153
        },
        "outputId": "365ce464-efe3-4691-f92b-a64f0a0a2f1b"
      },
      "source": [
        "print( \"\\n'is' vs. '=='\")\n",
        "s1 = list([1,2])\n",
        "s2 = list([1,2])\n",
        "print( \"s1: {} \\ns2: {}\".format(s1,s2))\n",
        "print( \"s1 == s2: \", s1==s2)\n",
        "print( \"s1 is s2: \", s1 is s2) # print ids of s1 and s2 to understand why s1 is not s2\n",
        "print( \"s1 is not s2: \", s1 is not s2)\n",
        "print( \"id(s1):{}, id(s2):{} \".format(id(s1),id(s2)))"
      ],
      "execution_count": 56,
      "outputs": [
        {
          "output_type": "stream",
          "text": [
            "\n",
            "'is' vs. '=='\n",
            "s1: [1, 2] \n",
            "s2: [1, 2]\n",
            "s1 == s2:  True\n",
            "s1 is s2:  False\n",
            "s1 is not s2:  True\n",
            "id(s1):140317470380552, id(s2):140317470382536 \n"
          ],
          "name": "stdout"
        }
      ]
    },
    {
      "cell_type": "markdown",
      "metadata": {
        "id": "RuTq8QzRriE9",
        "colab_type": "text"
      },
      "source": [
        "# Python can have some very weird behavior sometimes\n",
        "*** For instance: what happens if in the previous cell I change a=3, and b =3? ***"
      ]
    },
    {
      "cell_type": "code",
      "metadata": {
        "id": "RWvJMAlrriE9",
        "colab_type": "code",
        "colab": {
          "base_uri": "https://localhost:8080/",
          "height": 51
        },
        "outputId": "aa6e0d00-229b-4659-d636-7a27aa737491"
      },
      "source": [
        "a = 4\n",
        "b = 4\n",
        "print (a==b)\n",
        "print (a is b)"
      ],
      "execution_count": 57,
      "outputs": [
        {
          "output_type": "stream",
          "text": [
            "True\n",
            "True\n"
          ],
          "name": "stdout"
        }
      ]
    },
    {
      "cell_type": "markdown",
      "metadata": {
        "id": "CFdUbfIgriE_",
        "colab_type": "text"
      },
      "source": [
        "\n",
        "*** Some more built-in functions in Python<br>***\n",
        "    -x : x negated\t \n",
        "\n",
        "    abs(x)  : absolute value or magnitude of x\t\n",
        "    int(x)  : x converted to integer\t\n",
        "    long(x) : x converted to long integer\t\n",
        "    float(x): x converted to floating point\t\n",
        "\n",
        "    x ** y\t: x to the power y\t\n",
        "    x % y   : x mod y : returns the remainder after division of x by y"
      ]
    },
    {
      "cell_type": "code",
      "metadata": {
        "run_control": {
          "frozen": false,
          "read_only": false
        },
        "id": "etbNQ4WBriFA",
        "colab_type": "code",
        "colab": {}
      },
      "source": [
        "x = 5\n",
        "y = 4\n",
        "z = 10\n",
        "\n",
        "n = None\n",
        "t = True\n",
        "f = False"
      ],
      "execution_count": 0,
      "outputs": []
    },
    {
      "cell_type": "code",
      "metadata": {
        "run_control": {
          "frozen": false,
          "read_only": false
        },
        "id": "ZNOtFwJYriFB",
        "colab_type": "code",
        "colab": {
          "base_uri": "https://localhost:8080/",
          "height": 102
        },
        "outputId": "15f72c03-8ea0-475a-8e91-7ef113f3d772"
      },
      "source": [
        "result_a =  x + y * z / 2\n",
        "result_b = (x + y) * z / int(2)\n",
        "\n",
        "print(\"\\nArithmetic Operations: \")\n",
        "print(\" x + y * z / 2: \", result_a)\n",
        "print(\"(x + y) * z / 2: \", result_b)\n",
        "print(\"-x: \", -x)"
      ],
      "execution_count": 64,
      "outputs": [
        {
          "output_type": "stream",
          "text": [
            "\n",
            "Arithmetic Operations: \n",
            " x + y * z / 2:  25.0\n",
            "(x + y) * z / 2:  45.0\n",
            "-x:  -5\n"
          ],
          "name": "stdout"
        }
      ]
    },
    {
      "cell_type": "code",
      "metadata": {
        "run_control": {
          "frozen": false,
          "read_only": false
        },
        "id": "MsxE-kd3riFC",
        "colab_type": "code",
        "colab": {
          "base_uri": "https://localhost:8080/",
          "height": 136
        },
        "outputId": "7e6ee9f6-66e2-4eff-a719-a1687fad41c7"
      },
      "source": [
        "print(\"\\nComparisons\")\n",
        "print( \"x >= y --> \", x >= y)\n",
        "print( \"x - 1 == y  --> \", x - 1 == y)\n",
        "print( \"(x > y) != False --> \", (x > y) != False)\n",
        "print( \"5 and 0: \",bool(5 and 0))\n",
        "print( \"float z: {} | integer converted z: {}\".format(z,int(z)))"
      ],
      "execution_count": 65,
      "outputs": [
        {
          "output_type": "stream",
          "text": [
            "\n",
            "Comparisons\n",
            "x >= y -->  True\n",
            "x - 1 == y  -->  True\n",
            "(x > y) != False -->  True\n",
            "5 and 0:  False\n",
            "float z: 10 | integer converted z: 10\n"
          ],
          "name": "stdout"
        }
      ]
    },
    {
      "cell_type": "code",
      "metadata": {
        "run_control": {
          "frozen": false,
          "read_only": false
        },
        "id": "jTRPvkmmriFE",
        "colab_type": "code",
        "colab": {
          "base_uri": "https://localhost:8080/",
          "height": 68
        },
        "outputId": "da26c7e8-65bf-4318-c4c8-dccc8db51b20"
      },
      "source": [
        "print(\"id of s1: \", id(s1))\n",
        "print( \"id of s2: \", id(s2))\n",
        "print( \"type of s1 \", type(s1))"
      ],
      "execution_count": 66,
      "outputs": [
        {
          "output_type": "stream",
          "text": [
            "id of s1:  140317470380552\n",
            "id of s2:  140317470382536\n",
            "type of s1  <class 'list'>\n"
          ],
          "name": "stdout"
        }
      ]
    },
    {
      "cell_type": "markdown",
      "metadata": {
        "id": "hP5EpHkariFF",
        "colab_type": "text"
      },
      "source": [
        "** Exercise **\n",
        "1. Print “True” if the sum of all the numbers from 1 to 60 is greater than 1903\n",
        "2. Is 6/5 equal to 9/5?\n",
        "3. Print the result of  6/5 == 9/5\n",
        "4. What is wrong with 6/5 == 9/5?\n",
        "5. Calculate the total money you need to pay after having dinner in such a restaurant:\n",
        "6. Cost of meal: €65.50   \n",
        "\tRestaurant tax: 2.75%   \n",
        "\tTip: 15%   \n",
        "\tYou'll apply the tip to the overall cost of the meal (including tax).   \n",
        "\n"
      ]
    },
    {
      "cell_type": "markdown",
      "metadata": {
        "run_control": {
          "frozen": false,
          "read_only": false
        },
        "id": "rJlb0pZyriFG",
        "colab_type": "text"
      },
      "source": [
        "# Control Flow"
      ]
    },
    {
      "cell_type": "markdown",
      "metadata": {
        "run_control": {
          "frozen": false,
          "read_only": false
        },
        "id": "8oHfEtGxriFG",
        "colab_type": "text"
      },
      "source": [
        "### a. if conditions"
      ]
    },
    {
      "cell_type": "code",
      "metadata": {
        "run_control": {
          "frozen": false,
          "read_only": false
        },
        "id": "lUemFUD5riFH",
        "colab_type": "code",
        "colab": {
          "base_uri": "https://localhost:8080/",
          "height": 34
        },
        "outputId": "ea71e305-a92c-4fb4-dede-d746f39a34e1"
      },
      "source": [
        "x = 1\n",
        "y = int(1.99)\n",
        "z = None\n",
        "if ( x==y ):\n",
        "    print(\" x is equal to y \")"
      ],
      "execution_count": 67,
      "outputs": [
        {
          "output_type": "stream",
          "text": [
            " x is equal to y \n"
          ],
          "name": "stdout"
        }
      ]
    },
    {
      "cell_type": "code",
      "metadata": {
        "id": "hBsWoHj7riFJ",
        "colab_type": "code",
        "colab": {
          "base_uri": "https://localhost:8080/",
          "height": 34
        },
        "outputId": "1b079427-81dd-4c10-e532-466fd78e1e19"
      },
      "source": [
        "if not z:\n",
        "    print(\"z is nothing\")"
      ],
      "execution_count": 68,
      "outputs": [
        {
          "output_type": "stream",
          "text": [
            "z is nothing\n"
          ],
          "name": "stdout"
        }
      ]
    },
    {
      "cell_type": "code",
      "metadata": {
        "id": "Zh1vpIYGriFK",
        "colab_type": "code",
        "colab": {
          "base_uri": "https://localhost:8080/",
          "height": 34
        },
        "outputId": "32d46101-6167-446e-fa88-9ea7a62e3adb"
      },
      "source": [
        "if (not z) and (x == 1) or (y < 0):\n",
        "    print(\"whole chain of conditions is True!\")"
      ],
      "execution_count": 71,
      "outputs": [
        {
          "output_type": "stream",
          "text": [
            "whole chain of conditions is True!\n"
          ],
          "name": "stdout"
        }
      ]
    },
    {
      "cell_type": "code",
      "metadata": {
        "run_control": {
          "frozen": false,
          "read_only": false
        },
        "id": "N_VnBYRfriFL",
        "colab_type": "code",
        "colab": {
          "base_uri": "https://localhost:8080/",
          "height": 34
        },
        "outputId": "68224d8b-addd-4a0e-91bb-1309fc04e45c"
      },
      "source": [
        "#if elif else block\n",
        "if (0 <= x < 1 ):\n",
        "    print(\"x is between 0 and 1\")\n",
        "elif( x < 0 ):\n",
        "    print(\"x is negative\")\n",
        "else:\n",
        "    print(\"I couldnt find what x is :(\")\n"
      ],
      "execution_count": 77,
      "outputs": [
        {
          "output_type": "stream",
          "text": [
            "I couldnt find what x is :(\n"
          ],
          "name": "stdout"
        }
      ]
    },
    {
      "cell_type": "markdown",
      "metadata": {
        "run_control": {
          "frozen": false,
          "read_only": false
        },
        "id": "gTeuMcZEriFM",
        "colab_type": "text"
      },
      "source": [
        "**Important**: In Python, indentation matters! <br>\n",
        "\n",
        "If we want to enclose multiple lines of code within an if condition, we need to use the identation"
      ]
    },
    {
      "cell_type": "code",
      "metadata": {
        "id": "ehQcJou9riFM",
        "colab_type": "code",
        "colab": {
          "base_uri": "https://localhost:8080/",
          "height": 85
        },
        "outputId": "59ca8141-f92d-465c-c5eb-8524be009595"
      },
      "source": [
        "a = 4\n",
        "b = 3\n",
        "\n",
        "if a ==4:\n",
        "    print(\"This is the first correct statement\")\n",
        "    print(\"This is the second correct statement\")\n",
        "    \n",
        "    if b== a-1:\n",
        "        print(\"I am a new if condition and I am True\")\n",
        "    else:\n",
        "        print(\"I am a new if condition and I am False\")\n",
        "\n",
        "print(\"I am not indented, so I do am outside the if block :P\")       "
      ],
      "execution_count": 78,
      "outputs": [
        {
          "output_type": "stream",
          "text": [
            "This is the first correct statement\n",
            "This is the second correct statement\n",
            "I am a new if condition and I am True\n",
            "I am not indented, so I do am outside the if block :P\n"
          ],
          "name": "stdout"
        }
      ]
    },
    {
      "cell_type": "code",
      "metadata": {
        "run_control": {
          "frozen": false,
          "read_only": false
        },
        "id": "nq4Aqw4FriFO",
        "colab_type": "code",
        "colab": {
          "base_uri": "https://localhost:8080/",
          "height": 34
        },
        "outputId": "a774defe-7222-42f5-ac24-a1f70e6a32db"
      },
      "source": [
        "x = 2\n",
        "y = x if (x**2) == 4 else 0\n",
        "print (y)"
      ],
      "execution_count": 79,
      "outputs": [
        {
          "output_type": "stream",
          "text": [
            "2\n"
          ],
          "name": "stdout"
        }
      ]
    },
    {
      "cell_type": "markdown",
      "metadata": {
        "run_control": {
          "frozen": false,
          "read_only": false
        },
        "id": "omFwzrHCriFQ",
        "colab_type": "text"
      },
      "source": [
        "### b. for loops"
      ]
    },
    {
      "cell_type": "markdown",
      "metadata": {
        "run_control": {
          "frozen": false,
          "read_only": false
        },
        "id": "12EIr_35riFR",
        "colab_type": "text"
      },
      "source": [
        "**TODO**: Read about the [range() function](https://docs.python.org/2/library/functions.html#range)"
      ]
    },
    {
      "cell_type": "code",
      "metadata": {
        "run_control": {
          "frozen": false,
          "read_only": false
        },
        "id": "Y3Uv2veyriFR",
        "colab_type": "code",
        "colab": {
          "base_uri": "https://localhost:8080/",
          "height": 34
        },
        "outputId": "fdbd3d23-0fb9-445b-ca67-d266537da481"
      },
      "source": [
        "range(1,20)# watch out! the last digit is not included\n",
        "range(1,20,5) # values from 1 (included) to 20 (excluded) in steps of 5\n",
        "range(0, -10, -1)  # values from 0 (included) to -10 (excluded) in steps of -1 (backwards)"
      ],
      "execution_count": 80,
      "outputs": [
        {
          "output_type": "execute_result",
          "data": {
            "text/plain": [
              "range(0, -10, -1)"
            ]
          },
          "metadata": {
            "tags": []
          },
          "execution_count": 80
        }
      ]
    },
    {
      "cell_type": "markdown",
      "metadata": {
        "id": "Dsi3600qriFS",
        "colab_type": "text"
      },
      "source": [
        "### Advanced tip<br>\n",
        "\n",
        "`range` returns is an iterator, which is a very specific and lazy type of function which executes the steps only when \"explicitly\" asked for. <br>\n",
        "\n",
        "for example, putting it within the list object, it will be executed `list(range(1,20))`, or within the for statemtn\n",
        "\n"
      ]
    },
    {
      "cell_type": "code",
      "metadata": {
        "id": "5fIjQUJgriFS",
        "colab_type": "code",
        "colab": {
          "base_uri": "https://localhost:8080/",
          "height": 34
        },
        "outputId": "6df25744-43ae-4fe2-d93e-036279eed26c"
      },
      "source": [
        "#\n",
        "list(range(1,20))"
      ],
      "execution_count": 81,
      "outputs": [
        {
          "output_type": "execute_result",
          "data": {
            "text/plain": [
              "[1, 2, 3, 4, 5, 6, 7, 8, 9, 10, 11, 12, 13, 14, 15, 16, 17, 18, 19]"
            ]
          },
          "metadata": {
            "tags": []
          },
          "execution_count": 81
        }
      ]
    },
    {
      "cell_type": "code",
      "metadata": {
        "run_control": {
          "frozen": false,
          "read_only": false
        },
        "id": "q5DrIRlVriFT",
        "colab_type": "code",
        "colab": {
          "base_uri": "https://localhost:8080/",
          "height": 306
        },
        "outputId": "1a9128cd-ce2b-48db-ed69-4a3acee93d37"
      },
      "source": [
        "for i in range(1, 10): \n",
        "    print(i) #note the indetation\n",
        "\n",
        "print(\"\\n\\nwith step of 2:\")\n",
        "for i in range(1,10,2):\n",
        "    print(i)\n",
        "    \n"
      ],
      "execution_count": 82,
      "outputs": [
        {
          "output_type": "stream",
          "text": [
            "1\n",
            "2\n",
            "3\n",
            "4\n",
            "5\n",
            "6\n",
            "7\n",
            "8\n",
            "9\n",
            "\n",
            "\n",
            "with step of 2:\n",
            "1\n",
            "3\n",
            "5\n",
            "7\n",
            "9\n"
          ],
          "name": "stdout"
        }
      ]
    },
    {
      "cell_type": "markdown",
      "metadata": {
        "id": "_eSBh35nriFU",
        "colab_type": "text"
      },
      "source": [
        "Extra on loops:\n",
        "    * `break`: when this line is met, the loop stops\n",
        "    * `continue`: when this line is met, the loop skips the next steps and goes to the next iteration"
      ]
    },
    {
      "cell_type": "code",
      "metadata": {
        "id": "G2kyoEFhriFV",
        "colab_type": "code",
        "colab": {}
      },
      "source": [
        ""
      ],
      "execution_count": 0,
      "outputs": []
    },
    {
      "cell_type": "code",
      "metadata": {
        "run_control": {
          "frozen": false,
          "read_only": false
        },
        "id": "tYzjimQsriFW",
        "colab_type": "code",
        "colab": {}
      },
      "source": [
        "print(' The loop with break')\n",
        "for i in range(1,10):\n",
        "    if (i == 4): # change this to 1000 and see what happens\n",
        "        break\n",
        "    print(i)\n",
        "\n",
        "print(' The loop with continue')\n",
        "for i in range(1,10):\n",
        "    if (i == 4): # change this to 1000 and see what happens\n",
        "        continue\n",
        "    print(i)"
      ],
      "execution_count": 0,
      "outputs": []
    },
    {
      "cell_type": "markdown",
      "metadata": {
        "id": "foXj9KsKriFY",
        "colab_type": "text"
      },
      "source": [
        "### Extra: the usefuleness of the modulo operation,\n",
        "i.e `a % b`"
      ]
    },
    {
      "cell_type": "code",
      "metadata": {
        "id": "yCuPAE9UriFY",
        "colab_type": "code",
        "colab": {
          "base_uri": "https://localhost:8080/",
          "height": 187
        },
        "outputId": "42daf758-d391-425b-8595-adbd050b6a7a"
      },
      "source": [
        "print('The loop with modulo operation')\n",
        "for i in range(1,1000000):\n",
        "    if i%100000==0: # if  i is divisble by 100000, then do the next step\n",
        "        print('I am at step {}'.format(i))\n"
      ],
      "execution_count": 83,
      "outputs": [
        {
          "output_type": "stream",
          "text": [
            "The loop with modulo operation\n",
            "I am at step 100000\n",
            "I am at step 200000\n",
            "I am at step 300000\n",
            "I am at step 400000\n",
            "I am at step 500000\n",
            "I am at step 600000\n",
            "I am at step 700000\n",
            "I am at step 800000\n",
            "I am at step 900000\n"
          ],
          "name": "stdout"
        }
      ]
    },
    {
      "cell_type": "markdown",
      "metadata": {
        "run_control": {
          "frozen": false,
          "read_only": false
        },
        "id": "khbyNQLariFZ",
        "colab_type": "text"
      },
      "source": [
        "### c. while loops"
      ]
    },
    {
      "cell_type": "code",
      "metadata": {
        "run_control": {
          "frozen": false,
          "read_only": false
        },
        "id": "BjTTE-CariFa",
        "colab_type": "code",
        "colab": {
          "base_uri": "https://localhost:8080/",
          "height": 170
        },
        "outputId": "bc91aae1-5513-48e7-df1e-99a032a8b8d4"
      },
      "source": [
        "i = 30 # try this with 10 and see what happens\n",
        "while i > -1:\n",
        "    i = i - 1\n",
        "    if i == 20:\n",
        "        break\n",
        "    else:\n",
        "        print(i)\n",
        "else: \n",
        "    print(\"\\n\\nhere I am i: \",i )"
      ],
      "execution_count": 84,
      "outputs": [
        {
          "output_type": "stream",
          "text": [
            "29\n",
            "28\n",
            "27\n",
            "26\n",
            "25\n",
            "24\n",
            "23\n",
            "22\n",
            "21\n"
          ],
          "name": "stdout"
        }
      ]
    },
    {
      "cell_type": "markdown",
      "metadata": {
        "id": "IIxM3GqlriFa",
        "colab_type": "text"
      },
      "source": [
        "** Exercise **\n",
        "1. Find the sum of numbers that are divisible by 7 from 1 till 100\n",
        "2. Write a program to prompt for a score between 0.0 and 1.0. If the core is out of range print an error. If the score is between 0.0 and 1.0, print a grade using the following table:\n",
        "Score Grade    \n",
        "\t\t>= 0.9 A   \n",
        "\t\t>= 0.8 B   \n",
        "\t\t>= 0.7 C   \n",
        "\t\t>= 0.6 D   \n",
        "\t\t< 0.6 F  \n",
        "Hint: to get the input from user in python  \n",
        "age = input(\"What is your age?\") "
      ]
    },
    {
      "cell_type": "markdown",
      "metadata": {
        "run_control": {
          "frozen": false,
          "read_only": false
        },
        "id": "Nz6wX2f_riFb",
        "colab_type": "text"
      },
      "source": [
        "# Data Structures"
      ]
    },
    {
      "cell_type": "markdown",
      "metadata": {
        "run_control": {
          "frozen": false,
          "read_only": false
        },
        "id": "KMv47cbRriFb",
        "colab_type": "text"
      },
      "source": [
        " **list --> [1,2,'a',\"hello\"]**\n",
        " - comma-separated values(items) between square brackets\n",
        " - can include different types \n",
        " - preserves the order of the items\n",
        " - can include duplicate items\n",
        " \n",
        " - <b>The list is a mutable object</b>\n",
        " \n",
        " **TODO**: Read about the list and its methods on [Python Docs](https://docs.python.org/2/tutorial/datastructures.html)\n",
        " "
      ]
    },
    {
      "cell_type": "code",
      "metadata": {
        "run_control": {
          "frozen": false,
          "read_only": false
        },
        "id": "4-9KW0vkriFc",
        "colab_type": "code",
        "colab": {}
      },
      "source": [
        "a = [1,5,2,8,\"I am an element in this list\",'a',9,9 , [\"22\",22]]"
      ],
      "execution_count": 0,
      "outputs": []
    },
    {
      "cell_type": "code",
      "metadata": {
        "id": "TvYqcuSLriFd",
        "colab_type": "code",
        "colab": {
          "base_uri": "https://localhost:8080/",
          "height": 34
        },
        "outputId": "5ac8caa4-2ae4-4de3-ca72-46a7dd2307ac"
      },
      "source": [
        "#print the 3rd element of a (remember, we start counting from 0)\n",
        "print(a[2])"
      ],
      "execution_count": 86,
      "outputs": [
        {
          "output_type": "stream",
          "text": [
            "2\n"
          ],
          "name": "stdout"
        }
      ]
    },
    {
      "cell_type": "code",
      "metadata": {
        "id": "6r17COaHriFf",
        "colab_type": "code",
        "colab": {
          "base_uri": "https://localhost:8080/",
          "height": 34
        },
        "outputId": "7871c3e9-c9a1-438d-b565-2d91421a9887"
      },
      "source": [
        "#print the last element of a\n",
        "print(a[-1])"
      ],
      "execution_count": 87,
      "outputs": [
        {
          "output_type": "stream",
          "text": [
            "['22', 22]\n"
          ],
          "name": "stdout"
        }
      ]
    },
    {
      "cell_type": "code",
      "metadata": {
        "run_control": {
          "frozen": false,
          "read_only": false
        },
        "id": "MUrSPfderiFg",
        "colab_type": "code",
        "colab": {
          "base_uri": "https://localhost:8080/",
          "height": 34
        },
        "outputId": "bfdd6036-0c57-42d8-b017-97be108decf3"
      },
      "source": [
        "#It's a list of list, get the first element of the last element\n",
        "print(a[-1][0])"
      ],
      "execution_count": 88,
      "outputs": [
        {
          "output_type": "stream",
          "text": [
            "22\n"
          ],
          "name": "stdout"
        }
      ]
    },
    {
      "cell_type": "code",
      "metadata": {
        "run_control": {
          "frozen": false,
          "read_only": false
        },
        "id": "U7cdcF6qriFh",
        "colab_type": "code",
        "colab": {
          "base_uri": "https://localhost:8080/",
          "height": 34
        },
        "outputId": "ca38d7cb-ebed-43a5-dfbc-b0134d6fd6cc"
      },
      "source": [
        "a[1] = 10 #list index starts from zero\n",
        "a"
      ],
      "execution_count": 89,
      "outputs": [
        {
          "output_type": "execute_result",
          "data": {
            "text/plain": [
              "[1, 10, 2, 8, 'I am an element in this list', 'a', 9, 9, ['22', 22]]"
            ]
          },
          "metadata": {
            "tags": []
          },
          "execution_count": 89
        }
      ]
    },
    {
      "cell_type": "markdown",
      "metadata": {
        "run_control": {
          "frozen": false,
          "read_only": false
        },
        "id": "AVzmdZuxriFi",
        "colab_type": "text"
      },
      "source": [
        "You can slice the lists"
      ]
    },
    {
      "cell_type": "code",
      "metadata": {
        "run_control": {
          "frozen": false,
          "read_only": false
        },
        "id": "s_JpwHuKriFj",
        "colab_type": "code",
        "colab": {
          "base_uri": "https://localhost:8080/",
          "height": 51
        },
        "outputId": "01f409de-4b36-4c45-d466-3a8f344ee411"
      },
      "source": [
        "print(a[1:5:2]) #start from the 2nd element and access every second element till 5th element\n",
        "print(a[1:8]) # till the last element (including the last element)\n"
      ],
      "execution_count": 91,
      "outputs": [
        {
          "output_type": "stream",
          "text": [
            "[10, 8]\n",
            "[10, 2, 8, 'I am an element in this list', 'a', 9, 9]\n"
          ],
          "name": "stdout"
        }
      ]
    },
    {
      "cell_type": "code",
      "metadata": {
        "id": "rh0r7BL7riFj",
        "colab_type": "code",
        "colab": {
          "base_uri": "https://localhost:8080/",
          "height": 34
        },
        "outputId": "928425f6-5aa1-4d63-c006-8150d7d6ba35"
      },
      "source": [
        "a[1::2] # What does this do?"
      ],
      "execution_count": 92,
      "outputs": [
        {
          "output_type": "execute_result",
          "data": {
            "text/plain": [
              "[10, 8, 'a', 9]"
            ]
          },
          "metadata": {
            "tags": []
          },
          "execution_count": 92
        }
      ]
    },
    {
      "cell_type": "code",
      "metadata": {
        "run_control": {
          "frozen": false,
          "read_only": false
        },
        "id": "kTywsVYkriFk",
        "colab_type": "code",
        "colab": {
          "base_uri": "https://localhost:8080/",
          "height": 34
        },
        "outputId": "7d8f5295-b326-434b-d5ee-92c07f120dd7"
      },
      "source": [
        "print (a[-1::-1]) # what does that do?"
      ],
      "execution_count": 93,
      "outputs": [
        {
          "output_type": "stream",
          "text": [
            "[['22', 22], 9, 9, 'a', 'I am an element in this list', 8, 2, 10, 1]\n"
          ],
          "name": "stdout"
        }
      ]
    },
    {
      "cell_type": "markdown",
      "metadata": {
        "run_control": {
          "frozen": false,
          "read_only": false
        },
        "id": "xwNjRadoriFl",
        "colab_type": "text"
      },
      "source": [
        "### List Methods"
      ]
    },
    {
      "cell_type": "code",
      "metadata": {
        "id": "bbAQnCfQriFl",
        "colab_type": "code",
        "colab": {}
      },
      "source": [
        "a = [10,5,4,7,8,\"BMW\",\"Porsche\",0,0]"
      ],
      "execution_count": 0,
      "outputs": []
    },
    {
      "cell_type": "code",
      "metadata": {
        "id": "eODNqejCriFm",
        "colab_type": "code",
        "colab": {}
      },
      "source": [
        "a.append(\"Dacia\")"
      ],
      "execution_count": 0,
      "outputs": []
    },
    {
      "cell_type": "code",
      "metadata": {
        "id": "hIdO459eriFm",
        "colab_type": "code",
        "colab": {}
      },
      "source": [
        "a"
      ],
      "execution_count": 0,
      "outputs": []
    },
    {
      "cell_type": "code",
      "metadata": {
        "id": "d7TC9cfcriFn",
        "colab_type": "code",
        "colab": {}
      },
      "source": [
        "a.insert(3,-99)\n",
        "a"
      ],
      "execution_count": 0,
      "outputs": []
    },
    {
      "cell_type": "code",
      "metadata": {
        "id": "RfTBfmukriFp",
        "colab_type": "code",
        "colab": {}
      },
      "source": [
        "x = a.pop()\n",
        "print(x,'\\n', a)"
      ],
      "execution_count": 0,
      "outputs": []
    },
    {
      "cell_type": "code",
      "metadata": {
        "id": "1rFzxHVQriFq",
        "colab_type": "code",
        "colab": {}
      },
      "source": [
        "dummy_list = a\n",
        "is_list = True\n",
        "while is_list:\n",
        "    print(dummy_list.pop())\n",
        "    if len(dummy_list)==0: is_list = False\n",
        "\n",
        "print('This is the list at the end:',dummy_list)"
      ],
      "execution_count": 0,
      "outputs": []
    },
    {
      "cell_type": "code",
      "metadata": {
        "id": "qUkblxJzriFr",
        "colab_type": "code",
        "colab": {}
      },
      "source": [
        "### What happend to a?\n",
        "print(a)"
      ],
      "execution_count": 0,
      "outputs": []
    },
    {
      "cell_type": "code",
      "metadata": {
        "id": "FSnHIoqdriFr",
        "colab_type": "code",
        "colab": {}
      },
      "source": [
        "print(id(a))\n",
        "print(id(dummy_list))"
      ],
      "execution_count": 0,
      "outputs": []
    },
    {
      "cell_type": "code",
      "metadata": {
        "id": "pNwzP5ZoriFs",
        "colab_type": "code",
        "colab": {}
      },
      "source": [
        "a = [10,5,4,7,8,\"BMW\",\"Porsche\",0,0]\n",
        "dummy_list = a.copy()\n",
        "is_list = True\n",
        "while is_list:\n",
        "    print(dummy_list.pop())\n",
        "    if len(dummy_list)==0: is_list = False\n",
        "\n",
        "print('This is the list at the end:',dummy_list)\n",
        "print('This is the list at the end:',a)\n",
        "print('ID of a:', id(a))\n",
        "print('ID of dummy_list:',id(dummy_list))"
      ],
      "execution_count": 0,
      "outputs": []
    },
    {
      "cell_type": "code",
      "metadata": {
        "id": "jVA2gBgfriFt",
        "colab_type": "code",
        "colab": {}
      },
      "source": [
        "# let's make sure we have a again\n",
        "a = [10,5,4,7,8,0,0]"
      ],
      "execution_count": 0,
      "outputs": []
    },
    {
      "cell_type": "code",
      "metadata": {
        "id": "lmgSa6zVriFv",
        "colab_type": "code",
        "colab": {}
      },
      "source": [
        "a.insert(3,-99)\n",
        "a"
      ],
      "execution_count": 0,
      "outputs": []
    },
    {
      "cell_type": "code",
      "metadata": {
        "id": "_Gi1GvVnriFx",
        "colab_type": "code",
        "colab": {}
      },
      "source": [
        "a.extend([1,1,1])\n",
        "a"
      ],
      "execution_count": 0,
      "outputs": []
    },
    {
      "cell_type": "code",
      "metadata": {
        "id": "ehgkVmp3riFy",
        "colab_type": "code",
        "colab": {}
      },
      "source": [
        "print(a.count(1))"
      ],
      "execution_count": 0,
      "outputs": []
    },
    {
      "cell_type": "code",
      "metadata": {
        "id": "vWkiowWgriF0",
        "colab_type": "code",
        "colab": {}
      },
      "source": [
        "a.sort(reverse=False)\n",
        "a"
      ],
      "execution_count": 0,
      "outputs": []
    },
    {
      "cell_type": "code",
      "metadata": {
        "id": "Ct3geab-riF1",
        "colab_type": "code",
        "colab": {}
      },
      "source": [
        "min(a), max(a)"
      ],
      "execution_count": 0,
      "outputs": []
    },
    {
      "cell_type": "markdown",
      "metadata": {
        "run_control": {
          "frozen": false,
          "read_only": false
        },
        "id": "WTyFwIqSriF2",
        "colab_type": "text"
      },
      "source": [
        "### Lists are very handy in for loops"
      ]
    },
    {
      "cell_type": "code",
      "metadata": {
        "id": "QmpK4nZzriF3",
        "colab_type": "code",
        "colab": {}
      },
      "source": [
        "car_brands = ['Audi','BMW', 'VW', 'Porsche', 'Volvo']"
      ],
      "execution_count": 0,
      "outputs": []
    },
    {
      "cell_type": "code",
      "metadata": {
        "run_control": {
          "frozen": false,
          "read_only": false
        },
        "id": "zo_5YPaOriF6",
        "colab_type": "code",
        "colab": {}
      },
      "source": [
        "#search for a value in the list\n",
        "#oldschool way\n",
        "missing_key = \"BMW\"\n",
        "for i in car_brands:\n",
        "    if i == missing_key:\n",
        "        print(\"The key has been found\")\n",
        "        break\n",
        "else:\n",
        "    print(\"The key couldn't be found\")"
      ],
      "execution_count": 0,
      "outputs": []
    },
    {
      "cell_type": "code",
      "metadata": {
        "run_control": {
          "frozen": false,
          "read_only": false
        },
        "id": "ZMIFWwqkriF8",
        "colab_type": "code",
        "colab": {}
      },
      "source": [
        "#python way\n",
        "missing_key = \"BMW\"\n",
        "if missing_key in car_brands:\n",
        "    print(\"The key has been found\")\n",
        "else:\n",
        "    print(\"The key couldn't be found\")"
      ],
      "execution_count": 0,
      "outputs": []
    },
    {
      "cell_type": "code",
      "metadata": {
        "run_control": {
          "frozen": false,
          "read_only": false
        },
        "id": "U8YxFzqdriF9",
        "colab_type": "code",
        "colab": {}
      },
      "source": [
        "car_brands.index(\"BMW\")"
      ],
      "execution_count": 0,
      "outputs": []
    },
    {
      "cell_type": "code",
      "metadata": {
        "run_control": {
          "frozen": false,
          "read_only": false
        },
        "id": "BWFSv2FgriF-",
        "colab_type": "code",
        "colab": {}
      },
      "source": [
        "#what do you think this does?\n",
        "print(car_brands + car_brands)"
      ],
      "execution_count": 0,
      "outputs": []
    },
    {
      "cell_type": "markdown",
      "metadata": {
        "run_control": {
          "frozen": false,
          "read_only": false
        },
        "id": "sMHHsINzriF-",
        "colab_type": "text"
      },
      "source": [
        "**Tuple --> (1,2,'a',\"hello\")**\n",
        "- Tuples are immutable (you cant add/remove/replace elements)\n",
        "- Tuples are handy when you need to return multiple elements from your Python function\n"
      ]
    },
    {
      "cell_type": "code",
      "metadata": {
        "run_control": {
          "frozen": false,
          "read_only": false
        },
        "scrolled": true,
        "id": "MB5EM4z6riF_",
        "colab_type": "code",
        "colab": {}
      },
      "source": [
        "b = (1,2,'a',\"hello\",(4,5))\n",
        "t = (1,2,3)\n",
        "t = (4,5,6)\n",
        "\n",
        "x,y = (4.6,9.2)\n",
        "\n",
        "#b[1]\n",
        "#b[1]=7\n",
        "#b[-1]  \n",
        "#b = t\n",
        "#print b"
      ],
      "execution_count": 0,
      "outputs": []
    },
    {
      "cell_type": "code",
      "metadata": {
        "id": "dD7Di7VrriGA",
        "colab_type": "code",
        "colab": {}
      },
      "source": [
        "print(x)\n",
        "print(y)"
      ],
      "execution_count": 0,
      "outputs": []
    },
    {
      "cell_type": "markdown",
      "metadata": {
        "run_control": {
          "frozen": false,
          "read_only": false
        },
        "id": "zO0M23tjriGB",
        "colab_type": "text"
      },
      "source": [
        "**Set --> set([1,2,'a',\"hello\"])**\n",
        "- A set is an unordered collection with no duplicate elements. \n",
        "- Basic uses include membership testing and eliminating duplicate entries.\n"
      ]
    },
    {
      "cell_type": "code",
      "metadata": {
        "run_control": {
          "frozen": false,
          "read_only": false
        },
        "id": "xOm7AfPDriGB",
        "colab_type": "code",
        "colab": {}
      },
      "source": [
        "basket = ['apple', 'orange', 'apple', 'pear', 'orange', 'banana']\n",
        "fruit = set(basket)\n",
        "print(fruit)"
      ],
      "execution_count": 0,
      "outputs": []
    },
    {
      "cell_type": "code",
      "metadata": {
        "id": "3uM5arMdriGC",
        "colab_type": "code",
        "colab": {}
      },
      "source": [
        "basket_a = {'apple', 'orange', 'apple', 'pear', 'orange', 'banana'}\n",
        "basket_b = {'watermellon', 'orange', 'orange','banana'}\n"
      ],
      "execution_count": 0,
      "outputs": []
    },
    {
      "cell_type": "code",
      "metadata": {
        "id": "O2WdTlzHriGC",
        "colab_type": "code",
        "colab": {}
      },
      "source": [
        "basket_a.intersection(basket_b)"
      ],
      "execution_count": 0,
      "outputs": []
    },
    {
      "cell_type": "code",
      "metadata": {
        "id": "xEyPnwK7riGE",
        "colab_type": "code",
        "colab": {}
      },
      "source": [
        "basket_a.difference(basket_b)"
      ],
      "execution_count": 0,
      "outputs": []
    },
    {
      "cell_type": "markdown",
      "metadata": {
        "run_control": {
          "frozen": false,
          "read_only": false
        },
        "id": "2IciPlAYriGF",
        "colab_type": "text"
      },
      "source": [
        "**Dictionary** --> {'1':'orange','2':'apple',100:'mellon'}\n",
        "- It is best to think of a dictionary as an unordered set of key: value pairs\n",
        "- The keys must be unique \n",
        "- A pair of braces creates an empty dictionary: {}\n",
        "- The main operations on a dictionary are storing a value with some key and extracting the value given the key\n",
        "- It is also possible to delete a key:value pair with del\n",
        "- If you store using a key that is already in use, the old value associated with that key is forgotten\n",
        "- It is an error to extract a value using a non-existent key"
      ]
    },
    {
      "cell_type": "code",
      "metadata": {
        "run_control": {
          "frozen": false,
          "read_only": false
        },
        "id": "Sg_X5JiuriGF",
        "colab_type": "code",
        "colab": {}
      },
      "source": [
        "c = {'fruit_1':'orange','fruit_2':'apple',3:'mellon','car':9}\n",
        "c['fruit_3'] = 'apple' \n",
        "\n"
      ],
      "execution_count": 0,
      "outputs": []
    },
    {
      "cell_type": "code",
      "metadata": {
        "id": "xl4V_0mCriGG",
        "colab_type": "code",
        "colab": {}
      },
      "source": [
        "print(c['fruit_2'])\n",
        "print(c)"
      ],
      "execution_count": 0,
      "outputs": []
    },
    {
      "cell_type": "markdown",
      "metadata": {
        "run_control": {
          "frozen": false,
          "read_only": false
        },
        "id": "D5Z0Bc5PriGH",
        "colab_type": "text"
      },
      "source": [
        "**TODO** Read the dictionary on [Python Docs](https://docs.python.org/2/tutorial/datastructures.html)"
      ]
    },
    {
      "cell_type": "markdown",
      "metadata": {
        "id": "vPf_9r40riGH",
        "colab_type": "text"
      },
      "source": [
        "** Exercise **\n",
        "1. Write a Python program to get the largest number from a list.\n",
        "2. Write a Python program to remove duplicates from a list if the list is not empty.\n",
        "3. Write a Python program to generate and print a list of first and last 5 elements where the values are square of numbers between 1 and 25 (both included).\n",
        "4. a. Create a new dictionary called prices and put these values in your prices dictionary:   \n",
        "   \n",
        "\"banana\": 2.17,   \n",
        "\t\"apple\": 1.08,   \n",
        "\t\"orange\": 0.54,   \n",
        "\t\"pear\": 1   \n",
        "   \n",
        "b. Loop through each key in prices. For each key, print out the key along with its price   \n",
        "c. Let's determine how much money you would make if you sold all of your food.   \n"
      ]
    },
    {
      "cell_type": "markdown",
      "metadata": {
        "run_control": {
          "frozen": false,
          "read_only": false
        },
        "id": "FlQhqtMyriGH",
        "colab_type": "text"
      },
      "source": [
        "## 7. Functions"
      ]
    },
    {
      "cell_type": "markdown",
      "metadata": {
        "run_control": {
          "frozen": false,
          "read_only": false
        },
        "id": "U1H7ghTyriGH",
        "colab_type": "text"
      },
      "source": [
        "- Functions are blocks of code identified by a name, which can receive predetermined parameters.\n",
        "- Can return objects or not.\n",
        "- Accepted Doc Strings.\n",
        "- Accepts optional parameters (with defaults ). If no parameter is passed, it will be equal to the default defined in the function.\n",
        "- Accepts parameters to be passed by name. In this case, the order in which the parameters were passed does not matter.\n"
      ]
    },
    {
      "cell_type": "markdown",
      "metadata": {
        "run_control": {
          "frozen": false,
          "read_only": false
        },
        "id": "CgJbuGKlriGH",
        "colab_type": "text"
      },
      "source": [
        "** Important ** Always document your function with Doc Strings as follows\n"
      ]
    },
    {
      "cell_type": "code",
      "metadata": {
        "run_control": {
          "frozen": false,
          "read_only": false
        },
        "id": "NYHMeStEriGI",
        "colab_type": "code",
        "colab": {}
      },
      "source": [
        "import math\n",
        "def pythagoras(a,b=4):\n",
        "    \"\"\"\n",
        "    Calculates the length of the hypotenuse from the given legths of other two sides.\n",
        "   \n",
        "    Example: \n",
        "        pythagoras(3,4) -> sqrt(3^2,4^2) = 5 \n",
        "    \n",
        "    Arguments:\n",
        "        a (float): one of the sides\n",
        "        b (float): the other side\n",
        "        \n",
        "    Returns:\n",
        "        c (float): the lenth of the hypotenuse\n",
        "    \"\"\"\n",
        "    c = math.sqrt(a**2 + b**2)\n",
        "    return c"
      ],
      "execution_count": 0,
      "outputs": []
    },
    {
      "cell_type": "code",
      "metadata": {
        "run_control": {
          "frozen": false,
          "read_only": false
        },
        "id": "e06IRZucriGI",
        "colab_type": "code",
        "colab": {
          "base_uri": "https://localhost:8080/",
          "height": 34
        },
        "outputId": "4877d00b-ba1f-4a44-d1ad-458852581572"
      },
      "source": [
        "print(pythagoras(6))"
      ],
      "execution_count": 97,
      "outputs": [
        {
          "output_type": "stream",
          "text": [
            "7.211102550927978\n"
          ],
          "name": "stdout"
        }
      ]
    },
    {
      "cell_type": "code",
      "metadata": {
        "id": "Y4Id3xWiriGJ",
        "colab_type": "code",
        "colab": {
          "base_uri": "https://localhost:8080/",
          "height": 34
        },
        "outputId": "7bfa0501-79a3-43c7-f423-3442aa0e0d01"
      },
      "source": [
        "print(pythagoras(3,4))"
      ],
      "execution_count": 98,
      "outputs": [
        {
          "output_type": "stream",
          "text": [
            "5.0\n"
          ],
          "name": "stdout"
        }
      ]
    },
    {
      "cell_type": "code",
      "metadata": {
        "id": "epMwXzlFriGK",
        "colab_type": "code",
        "colab": {}
      },
      "source": [
        "def find(customer_id, customers_list,other_parameters=\"asads\"):\n",
        "    if customer_id and customers_list:\n",
        "        return customer_id in customers_list"
      ],
      "execution_count": 0,
      "outputs": []
    },
    {
      "cell_type": "code",
      "metadata": {
        "id": "nyEOOIq-riGL",
        "colab_type": "code",
        "colab": {
          "base_uri": "https://localhost:8080/",
          "height": 34
        },
        "outputId": "898999da-8223-4694-8b05-f4742e9a271a"
      },
      "source": [
        "find(customer_id = 10, customers_list = range(1,20,1))"
      ],
      "execution_count": 100,
      "outputs": [
        {
          "output_type": "execute_result",
          "data": {
            "text/plain": [
              "True"
            ]
          },
          "metadata": {
            "tags": []
          },
          "execution_count": 100
        }
      ]
    },
    {
      "cell_type": "markdown",
      "metadata": {
        "run_control": {
          "frozen": false,
          "read_only": false
        },
        "id": "jLq1shIoriGM",
        "colab_type": "text"
      },
      "source": [
        "**TODO** Learn about \\*\\*args and \\*\\*\\*kargs"
      ]
    },
    {
      "cell_type": "markdown",
      "metadata": {
        "id": "fWU3sYnLriGM",
        "colab_type": "text"
      },
      "source": [
        "#### Anonymous Functions"
      ]
    },
    {
      "cell_type": "code",
      "metadata": {
        "id": "3qDAR4YZriGN",
        "colab_type": "code",
        "colab": {}
      },
      "source": [
        "f = lambda x: x*4 # even functions are objects in Python!"
      ],
      "execution_count": 0,
      "outputs": []
    },
    {
      "cell_type": "code",
      "metadata": {
        "id": "Hv1ZTS5oriGN",
        "colab_type": "code",
        "colab": {
          "base_uri": "https://localhost:8080/",
          "height": 34
        },
        "outputId": "c07a9825-f26b-412e-a10e-62f6fcf4415c"
      },
      "source": [
        "f(8)"
      ],
      "execution_count": 102,
      "outputs": [
        {
          "output_type": "execute_result",
          "data": {
            "text/plain": [
              "32"
            ]
          },
          "metadata": {
            "tags": []
          },
          "execution_count": 102
        }
      ]
    },
    {
      "cell_type": "markdown",
      "metadata": {
        "id": "hWIk9zuLriGO",
        "colab_type": "text"
      },
      "source": [
        "** Exercises  **\n",
        "1. Write a Python function to find the Max of three numbers\n",
        "2. \tWrite a function that returns the multiplication of given parameters.  Ex: multiply(2,3) returns 6 multiply(4,5,6) returns 120\n",
        "Hint: learn how to use *args \n",
        "3. \tWrite a Python function to calculate the factorial of a number (a non-negative integer). The function accepts the number as an argument.\n",
        "4.\tWrite a Python function that takes a list and returns a new list with unique elements of the first list.\n",
        "\n"
      ]
    },
    {
      "cell_type": "markdown",
      "metadata": {
        "id": "ROEFid89riGO",
        "colab_type": "text"
      },
      "source": [
        "# Advanced Python"
      ]
    },
    {
      "cell_type": "markdown",
      "metadata": {
        "run_control": {
          "frozen": false,
          "read_only": false
        },
        "id": "GFy9YASoriGO",
        "colab_type": "text"
      },
      "source": [
        "##  Exception Handling"
      ]
    },
    {
      "cell_type": "markdown",
      "metadata": {
        "run_control": {
          "frozen": false,
          "read_only": false
        },
        "id": "ZBXpKINwriGP",
        "colab_type": "text"
      },
      "source": [
        "- Exception handling is essential for quality coding. Dont mind spending little time on writing exception handling.\n",
        "- Make the cause of the exception clear for the user "
      ]
    },
    {
      "cell_type": "code",
      "metadata": {
        "run_control": {
          "frozen": false,
          "read_only": false
        },
        "id": "PI7DDTOpriGP",
        "colab_type": "code",
        "colab": {}
      },
      "source": [
        "import pandas as pd\n",
        "import numpy.random as nprnd\n",
        "import timeit\n",
        "import os"
      ],
      "execution_count": 0,
      "outputs": []
    },
    {
      "cell_type": "code",
      "metadata": {
        "run_control": {
          "frozen": false,
          "read_only": false
        },
        "id": "aMOASAcdriGP",
        "colab_type": "code",
        "colab": {
          "base_uri": "https://localhost:8080/",
          "height": 375
        },
        "outputId": "bc4f26f1-d138-43e9-926a-27627b142c98"
      },
      "source": [
        "df2 = pd.read_csv(\"ANAF2.txt\",delimiter='\\t')"
      ],
      "execution_count": 108,
      "outputs": [
        {
          "output_type": "error",
          "ename": "FileNotFoundError",
          "evalue": "ignored",
          "traceback": [
            "\u001b[0;31m---------------------------------------------------------------------------\u001b[0m",
            "\u001b[0;31mFileNotFoundError\u001b[0m                         Traceback (most recent call last)",
            "\u001b[0;32m<ipython-input-108-a75b9c5b3a2d>\u001b[0m in \u001b[0;36m<module>\u001b[0;34m()\u001b[0m\n\u001b[0;32m----> 1\u001b[0;31m \u001b[0mdf2\u001b[0m \u001b[0;34m=\u001b[0m \u001b[0mpd\u001b[0m\u001b[0;34m.\u001b[0m\u001b[0mread_csv\u001b[0m\u001b[0;34m(\u001b[0m\u001b[0;34m\"ANAF2.txt\"\u001b[0m\u001b[0;34m,\u001b[0m\u001b[0mdelimiter\u001b[0m\u001b[0;34m=\u001b[0m\u001b[0;34m'\\t'\u001b[0m\u001b[0;34m)\u001b[0m\u001b[0;34m\u001b[0m\u001b[0;34m\u001b[0m\u001b[0m\n\u001b[0m",
            "\u001b[0;32m/usr/local/lib/python3.6/dist-packages/pandas/io/parsers.py\u001b[0m in \u001b[0;36mparser_f\u001b[0;34m(filepath_or_buffer, sep, delimiter, header, names, index_col, usecols, squeeze, prefix, mangle_dupe_cols, dtype, engine, converters, true_values, false_values, skipinitialspace, skiprows, skipfooter, nrows, na_values, keep_default_na, na_filter, verbose, skip_blank_lines, parse_dates, infer_datetime_format, keep_date_col, date_parser, dayfirst, iterator, chunksize, compression, thousands, decimal, lineterminator, quotechar, quoting, doublequote, escapechar, comment, encoding, dialect, tupleize_cols, error_bad_lines, warn_bad_lines, delim_whitespace, low_memory, memory_map, float_precision)\u001b[0m\n\u001b[1;32m    700\u001b[0m                     skip_blank_lines=skip_blank_lines)\n\u001b[1;32m    701\u001b[0m \u001b[0;34m\u001b[0m\u001b[0m\n\u001b[0;32m--> 702\u001b[0;31m         \u001b[0;32mreturn\u001b[0m \u001b[0m_read\u001b[0m\u001b[0;34m(\u001b[0m\u001b[0mfilepath_or_buffer\u001b[0m\u001b[0;34m,\u001b[0m \u001b[0mkwds\u001b[0m\u001b[0;34m)\u001b[0m\u001b[0;34m\u001b[0m\u001b[0;34m\u001b[0m\u001b[0m\n\u001b[0m\u001b[1;32m    703\u001b[0m \u001b[0;34m\u001b[0m\u001b[0m\n\u001b[1;32m    704\u001b[0m     \u001b[0mparser_f\u001b[0m\u001b[0;34m.\u001b[0m\u001b[0m__name__\u001b[0m \u001b[0;34m=\u001b[0m \u001b[0mname\u001b[0m\u001b[0;34m\u001b[0m\u001b[0;34m\u001b[0m\u001b[0m\n",
            "\u001b[0;32m/usr/local/lib/python3.6/dist-packages/pandas/io/parsers.py\u001b[0m in \u001b[0;36m_read\u001b[0;34m(filepath_or_buffer, kwds)\u001b[0m\n\u001b[1;32m    427\u001b[0m \u001b[0;34m\u001b[0m\u001b[0m\n\u001b[1;32m    428\u001b[0m     \u001b[0;31m# Create the parser.\u001b[0m\u001b[0;34m\u001b[0m\u001b[0;34m\u001b[0m\u001b[0;34m\u001b[0m\u001b[0m\n\u001b[0;32m--> 429\u001b[0;31m     \u001b[0mparser\u001b[0m \u001b[0;34m=\u001b[0m \u001b[0mTextFileReader\u001b[0m\u001b[0;34m(\u001b[0m\u001b[0mfilepath_or_buffer\u001b[0m\u001b[0;34m,\u001b[0m \u001b[0;34m**\u001b[0m\u001b[0mkwds\u001b[0m\u001b[0;34m)\u001b[0m\u001b[0;34m\u001b[0m\u001b[0;34m\u001b[0m\u001b[0m\n\u001b[0m\u001b[1;32m    430\u001b[0m \u001b[0;34m\u001b[0m\u001b[0m\n\u001b[1;32m    431\u001b[0m     \u001b[0;32mif\u001b[0m \u001b[0mchunksize\u001b[0m \u001b[0;32mor\u001b[0m \u001b[0miterator\u001b[0m\u001b[0;34m:\u001b[0m\u001b[0;34m\u001b[0m\u001b[0;34m\u001b[0m\u001b[0m\n",
            "\u001b[0;32m/usr/local/lib/python3.6/dist-packages/pandas/io/parsers.py\u001b[0m in \u001b[0;36m__init__\u001b[0;34m(self, f, engine, **kwds)\u001b[0m\n\u001b[1;32m    893\u001b[0m             \u001b[0mself\u001b[0m\u001b[0;34m.\u001b[0m\u001b[0moptions\u001b[0m\u001b[0;34m[\u001b[0m\u001b[0;34m'has_index_names'\u001b[0m\u001b[0;34m]\u001b[0m \u001b[0;34m=\u001b[0m \u001b[0mkwds\u001b[0m\u001b[0;34m[\u001b[0m\u001b[0;34m'has_index_names'\u001b[0m\u001b[0;34m]\u001b[0m\u001b[0;34m\u001b[0m\u001b[0;34m\u001b[0m\u001b[0m\n\u001b[1;32m    894\u001b[0m \u001b[0;34m\u001b[0m\u001b[0m\n\u001b[0;32m--> 895\u001b[0;31m         \u001b[0mself\u001b[0m\u001b[0;34m.\u001b[0m\u001b[0m_make_engine\u001b[0m\u001b[0;34m(\u001b[0m\u001b[0mself\u001b[0m\u001b[0;34m.\u001b[0m\u001b[0mengine\u001b[0m\u001b[0;34m)\u001b[0m\u001b[0;34m\u001b[0m\u001b[0;34m\u001b[0m\u001b[0m\n\u001b[0m\u001b[1;32m    896\u001b[0m \u001b[0;34m\u001b[0m\u001b[0m\n\u001b[1;32m    897\u001b[0m     \u001b[0;32mdef\u001b[0m \u001b[0mclose\u001b[0m\u001b[0;34m(\u001b[0m\u001b[0mself\u001b[0m\u001b[0;34m)\u001b[0m\u001b[0;34m:\u001b[0m\u001b[0;34m\u001b[0m\u001b[0;34m\u001b[0m\u001b[0m\n",
            "\u001b[0;32m/usr/local/lib/python3.6/dist-packages/pandas/io/parsers.py\u001b[0m in \u001b[0;36m_make_engine\u001b[0;34m(self, engine)\u001b[0m\n\u001b[1;32m   1120\u001b[0m     \u001b[0;32mdef\u001b[0m \u001b[0m_make_engine\u001b[0m\u001b[0;34m(\u001b[0m\u001b[0mself\u001b[0m\u001b[0;34m,\u001b[0m \u001b[0mengine\u001b[0m\u001b[0;34m=\u001b[0m\u001b[0;34m'c'\u001b[0m\u001b[0;34m)\u001b[0m\u001b[0;34m:\u001b[0m\u001b[0;34m\u001b[0m\u001b[0;34m\u001b[0m\u001b[0m\n\u001b[1;32m   1121\u001b[0m         \u001b[0;32mif\u001b[0m \u001b[0mengine\u001b[0m \u001b[0;34m==\u001b[0m \u001b[0;34m'c'\u001b[0m\u001b[0;34m:\u001b[0m\u001b[0;34m\u001b[0m\u001b[0;34m\u001b[0m\u001b[0m\n\u001b[0;32m-> 1122\u001b[0;31m             \u001b[0mself\u001b[0m\u001b[0;34m.\u001b[0m\u001b[0m_engine\u001b[0m \u001b[0;34m=\u001b[0m \u001b[0mCParserWrapper\u001b[0m\u001b[0;34m(\u001b[0m\u001b[0mself\u001b[0m\u001b[0;34m.\u001b[0m\u001b[0mf\u001b[0m\u001b[0;34m,\u001b[0m \u001b[0;34m**\u001b[0m\u001b[0mself\u001b[0m\u001b[0;34m.\u001b[0m\u001b[0moptions\u001b[0m\u001b[0;34m)\u001b[0m\u001b[0;34m\u001b[0m\u001b[0;34m\u001b[0m\u001b[0m\n\u001b[0m\u001b[1;32m   1123\u001b[0m         \u001b[0;32melse\u001b[0m\u001b[0;34m:\u001b[0m\u001b[0;34m\u001b[0m\u001b[0;34m\u001b[0m\u001b[0m\n\u001b[1;32m   1124\u001b[0m             \u001b[0;32mif\u001b[0m \u001b[0mengine\u001b[0m \u001b[0;34m==\u001b[0m \u001b[0;34m'python'\u001b[0m\u001b[0;34m:\u001b[0m\u001b[0;34m\u001b[0m\u001b[0;34m\u001b[0m\u001b[0m\n",
            "\u001b[0;32m/usr/local/lib/python3.6/dist-packages/pandas/io/parsers.py\u001b[0m in \u001b[0;36m__init__\u001b[0;34m(self, src, **kwds)\u001b[0m\n\u001b[1;32m   1851\u001b[0m         \u001b[0mkwds\u001b[0m\u001b[0;34m[\u001b[0m\u001b[0;34m'usecols'\u001b[0m\u001b[0;34m]\u001b[0m \u001b[0;34m=\u001b[0m \u001b[0mself\u001b[0m\u001b[0;34m.\u001b[0m\u001b[0musecols\u001b[0m\u001b[0;34m\u001b[0m\u001b[0;34m\u001b[0m\u001b[0m\n\u001b[1;32m   1852\u001b[0m \u001b[0;34m\u001b[0m\u001b[0m\n\u001b[0;32m-> 1853\u001b[0;31m         \u001b[0mself\u001b[0m\u001b[0;34m.\u001b[0m\u001b[0m_reader\u001b[0m \u001b[0;34m=\u001b[0m \u001b[0mparsers\u001b[0m\u001b[0;34m.\u001b[0m\u001b[0mTextReader\u001b[0m\u001b[0;34m(\u001b[0m\u001b[0msrc\u001b[0m\u001b[0;34m,\u001b[0m \u001b[0;34m**\u001b[0m\u001b[0mkwds\u001b[0m\u001b[0;34m)\u001b[0m\u001b[0;34m\u001b[0m\u001b[0;34m\u001b[0m\u001b[0m\n\u001b[0m\u001b[1;32m   1854\u001b[0m         \u001b[0mself\u001b[0m\u001b[0;34m.\u001b[0m\u001b[0munnamed_cols\u001b[0m \u001b[0;34m=\u001b[0m \u001b[0mself\u001b[0m\u001b[0;34m.\u001b[0m\u001b[0m_reader\u001b[0m\u001b[0;34m.\u001b[0m\u001b[0munnamed_cols\u001b[0m\u001b[0;34m\u001b[0m\u001b[0;34m\u001b[0m\u001b[0m\n\u001b[1;32m   1855\u001b[0m \u001b[0;34m\u001b[0m\u001b[0m\n",
            "\u001b[0;32mpandas/_libs/parsers.pyx\u001b[0m in \u001b[0;36mpandas._libs.parsers.TextReader.__cinit__\u001b[0;34m()\u001b[0m\n",
            "\u001b[0;32mpandas/_libs/parsers.pyx\u001b[0m in \u001b[0;36mpandas._libs.parsers.TextReader._setup_parser_source\u001b[0;34m()\u001b[0m\n",
            "\u001b[0;31mFileNotFoundError\u001b[0m: [Errno 2] File b'ANAF2.txt' does not exist: b'ANAF2.txt'"
          ]
        }
      ]
    },
    {
      "cell_type": "code",
      "metadata": {
        "run_control": {
          "frozen": false,
          "read_only": false
        },
        "id": "YXnZSHu7riGQ",
        "colab_type": "code",
        "colab": {
          "base_uri": "https://localhost:8080/",
          "height": 34
        },
        "outputId": "8935f565-0bb4-44fd-d706-84dcbcb94e75"
      },
      "source": [
        "try:\n",
        "    df2 = pd.read_csv(\"ANAF2.txt\",delimiter='\\t')\n",
        "except IOError as err:\n",
        "    print(\"couldnt read the file: \" + str(err))"
      ],
      "execution_count": 110,
      "outputs": [
        {
          "output_type": "stream",
          "text": [
            "couldnt read the file: [Errno 2] File b'ANAF2.txt' does not exist: b'ANAF2.txt'\n"
          ],
          "name": "stdout"
        }
      ]
    },
    {
      "cell_type": "markdown",
      "metadata": {
        "id": "w0xPFYJUriGR",
        "colab_type": "text"
      },
      "source": [
        "### Exercise: fix the code below to catch properly the exceptions"
      ]
    },
    {
      "cell_type": "code",
      "metadata": {
        "id": "CsO4z4fXriGR",
        "colab_type": "code",
        "colab": {
          "base_uri": "https://localhost:8080/",
          "height": 34
        },
        "outputId": "55dfbf1a-db46-4938-8064-03bd5e973c86"
      },
      "source": [
        "actor = {\"name\": \"John Cleese\", \"rank\": \"awesome\"} #setup\n",
        "\n",
        "#actor = {}\n",
        "def get_last_name(name_dict=''):\n",
        "    try:\n",
        "      print(\"The actor's last name is %s\" %name_dict['name'].split()[1])\n",
        "    except Exception as exp:\n",
        "      print(\"All exceptions caught! Good job!\")\n",
        "#Test code\n",
        "get_last_name(actor)"
      ],
      "execution_count": 120,
      "outputs": [
        {
          "output_type": "stream",
          "text": [
            "The actor's last name is Cleese\n"
          ],
          "name": "stdout"
        }
      ]
    },
    {
      "cell_type": "markdown",
      "metadata": {
        "run_control": {
          "frozen": false,
          "read_only": false
        },
        "id": "OnV-P6gpriGS",
        "colab_type": "text"
      },
      "source": [
        "## 9. Functional Programming Basics\n"
      ]
    },
    {
      "cell_type": "markdown",
      "metadata": {
        "id": "JWYMcd9-riGS",
        "colab_type": "text"
      },
      "source": [
        "\"In a functional program, input flows through a set of functions. Each function operates on its input and produces some output. Functional style discourages functions with side effects that modify internal state or make other changes that aren’t visible in the function’s return value. Functions that have no side effects at all are called purely functional. Avoiding side effects means not using data structures that get updated as a program runs; every function’s output must only depend on its input.\""
      ]
    },
    {
      "cell_type": "markdown",
      "metadata": {
        "id": "JfoVC0ONriGS",
        "colab_type": "text"
      },
      "source": [
        "### List Comprehensions"
      ]
    },
    {
      "cell_type": "markdown",
      "metadata": {
        "run_control": {
          "frozen": false,
          "read_only": false
        },
        "id": "Iei9upP2riGT",
        "colab_type": "text"
      },
      "source": [
        "List comprehensions are a tool for transforming one list (any iterable actually) into another list. During this transformation, elements can be conditionally included in the new list and each element can be transformed as needed."
      ]
    },
    {
      "cell_type": "code",
      "metadata": {
        "run_control": {
          "frozen": false,
          "read_only": false
        },
        "id": "PaAqm82xriGT",
        "colab_type": "code",
        "colab": {}
      },
      "source": [
        "numbers = range(1,10)"
      ],
      "execution_count": 0,
      "outputs": []
    },
    {
      "cell_type": "code",
      "metadata": {
        "run_control": {
          "frozen": false,
          "read_only": false
        },
        "id": "jUdHddHoriGU",
        "colab_type": "code",
        "colab": {
          "base_uri": "https://localhost:8080/",
          "height": 34
        },
        "outputId": "83d261b8-77f6-4311-94a9-2605b31a9889"
      },
      "source": [
        "numbers"
      ],
      "execution_count": 122,
      "outputs": [
        {
          "output_type": "execute_result",
          "data": {
            "text/plain": [
              "range(1, 10)"
            ]
          },
          "metadata": {
            "tags": []
          },
          "execution_count": 122
        }
      ]
    },
    {
      "cell_type": "code",
      "metadata": {
        "run_control": {
          "frozen": false,
          "read_only": false
        },
        "id": "EUlaqgTKriGV",
        "colab_type": "code",
        "colab": {
          "base_uri": "https://localhost:8080/",
          "height": 34
        },
        "outputId": "8af93b40-f631-4c0d-f51d-aa19bfa9b25d"
      },
      "source": [
        "[x**2 for x in numbers if x%2 == 1]"
      ],
      "execution_count": 124,
      "outputs": [
        {
          "output_type": "execute_result",
          "data": {
            "text/plain": [
              "[1, 9, 25, 49, 81]"
            ]
          },
          "metadata": {
            "tags": []
          },
          "execution_count": 124
        }
      ]
    },
    {
      "cell_type": "markdown",
      "metadata": {
        "run_control": {
          "frozen": false,
          "read_only": false
        },
        "id": "5xQrYjpMriGW",
        "colab_type": "text"
      },
      "source": [
        "Every list comprehension can be rewritten as a for loop but not every for loop can be rewritten as a list comprehension.\n",
        "\n"
      ]
    },
    {
      "cell_type": "code",
      "metadata": {
        "run_control": {
          "frozen": false,
          "read_only": false
        },
        "id": "NFd9-epWriGW",
        "colab_type": "code",
        "colab": {
          "base_uri": "https://localhost:8080/",
          "height": 34
        },
        "outputId": "25f982ff-6fe2-4d07-ea71-48a41d9b0f85"
      },
      "source": [
        "squared_odds = []\n",
        "for n in numbers:\n",
        "    if n % 2 == 1:\n",
        "        squared_odds.append(n ** 2)\n",
        "\n",
        "squared_odds"
      ],
      "execution_count": 125,
      "outputs": [
        {
          "output_type": "execute_result",
          "data": {
            "text/plain": [
              "[1, 9, 25, 49, 81]"
            ]
          },
          "metadata": {
            "tags": []
          },
          "execution_count": 125
        }
      ]
    },
    {
      "cell_type": "markdown",
      "metadata": {
        "run_control": {
          "frozen": false,
          "read_only": false
        },
        "id": "BtyYwKh2riGW",
        "colab_type": "text"
      },
      "source": [
        "** <font color=\"#ff6600\"> new_list = [\"something with \" + ITEM for ITEM in old_list if a_condition(ITEM)] </font> **\n"
      ]
    },
    {
      "cell_type": "code",
      "metadata": {
        "run_control": {
          "frozen": false,
          "read_only": false
        },
        "scrolled": true,
        "id": "J20eaR0priGX",
        "colab_type": "code",
        "colab": {
          "base_uri": "https://localhost:8080/",
          "height": 34
        },
        "outputId": "081fa919-5590-4e91-f40b-85fc02ae9324"
      },
      "source": [
        "#the condition is not an obligation!\n",
        "[x for x in numbers]"
      ],
      "execution_count": 126,
      "outputs": [
        {
          "output_type": "execute_result",
          "data": {
            "text/plain": [
              "[1, 2, 3, 4, 5, 6, 7, 8, 9]"
            ]
          },
          "metadata": {
            "tags": []
          },
          "execution_count": 126
        }
      ]
    },
    {
      "cell_type": "markdown",
      "metadata": {
        "run_control": {
          "frozen": false,
          "read_only": false
        },
        "id": "T0ctuqbQriGY",
        "colab_type": "text"
      },
      "source": [
        "### Lambda, Map, Reduce, Filter"
      ]
    },
    {
      "cell_type": "markdown",
      "metadata": {
        "run_control": {
          "frozen": false,
          "read_only": false
        },
        "id": "itkbqrjnriGY",
        "colab_type": "text"
      },
      "source": [
        "Let's create anonymous functions (i.e. functions that are not bound to a name) at runtime, using a construct called \"lambda\"."
      ]
    },
    {
      "cell_type": "code",
      "metadata": {
        "run_control": {
          "frozen": false,
          "read_only": false
        },
        "id": "5tBaUPSJriGY",
        "colab_type": "code",
        "colab": {}
      },
      "source": [
        "doubler = lambda x: x * 2"
      ],
      "execution_count": 0,
      "outputs": []
    },
    {
      "cell_type": "code",
      "metadata": {
        "run_control": {
          "frozen": false,
          "read_only": false
        },
        "id": "pQ9FmXDwriGZ",
        "colab_type": "code",
        "colab": {
          "base_uri": "https://localhost:8080/",
          "height": 34
        },
        "outputId": "8f8a8e68-c443-4ec6-ecae-77d8bbf245fb"
      },
      "source": [
        "type(doubler)"
      ],
      "execution_count": 128,
      "outputs": [
        {
          "output_type": "execute_result",
          "data": {
            "text/plain": [
              "function"
            ]
          },
          "metadata": {
            "tags": []
          },
          "execution_count": 128
        }
      ]
    },
    {
      "cell_type": "markdown",
      "metadata": {
        "run_control": {
          "frozen": false,
          "read_only": false
        },
        "id": "uk6CjUsFriGa",
        "colab_type": "text"
      },
      "source": [
        "Lambda definition does not include a \"return\" statement -- it always contains an expression which is returned."
      ]
    },
    {
      "cell_type": "code",
      "metadata": {
        "run_control": {
          "frozen": false,
          "read_only": false
        },
        "id": "1wdyC96RriGa",
        "colab_type": "code",
        "colab": {
          "base_uri": "https://localhost:8080/",
          "height": 34
        },
        "outputId": "8d111c78-fbe1-4c68-a330-3ad8286953b0"
      },
      "source": [
        "doubler(8)"
      ],
      "execution_count": 129,
      "outputs": [
        {
          "output_type": "execute_result",
          "data": {
            "text/plain": [
              "16"
            ]
          },
          "metadata": {
            "tags": []
          },
          "execution_count": 129
        }
      ]
    },
    {
      "cell_type": "code",
      "metadata": {
        "run_control": {
          "frozen": false,
          "read_only": false
        },
        "id": "9Tgw6HSfriGa",
        "colab_type": "code",
        "colab": {}
      },
      "source": [
        "multiplier = lambda x,y: x*y "
      ],
      "execution_count": 0,
      "outputs": []
    },
    {
      "cell_type": "code",
      "metadata": {
        "run_control": {
          "frozen": false,
          "read_only": false
        },
        "id": "6PdpUMokriGc",
        "colab_type": "code",
        "colab": {
          "base_uri": "https://localhost:8080/",
          "height": 34
        },
        "outputId": "dabbec1b-0729-41b3-a689-29ec382951cf"
      },
      "source": [
        "multiplier(3,2)"
      ],
      "execution_count": 131,
      "outputs": [
        {
          "output_type": "execute_result",
          "data": {
            "text/plain": [
              "6"
            ]
          },
          "metadata": {
            "tags": []
          },
          "execution_count": 131
        }
      ]
    },
    {
      "cell_type": "markdown",
      "metadata": {
        "run_control": {
          "frozen": false,
          "read_only": false
        },
        "id": "24GrdN7CriGd",
        "colab_type": "text"
      },
      "source": [
        "** MAP **"
      ]
    },
    {
      "cell_type": "markdown",
      "metadata": {
        "run_control": {
          "frozen": false,
          "read_only": false
        },
        "id": "qiLGY49oriGd",
        "colab_type": "text"
      },
      "source": [
        "Apply the given function to every element in the given list"
      ]
    },
    {
      "cell_type": "code",
      "metadata": {
        "run_control": {
          "frozen": false,
          "read_only": false
        },
        "id": "8zcIzEMTriGd",
        "colab_type": "code",
        "colab": {}
      },
      "source": [
        "def power_x(x):\n",
        "    return x**2"
      ],
      "execution_count": 0,
      "outputs": []
    },
    {
      "cell_type": "code",
      "metadata": {
        "run_control": {
          "frozen": false,
          "read_only": false
        },
        "id": "JTxh4LMvriGe",
        "colab_type": "code",
        "colab": {
          "base_uri": "https://localhost:8080/",
          "height": 34
        },
        "outputId": "a5de5b42-1def-43cb-c62f-af70670b0afa"
      },
      "source": [
        "\n",
        "list(map(power_x,numbers))"
      ],
      "execution_count": 141,
      "outputs": [
        {
          "output_type": "execute_result",
          "data": {
            "text/plain": [
              "[1, 4, 9, 16, 25, 36, 49, 64, 81]"
            ]
          },
          "metadata": {
            "tags": []
          },
          "execution_count": 141
        }
      ]
    },
    {
      "cell_type": "markdown",
      "metadata": {
        "run_control": {
          "frozen": false,
          "read_only": false
        },
        "id": "y4TXb1CmriGf",
        "colab_type": "text"
      },
      "source": [
        "We can also use lambda functions!"
      ]
    },
    {
      "cell_type": "code",
      "metadata": {
        "run_control": {
          "frozen": false,
          "read_only": false
        },
        "id": "DPqWPXx2riGf",
        "colab_type": "code",
        "colab": {
          "base_uri": "https://localhost:8080/",
          "height": 34
        },
        "outputId": "cf6b0b1d-f98c-4e1e-b280-6ab78d0edc59"
      },
      "source": [
        "list(map(lambda x: x**2, numbers))"
      ],
      "execution_count": 142,
      "outputs": [
        {
          "output_type": "execute_result",
          "data": {
            "text/plain": [
              "[1, 4, 9, 16, 25, 36, 49, 64, 81]"
            ]
          },
          "metadata": {
            "tags": []
          },
          "execution_count": 142
        }
      ]
    },
    {
      "cell_type": "markdown",
      "metadata": {
        "run_control": {
          "frozen": false,
          "read_only": false
        },
        "id": "RwnjcR17riGg",
        "colab_type": "text"
      },
      "source": [
        "** Filter **"
      ]
    },
    {
      "cell_type": "markdown",
      "metadata": {
        "run_control": {
          "frozen": false,
          "read_only": false
        },
        "id": "j3awNi2lriGg",
        "colab_type": "text"
      },
      "source": [
        "Filter calls the lambda function for each element of the list, and returns a new list that contains only those elements for which the function returned \"True\"."
      ]
    },
    {
      "cell_type": "code",
      "metadata": {
        "run_control": {
          "frozen": false,
          "read_only": false
        },
        "id": "wKoX9VBnriGg",
        "colab_type": "code",
        "colab": {
          "base_uri": "https://localhost:8080/",
          "height": 34
        },
        "outputId": "dfb407d7-8542-428b-f262-b57e18548d99"
      },
      "source": [
        "filter(lambda x: x%3==0,numbers)"
      ],
      "execution_count": 136,
      "outputs": [
        {
          "output_type": "execute_result",
          "data": {
            "text/plain": [
              "<filter at 0x7f9e34d12ef0>"
            ]
          },
          "metadata": {
            "tags": []
          },
          "execution_count": 136
        }
      ]
    },
    {
      "cell_type": "markdown",
      "metadata": {
        "run_control": {
          "frozen": false,
          "read_only": false
        },
        "id": "XiJ2lnwZriGh",
        "colab_type": "text"
      },
      "source": [
        "** Reduce **"
      ]
    },
    {
      "cell_type": "code",
      "metadata": {
        "id": "7aAiqZB8riGi",
        "colab_type": "code",
        "colab": {}
      },
      "source": [
        "from functools import reduce"
      ],
      "execution_count": 0,
      "outputs": []
    },
    {
      "cell_type": "markdown",
      "metadata": {
        "run_control": {
          "frozen": false,
          "read_only": false
        },
        "id": "INhc-qjIriGj",
        "colab_type": "text"
      },
      "source": [
        " The function is called with the first two elements from the list, then with the result of that call and the third element, and so on, until all of the list elements have been handled. This means that our function is called n-1 times if the list contains n elements. The return value of the last call is the result of the reduce() construct."
      ]
    },
    {
      "cell_type": "code",
      "metadata": {
        "run_control": {
          "frozen": false,
          "read_only": false
        },
        "id": "-6QW90wEriGj",
        "colab_type": "code",
        "colab": {
          "base_uri": "https://localhost:8080/",
          "height": 34
        },
        "outputId": "570dc1e0-2f3b-46bb-d94b-5137fdde6f92"
      },
      "source": [
        "reduce(lambda x,y: x + y , numbers)"
      ],
      "execution_count": 138,
      "outputs": [
        {
          "output_type": "execute_result",
          "data": {
            "text/plain": [
              "45"
            ]
          },
          "metadata": {
            "tags": []
          },
          "execution_count": 138
        }
      ]
    },
    {
      "cell_type": "code",
      "metadata": {
        "run_control": {
          "frozen": false,
          "read_only": false
        },
        "id": "H7HlcIWXriGk",
        "colab_type": "code",
        "colab": {
          "base_uri": "https://localhost:8080/",
          "height": 34
        },
        "outputId": "e40cbc8a-74e4-4387-e0b8-429977243e69"
      },
      "source": [
        "def sum(x,y):\n",
        "    return x+y\n",
        "\n",
        "reduce(sum,numbers)"
      ],
      "execution_count": 139,
      "outputs": [
        {
          "output_type": "execute_result",
          "data": {
            "text/plain": [
              "45"
            ]
          },
          "metadata": {
            "tags": []
          },
          "execution_count": 139
        }
      ]
    },
    {
      "cell_type": "code",
      "metadata": {
        "run_control": {
          "frozen": false,
          "read_only": false
        },
        "id": "voqnOkypriGk",
        "colab_type": "code",
        "colab": {}
      },
      "source": [
        "\n",
        "reduce(lambda x,y: x + y,[1,2,4]) \n",
        "\n",
        "#first does 1 + 2 = 3\n",
        "#then 3 + 4 = 7"
      ],
      "execution_count": 0,
      "outputs": []
    },
    {
      "cell_type": "markdown",
      "metadata": {
        "run_control": {
          "frozen": false,
          "read_only": false
        },
        "id": "z-Fn8x7uriGo",
        "colab_type": "text"
      },
      "source": [
        "## 10. Modules and Virtual Environments"
      ]
    },
    {
      "cell_type": "markdown",
      "metadata": {
        "run_control": {
          "frozen": false,
          "read_only": false
        },
        "id": "lhWuY0UCriGp",
        "colab_type": "text"
      },
      "source": [
        "The modules are loaded with the import statement. Thus, when using a module structure, it is necessary to identify the module. This is called absolute import."
      ]
    },
    {
      "cell_type": "code",
      "metadata": {
        "run_control": {
          "frozen": false,
          "read_only": false
        },
        "id": "dvExua4hriGp",
        "colab_type": "code",
        "colab": {}
      },
      "source": [
        "import os #import the os module\n",
        "os.listdir('.') #when using a module structure, it is necessary to identify the module. This is called absolute import."
      ],
      "execution_count": 0,
      "outputs": []
    },
    {
      "cell_type": "code",
      "metadata": {
        "run_control": {
          "frozen": false,
          "read_only": false
        },
        "id": "MRLf3TELriGp",
        "colab_type": "code",
        "colab": {}
      },
      "source": [
        "from numpy import random #You can also import modules with relative form:\n",
        "#import numpy\n",
        "random.randn(10,10)"
      ],
      "execution_count": 0,
      "outputs": []
    },
    {
      "cell_type": "code",
      "metadata": {
        "id": "wy9SzQgsriGr",
        "colab_type": "code",
        "colab": {}
      },
      "source": [
        "import numpy as np #you can use the modules with the custom name you give\n",
        "np.random.randint(100)"
      ],
      "execution_count": 0,
      "outputs": []
    },
    {
      "cell_type": "markdown",
      "metadata": {
        "run_control": {
          "frozen": false,
          "read_only": false
        },
        "id": "L9TfgFVWriGs",
        "colab_type": "text"
      },
      "source": [
        "#### Python Virtual Environments"
      ]
    },
    {
      "cell_type": "markdown",
      "metadata": {
        "run_control": {
          "frozen": false,
          "read_only": false
        },
        "id": "UoqcHCm7riGt",
        "colab_type": "text"
      },
      "source": [
        "Virtual Environment is a tool to keep dependencies on different modules and versions separate for each project. So that projects have their own isolated environments and istalling different libraries for one project does not affect the others."
      ]
    },
    {
      "cell_type": "markdown",
      "metadata": {
        "run_control": {
          "frozen": false,
          "read_only": false
        },
        "id": "vQciv5CfriGt",
        "colab_type": "text"
      },
      "source": [
        "We will use Anaconda Python Distribution which includes basic libraries for data science"
      ]
    },
    {
      "cell_type": "code",
      "metadata": {
        "run_control": {
          "frozen": false,
          "read_only": false
        },
        "id": "NhADNqrOriGt",
        "colab_type": "code",
        "colab": {}
      },
      "source": [
        "%%bash\n",
        "conda -V"
      ],
      "execution_count": 0,
      "outputs": []
    },
    {
      "cell_type": "code",
      "metadata": {
        "run_control": {
          "frozen": false,
          "read_only": false
        },
        "id": "RZY3vqtlriGv",
        "colab_type": "code",
        "colab": {}
      },
      "source": [
        "#installing libraries with conda\n",
        "conda install <name of the library>"
      ],
      "execution_count": 0,
      "outputs": []
    },
    {
      "cell_type": "markdown",
      "metadata": {
        "run_control": {
          "frozen": false,
          "read_only": false
        },
        "id": "C_MQEde0riGv",
        "colab_type": "text"
      },
      "source": [
        "#### create a virtual environment with conda"
      ]
    },
    {
      "cell_type": "markdown",
      "metadata": {
        "run_control": {
          "frozen": false,
          "read_only": false
        },
        "id": "YoiuWTKmriGv",
        "colab_type": "text"
      },
      "source": [
        "conda create -n yourenvname python=x.x anaconda  \n",
        "( x.x is python version number such as = 2.7)"
      ]
    },
    {
      "cell_type": "markdown",
      "metadata": {
        "run_control": {
          "frozen": false,
          "read_only": false
        },
        "id": "WDrua5d8riGx",
        "colab_type": "text"
      },
      "source": [
        "But, our platform has scripts to simply create a python environment with pre-installed libraries -->"
      ]
    },
    {
      "cell_type": "markdown",
      "metadata": {
        "run_control": {
          "frozen": false,
          "read_only": false
        },
        "id": "rwzl9-SFriGx",
        "colab_type": "text"
      },
      "source": [
        "For creating a default Python2 virtual environment, called condap2   \n",
        "** makepy2.sh  **\n",
        "\n",
        "For creating a default Python3 virtual environment, called condap3  \n",
        "** makepy3.sh **"
      ]
    },
    {
      "cell_type": "markdown",
      "metadata": {
        "run_control": {
          "frozen": false,
          "read_only": false
        },
        "id": "WivOL0NGriGx",
        "colab_type": "text"
      },
      "source": [
        "#### activate virtual environment"
      ]
    },
    {
      "cell_type": "code",
      "metadata": {
        "run_control": {
          "frozen": false,
          "read_only": false
        },
        "id": "KNKWWD_ZriGx",
        "colab_type": "code",
        "colab": {}
      },
      "source": [
        "%%bash\n",
        "source activate condap2"
      ],
      "execution_count": 0,
      "outputs": []
    },
    {
      "cell_type": "markdown",
      "metadata": {
        "run_control": {
          "frozen": false,
          "read_only": false
        },
        "id": "fYC2BrSLriGz",
        "colab_type": "text"
      },
      "source": [
        "#### de-activate virtual environment"
      ]
    },
    {
      "cell_type": "code",
      "metadata": {
        "run_control": {
          "frozen": false,
          "read_only": false
        },
        "id": "BdMZXlXnriGz",
        "colab_type": "code",
        "colab": {}
      },
      "source": [
        "%%bash\n",
        "source deactivate"
      ],
      "execution_count": 0,
      "outputs": []
    },
    {
      "cell_type": "markdown",
      "metadata": {
        "run_control": {
          "frozen": false,
          "read_only": false
        },
        "id": "NfmsKBjrriG0",
        "colab_type": "text"
      },
      "source": [
        "#### install a library on your virtual environment"
      ]
    },
    {
      "cell_type": "markdown",
      "metadata": {
        "run_control": {
          "frozen": false,
          "read_only": false
        },
        "id": "FenlbzhjriG0",
        "colab_type": "text"
      },
      "source": [
        "1. Activate your virtual environment\n",
        "2. conda install \"name of the library\"  (or use pip: pip install \"name of the library\")"
      ]
    },
    {
      "cell_type": "markdown",
      "metadata": {
        "run_control": {
          "frozen": false,
          "read_only": false
        },
        "id": "OJajxsCuriG1",
        "colab_type": "text"
      },
      "source": [
        "**list virtual environments**"
      ]
    },
    {
      "cell_type": "code",
      "metadata": {
        "run_control": {
          "frozen": false,
          "read_only": false
        },
        "id": "dLmJ3tbEriG1",
        "colab_type": "code",
        "colab": {}
      },
      "source": [
        "%%bash\n",
        "conda env list"
      ],
      "execution_count": 0,
      "outputs": []
    },
    {
      "cell_type": "markdown",
      "metadata": {
        "run_control": {
          "frozen": false,
          "read_only": false
        },
        "id": "NeINiLG1riG2",
        "colab_type": "text"
      },
      "source": [
        "** Exercises  **\n",
        "\n",
        "    1. Write a program which can map() and filter() to make a list whose elements are square of even number in [1,2,3,4,5,6,7,8,9,10].\n",
        " \n",
        " ____________________________________________________________________\n",
        "\n",
        "    2. Write a program which can filter() to make a list whose elements are even number between 1 and 20 (both included).\n",
        "____________________________________________________________________\n",
        "\n",
        "    3. Write a program which will find all such numbers which are divisible by 7 but are not a multiple of 5,between 2000 and 3200 (both included). The numbers obtained should be printed in a comma-separated sequence on a single line.\n",
        "\n",
        "____________________________________________________________________\n",
        "\n",
        "    4.With a given integral number n, write a program to generate a dictionary that contains (i, i*i) such that is an integral number between 1 and n (both included). and then the program should print the dictionary.\n",
        "\n",
        "    Suppose the following input is supplied to the program: 8\n",
        "    Then, the output should be:\n",
        "    {1: 1, 2: 4, 3: 9, 4: 16, 5: 25, 6: 36, 7: 49, 8: 64}\n",
        "____________________________________________________________________\n",
        "    \n",
        "    5. Write a program that accepts a sequence of whitespace separated words as input and prints the words after removing all duplicate words and sorting them alphanumerically.\n",
        "    \n",
        "    Suppose the following input is supplied to the program:\n",
        "    hello world and practice makes perfect and hello world again\n",
        "    Then, the output should be:\n",
        "    again and hello makes perfect practice world"
      ]
    }
  ]
}