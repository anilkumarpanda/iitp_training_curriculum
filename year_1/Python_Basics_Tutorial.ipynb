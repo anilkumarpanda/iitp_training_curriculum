{
 "cells": [
  {
   "cell_type": "markdown",
   "metadata": {
    "run_control": {
     "frozen": false,
     "read_only": false
    }
   },
   "source": [
    "# <span style=\"color:#f44259\"> Python Tutorial I: Basics</span>\n",
    "\n",
    "> \"Simplicity is the ultimate sophistication.\"  Leonardo da Vinci\n",
    "\n",
    "> “Always code as if the guy who ends up maintaining your code will be a violent psychopath who knows where you live.”  John Woods"
   ]
  },
  {
   "cell_type": "markdown",
   "metadata": {
    "run_control": {
     "frozen": false,
     "read_only": false
    }
   },
   "source": [
    "This tutorial introduces Python fundementals in a Jupyter Notebook environment. After following this tutorial, you\n",
    "will be able to write, execute and present simple Python programs in Jupyter Notebooks. "
   ]
  },
  {
   "cell_type": "markdown",
   "metadata": {
    "run_control": {
     "frozen": false,
     "read_only": false
    }
   },
   "source": [
    "## 1. Setup Anaconda for Python"
   ]
  },
  {
   "cell_type": "markdown",
   "metadata": {
    "run_control": {
     "frozen": false,
     "read_only": false
    }
   },
   "source": [
    "Anaconda is a free, very-easy-to-install Python distribution, which includes over 720 open source packages. \n",
    "It can be used on Windows, OS X and Linux."
   ]
  },
  {
   "cell_type": "markdown",
   "metadata": {
    "run_control": {
     "frozen": false,
     "read_only": false
    }
   },
   "source": [
    "* **TODO**: Download and install Anaconda for Python 2.7 from [Anaconda Webpage](https://docs.continuum.io/anaconda/install)\n",
    "* **TODO**: After installation, click on Launcher and launch Jupyter (Jupyter) notebook "
   ]
  },
  {
   "cell_type": "markdown",
   "metadata": {
    "run_control": {
     "frozen": false,
     "read_only": false
    }
   },
   "source": [
    "## 2. Programming Environment: Jupyter (old name: iPython) Notebooks"
   ]
  },
  {
   "cell_type": "markdown",
   "metadata": {
    "run_control": {
     "frozen": false,
     "read_only": false
    }
   },
   "source": [
    "Jupyter Notebook is a browser-based Python progamming and presentation environment. \n",
    "It allows you to write Python code, execute that code and present the results in the same web page."
   ]
  },
  {
   "cell_type": "markdown",
   "metadata": {
    "run_control": {
     "frozen": false,
     "read_only": false
    }
   },
   "source": [
    "The Jupyter Notebook has two different keyboard input modes: EDIT MODE and COMMAND MODE"
   ]
  },
  {
   "cell_type": "markdown",
   "metadata": {
    "run_control": {
     "frozen": false,
     "read_only": false
    }
   },
   "source": [
    "- **Edit mode** allows you to type code/text into a cell and is indicated by a green cell border. \n",
    "You can edit cells in the edit mode by writing text or code."
   ]
  },
  {
   "cell_type": "markdown",
   "metadata": {
    "run_control": {
     "frozen": false,
     "read_only": false
    }
   },
   "source": [
    "Exercise: \n",
    "Click on this cell and then press Enter on your keyboard or directly click into the cell to edit it.\n",
    "(delete this)"
   ]
  },
  {
   "cell_type": "markdown",
   "metadata": {
    "run_control": {
     "frozen": false,
     "read_only": false
    }
   },
   "source": [
    "- **Command mode** binds the keyboard to notebook level actions and is indicated by a grey cell border."
   ]
  },
  {
   "cell_type": "raw",
   "metadata": {},
   "source": [
    "Exersice: Click left of the cell below and see the grey border.\n",
    "Then, press ctrl+enter to execute the following Python code"
   ]
  },
  {
   "cell_type": "markdown",
   "metadata": {},
   "source": [
    "# Hello world "
   ]
  },
  {
   "cell_type": "markdown",
   "metadata": {},
   "source": [
    "### Print statements"
   ]
  },
  {
   "cell_type": "code",
   "execution_count": 1,
   "metadata": {
    "collapsed": false,
    "run_control": {
     "frozen": false,
     "read_only": false
    }
   },
   "outputs": [
    {
     "name": "stdout",
     "output_type": "stream",
     "text": [
      "Hello world!\n"
     ]
    }
   ],
   "source": [
    "print (\"Hello world!\")"
   ]
  },
  {
   "cell_type": "markdown",
   "metadata": {
    "run_control": {
     "frozen": false,
     "read_only": false
    }
   },
   "source": [
    "- **Homework**: Click on Help -> Keyboard Shortcuts and read about the keyboard shortcuts."
   ]
  },
  {
   "cell_type": "markdown",
   "metadata": {
    "run_control": {
     "frozen": false,
     "read_only": false
    }
   },
   "source": [
    "### Exercise:  \n",
    "\n",
    "a. Make the text on this line bold (Hint: Click on Help -> Markdown )  \n",
    "b. Enter a cell below using the keyboard shortcut and delete it with another shortcut"
   ]
  },
  {
   "cell_type": "markdown",
   "metadata": {
    "run_control": {
     "frozen": false,
     "read_only": false
    }
   },
   "source": [
    "### Comments"
   ]
  },
  {
   "cell_type": "code",
   "execution_count": 2,
   "metadata": {
    "collapsed": false,
    "run_control": {
     "frozen": false,
     "read_only": false
    }
   },
   "outputs": [],
   "source": [
    "# This is a comment. It means nothing after # is executed\n",
    "\n",
    "#If you dont believe me, run this cell and see"
   ]
  },
  {
   "cell_type": "markdown",
   "metadata": {
    "run_control": {
     "frozen": false,
     "read_only": false
    }
   },
   "source": [
    "**Advice**: Always and always comment your code because CODE CHANGES and the coder too!"
   ]
  },
  {
   "cell_type": "markdown",
   "metadata": {
    "run_control": {
     "frozen": false,
     "read_only": false
    }
   },
   "source": [
    "### Printing"
   ]
  },
  {
   "cell_type": "markdown",
   "metadata": {
    "run_control": {
     "frozen": false,
     "read_only": false
    }
   },
   "source": [
    "- **TODO**: Run the cell below and fix the error!"
   ]
  },
  {
   "cell_type": "code",
   "execution_count": null,
   "metadata": {
    "collapsed": false,
    "run_control": {
     "frozen": false,
     "read_only": false
    }
   },
   "outputs": [],
   "source": [
    "Print \"Python is Case-sensitive!\""
   ]
  },
  {
   "cell_type": "markdown",
   "metadata": {
    "run_control": {
     "frozen": false,
     "read_only": false
    }
   },
   "source": [
    "# Variables"
   ]
  },
  {
   "cell_type": "markdown",
   "metadata": {
    "run_control": {
     "frozen": false,
     "read_only": false
    }
   },
   "source": [
    "* A variable is a symbol that holds a value. \n",
    "* Variables in the Python are created by assignment. \n",
    "* Python is a dynamically typed language, which means you can assign values/objects of different types to the same variable during the execution of the program.\n",
    "* Variable names must start with letter or underscore (_) and be followed by letters, digits or underscores. \n",
    "* Every variable, indeed everything in Python, is an object"
   ]
  },
  {
   "cell_type": "code",
   "execution_count": 4,
   "metadata": {
    "collapsed": true
   },
   "outputs": [],
   "source": [
    "a = 5"
   ]
  },
  {
   "cell_type": "code",
   "execution_count": 5,
   "metadata": {
    "collapsed": false,
    "run_control": {
     "frozen": false,
     "read_only": false
    }
   },
   "outputs": [],
   "source": [
    "my_integer_variable = 5\n",
    "my_string_variable = \"I am a beautiful string\"\n",
    "my_float_variable = 4.5\n"
   ]
  },
  {
   "cell_type": "code",
   "execution_count": 6,
   "metadata": {
    "collapsed": false,
    "run_control": {
     "frozen": false,
     "read_only": false
    }
   },
   "outputs": [
    {
     "name": "stdout",
     "output_type": "stream",
     "text": [
      "my_integer_variable\n"
     ]
    }
   ],
   "source": [
    "print(\"my_integer_variable\") #lets remove the quotation marks and print again"
   ]
  },
  {
   "cell_type": "code",
   "execution_count": 7,
   "metadata": {
    "collapsed": false,
    "run_control": {
     "frozen": false,
     "read_only": false
    }
   },
   "outputs": [
    {
     "name": "stdout",
     "output_type": "stream",
     "text": [
      "5\n"
     ]
    }
   ],
   "source": [
    "print(my_integer_variable) # what do you think it will print? what is the problem?"
   ]
  },
  {
   "cell_type": "code",
   "execution_count": 8,
   "metadata": {
    "collapsed": false,
    "run_control": {
     "frozen": false,
     "read_only": false
    }
   },
   "outputs": [
    {
     "name": "stdout",
     "output_type": "stream",
     "text": [
      "9.5\n"
     ]
    }
   ],
   "source": [
    "print(my_integer_variable + my_float_variable)"
   ]
  },
  {
   "cell_type": "markdown",
   "metadata": {},
   "source": [
    "the `type` built-in function"
   ]
  },
  {
   "cell_type": "code",
   "execution_count": 10,
   "metadata": {
    "collapsed": false,
    "run_control": {
     "frozen": false,
     "read_only": false
    }
   },
   "outputs": [
    {
     "name": "stdout",
     "output_type": "stream",
     "text": [
      "<class 'float'>\n"
     ]
    }
   ],
   "source": [
    "print(type(my_integer_variable + my_float_variable))\n",
    "\n"
   ]
  },
  {
   "cell_type": "code",
   "execution_count": 11,
   "metadata": {
    "collapsed": false,
    "run_control": {
     "frozen": false,
     "read_only": false
    }
   },
   "outputs": [
    {
     "name": "stdout",
     "output_type": "stream",
     "text": [
      "I am a beautiful string   5\n"
     ]
    }
   ],
   "source": [
    "print(my_string_variable, \" \", str(my_integer_variable))\n",
    "database_name = my_string_variable + str(my_integer_variable)"
   ]
  },
  {
   "cell_type": "code",
   "execution_count": 13,
   "metadata": {
    "collapsed": false,
    "run_control": {
     "frozen": false,
     "read_only": false
    }
   },
   "outputs": [
    {
     "ename": "TypeError",
     "evalue": "unsupported operand type(s) for +: 'int' and 'str'",
     "output_type": "error",
     "traceback": [
      "\u001b[0;31m---------------------------------------------------------------------------\u001b[0m",
      "\u001b[0;31mTypeError\u001b[0m                                 Traceback (most recent call last)",
      "\u001b[0;32m<ipython-input-13-cdea02145579>\u001b[0m in \u001b[0;36m<module>\u001b[0;34m()\u001b[0m\n\u001b[1;32m      1\u001b[0m \u001b[0mmy_integer_variable\u001b[0m \u001b[0;34m=\u001b[0m \u001b[0;36m10\u001b[0m \u001b[0;31m# lets assign a different variable to the my_integerr_variable\u001b[0m\u001b[0;34m\u001b[0m\u001b[0m\n\u001b[0;32m----> 2\u001b[0;31m \u001b[0mprint\u001b[0m\u001b[0;34m(\u001b[0m\u001b[0mmy_integer_variable\u001b[0m \u001b[0;34m+\u001b[0m \u001b[0mmy_string_variable\u001b[0m\u001b[0;34m)\u001b[0m\u001b[0;34m\u001b[0m\u001b[0m\n\u001b[0m",
      "\u001b[0;31mTypeError\u001b[0m: unsupported operand type(s) for +: 'int' and 'str'"
     ]
    }
   ],
   "source": [
    "my_integer_variable = 10 # lets assign a different variable to the my_integerr_variable\n",
    "print(my_integer_variable + my_string_variable)"
   ]
  },
  {
   "cell_type": "code",
   "execution_count": 15,
   "metadata": {
    "collapsed": false,
    "run_control": {
     "frozen": false,
     "read_only": false
    }
   },
   "outputs": [
    {
     "name": "stdout",
     "output_type": "stream",
     "text": [
      "I am a beautiful stringI am a beautiful stringI am a beautiful string\n"
     ]
    }
   ],
   "source": [
    " print(3*my_string_variable )# what do you think it will print?"
   ]
  },
  {
   "cell_type": "markdown",
   "metadata": {
    "run_control": {
     "frozen": false,
     "read_only": false
    }
   },
   "source": [
    "* **Question**: How to delete a variable?"
   ]
  },
  {
   "cell_type": "markdown",
   "metadata": {
    "run_control": {
     "frozen": false,
     "read_only": false
    }
   },
   "source": [
    "*** Bonus: Naming Conventions ***"
   ]
  },
  {
   "cell_type": "markdown",
   "metadata": {
    "run_control": {
     "frozen": false,
     "read_only": false
    }
   },
   "source": [
    "[Google Python Style Guide](https://google.github.io/styleguide/pyguide.html) recommends the following convention"
   ]
  },
  {
   "cell_type": "raw",
   "metadata": {},
   "source": [
    "module_name, package_name, ClassName, method_name, ExceptionName, function_name, GLOBAL_CONSTANT_NAME, global_var_name, instance_var_name, function_parameter_name, local_var_name"
   ]
  },
  {
   "cell_type": "markdown",
   "metadata": {},
   "source": [
    "# Strings\n",
    "\n",
    "Strings are variables representing text.<br>\n",
    "A string is a particular python object that comes with some built-in function"
   ]
  },
  {
   "cell_type": "code",
   "execution_count": 16,
   "metadata": {
    "collapsed": false
   },
   "outputs": [],
   "source": [
    "text = \"Magnis diam. Fringilla auctor nullam vel faucibus curae; vitae    sociis\"\n"
   ]
  },
  {
   "cell_type": "code",
   "execution_count": 17,
   "metadata": {
    "collapsed": false
   },
   "outputs": [
    {
     "data": {
      "text/plain": [
       "['Magnis',\n",
       " 'diam.',\n",
       " 'Fringilla',\n",
       " 'auctor',\n",
       " 'nullam',\n",
       " 'vel',\n",
       " 'faucibus',\n",
       " 'curae;',\n",
       " 'vitae',\n",
       " 'sociis']"
      ]
     },
     "execution_count": 17,
     "metadata": {},
     "output_type": "execute_result"
    }
   ],
   "source": [
    "text.split()"
   ]
  },
  {
   "cell_type": "markdown",
   "metadata": {},
   "source": [
    "*** We called the function for the string.  ***\n",
    "* <b>But how do I know which functions are there?</b><br>\n",
    "type the variable name, followed by the dot and the tab to get the available functions/attributes, for instance:<br>\n",
    "    `text.+<tab>`\n",
    "* <b>And how can I get more help? </b><br>\n",
    "1) Look it up in the documentation online (https://docs.python.org/3/library/string.html)<br>\n",
    "2) Use the built-in function of jupyter to access the funtion docstrings: `help(text.split)` or `text.split?`\n"
   ]
  },
  {
   "cell_type": "code",
   "execution_count": 18,
   "metadata": {
    "collapsed": false
   },
   "outputs": [
    {
     "name": "stdout",
     "output_type": "stream",
     "text": [
      "Help on built-in function split:\n",
      "\n",
      "split(...) method of builtins.str instance\n",
      "    S.split(sep=None, maxsplit=-1) -> list of strings\n",
      "    \n",
      "    Return a list of the words in S, using sep as the\n",
      "    delimiter string.  If maxsplit is given, at most maxsplit\n",
      "    splits are done. If sep is not specified or is None, any\n",
      "    whitespace string is a separator and empty strings are\n",
      "    removed from the result.\n",
      "\n"
     ]
    }
   ],
   "source": [
    "help(text.split )"
   ]
  },
  {
   "cell_type": "code",
   "execution_count": 19,
   "metadata": {
    "collapsed": false
   },
   "outputs": [],
   "source": [
    "# This works only in interactive notebooks like jupyter\n",
    "text.split?"
   ]
  },
  {
   "cell_type": "markdown",
   "metadata": {},
   "source": [
    "### More operations with strings"
   ]
  },
  {
   "cell_type": "code",
   "execution_count": 20,
   "metadata": {
    "collapsed": true
   },
   "outputs": [],
   "source": [
    "name = \"  John _ Doe   \""
   ]
  },
  {
   "cell_type": "code",
   "execution_count": 21,
   "metadata": {
    "collapsed": false
   },
   "outputs": [
    {
     "data": {
      "text/plain": [
       "15"
      ]
     },
     "execution_count": 21,
     "metadata": {},
     "output_type": "execute_result"
    }
   ],
   "source": [
    "len(name)"
   ]
  },
  {
   "cell_type": "code",
   "execution_count": 22,
   "metadata": {
    "collapsed": false
   },
   "outputs": [
    {
     "data": {
      "text/plain": [
       "['  John ', ' Doe   ']"
      ]
     },
     "execution_count": 22,
     "metadata": {},
     "output_type": "execute_result"
    }
   ],
   "source": [
    "name.split(\"_\")"
   ]
  },
  {
   "cell_type": "code",
   "execution_count": 23,
   "metadata": {
    "collapsed": false
   },
   "outputs": [
    {
     "data": {
      "text/plain": [
       "['John ', ' Doe']"
      ]
     },
     "execution_count": 23,
     "metadata": {},
     "output_type": "execute_result"
    }
   ],
   "source": [
    "name.strip().split(\"_\") #removes whitespaces from the beginning and end of a string"
   ]
  },
  {
   "cell_type": "code",
   "execution_count": 24,
   "metadata": {
    "collapsed": false
   },
   "outputs": [
    {
     "data": {
      "text/plain": [
       "['John', 'Doe']"
      ]
     },
     "execution_count": 24,
     "metadata": {},
     "output_type": "execute_result"
    }
   ],
   "source": [
    "name.replace(\" \",\"\").split(\"_\")"
   ]
  },
  {
   "cell_type": "markdown",
   "metadata": {},
   "source": [
    "#### Bonus question: did my variable actually change?"
   ]
  },
  {
   "cell_type": "code",
   "execution_count": 25,
   "metadata": {
    "collapsed": false
   },
   "outputs": [
    {
     "data": {
      "text/plain": [
       "'  John _ Doe   '"
      ]
     },
     "execution_count": 25,
     "metadata": {},
     "output_type": "execute_result"
    }
   ],
   "source": [
    "name"
   ]
  },
  {
   "cell_type": "code",
   "execution_count": 26,
   "metadata": {
    "collapsed": false
   },
   "outputs": [
    {
     "data": {
      "text/plain": [
       "'  JOHN _ DOE   '"
      ]
     },
     "execution_count": 26,
     "metadata": {},
     "output_type": "execute_result"
    }
   ],
   "source": [
    "name.upper()"
   ]
  },
  {
   "cell_type": "code",
   "execution_count": 27,
   "metadata": {
    "collapsed": true
   },
   "outputs": [],
   "source": [
    "#### Let's go back to our text variable"
   ]
  },
  {
   "cell_type": "code",
   "execution_count": 28,
   "metadata": {
    "collapsed": false
   },
   "outputs": [
    {
     "data": {
      "text/plain": [
       "'Magnis diam. Fringilla auctor nullam vel faucibus curae; vitae    sociis'"
      ]
     },
     "execution_count": 28,
     "metadata": {},
     "output_type": "execute_result"
    }
   ],
   "source": [
    "text"
   ]
  },
  {
   "cell_type": "code",
   "execution_count": 29,
   "metadata": {
    "collapsed": false
   },
   "outputs": [
    {
     "data": {
      "text/plain": [
       "7"
      ]
     },
     "execution_count": 29,
     "metadata": {},
     "output_type": "execute_result"
    }
   ],
   "source": [
    "### What does this actually mean?\n",
    "text.find(\"diam\")"
   ]
  },
  {
   "cell_type": "markdown",
   "metadata": {},
   "source": [
    "A string is a sequence of carachters. The find function return the index (location) of the substring (in our example \"diam\")"
   ]
  },
  {
   "cell_type": "markdown",
   "metadata": {},
   "source": [
    " Let's look at this block and let's understand what it is doing?<br>\n",
    "What do I need to Change here to write <br>\n",
    "`Hello John Doe`? (with only one space?)"
   ]
  },
  {
   "cell_type": "code",
   "execution_count": 30,
   "metadata": {
    "collapsed": false
   },
   "outputs": [
    {
     "data": {
      "text/plain": [
       "'hello John   DOE'"
      ]
     },
     "execution_count": 30,
     "metadata": {},
     "output_type": "execute_result"
    }
   ],
   "source": [
    "my_name = \" John   \"\n",
    "my_lastname = \"doe  \"\n",
    "my_name.capitalize()\n",
    "my_lastname = my_lastname.upper()\n",
    "#my_name.lower()\n",
    "#c = my_name + her_name\n",
    "\n",
    "my_full_name = \"\".join([\"hello\",my_name,my_lastname])\n",
    "#c\n",
    "my_full_name = my_full_name.strip()\n",
    "my_full_name\n",
    "#c.split()"
   ]
  },
  {
   "cell_type": "markdown",
   "metadata": {},
   "source": [
    "### The format function"
   ]
  },
  {
   "cell_type": "code",
   "execution_count": 31,
   "metadata": {
    "collapsed": true
   },
   "outputs": [],
   "source": [
    "text = \"Pi is the {} of a circle's {} to its and equals to\".\\\n",
    "format('circumference','ratio')"
   ]
  },
  {
   "cell_type": "code",
   "execution_count": 32,
   "metadata": {
    "collapsed": false
   },
   "outputs": [
    {
     "name": "stdout",
     "output_type": "stream",
     "text": [
      "Pi is the circumference of a circle's ratio to its and equals to\n"
     ]
    }
   ],
   "source": [
    "print(text)"
   ]
  },
  {
   "cell_type": "code",
   "execution_count": 33,
   "metadata": {
    "collapsed": false
   },
   "outputs": [
    {
     "data": {
      "text/plain": [
       "\"Pi is the ratio of a circle's circumference to its and equals to\""
      ]
     },
     "execution_count": 33,
     "metadata": {},
     "output_type": "execute_result"
    }
   ],
   "source": [
    "text =  \"Pi is the {1} of a circle's {0} to its and equals to\".format('circumference','ratio')\n",
    "text"
   ]
  },
  {
   "cell_type": "code",
   "execution_count": 34,
   "metadata": {
    "collapsed": false
   },
   "outputs": [
    {
     "name": "stdout",
     "output_type": "stream",
     "text": [
      "Pi is the circumference of a circle's ratio to its and equals to\n"
     ]
    }
   ],
   "source": [
    "print( \"Pi is the {a} of a circle's {b} to its and equals to\".\\\n",
    "format(a='circumference',b='ratio'))"
   ]
  },
  {
   "cell_type": "markdown",
   "metadata": {},
   "source": [
    "* **TODO**: Read about the **str.format()** method on [Python Documentation](https://docs.python.org/2/library/string.html#format-examples)"
   ]
  },
  {
   "cell_type": "code",
   "execution_count": 35,
   "metadata": {
    "collapsed": false
   },
   "outputs": [
    {
     "name": "stdout",
     "output_type": "stream",
     "text": [
      "Pi equals to 3.14\n"
     ]
    }
   ],
   "source": [
    "#Formatting with only two decimals?\n",
    "print(\"Pi equals to {:.2f}\".format(3.141592653589793))"
   ]
  },
  {
   "cell_type": "code",
   "execution_count": 36,
   "metadata": {
    "collapsed": false
   },
   "outputs": [
    {
     "name": "stdout",
     "output_type": "stream",
     "text": [
      "Pi equals to ++++++3.14\n"
     ]
    }
   ],
   "source": [
    "print(\"Pi equals to {:+>10.2f}\".format(3.141592653589793))"
   ]
  },
  {
   "cell_type": "markdown",
   "metadata": {},
   "source": [
    "** Exercise **\n",
    "1. Define 3 variables holding the last names of your classmates\n",
    "2. Define 3 variables holding the ages of those classmates\n",
    "3. Print them in this format:   \n",
    "        +++++++++Genc: 20\t\n",
    "        ++++++Verhaaf: 90   \n",
    "    "
   ]
  },
  {
   "cell_type": "markdown",
   "metadata": {
    "run_control": {
     "frozen": false,
     "read_only": false
    }
   },
   "source": [
    "# Operations"
   ]
  },
  {
   "cell_type": "markdown",
   "metadata": {
    "run_control": {
     "frozen": false,
     "read_only": false
    }
   },
   "source": [
    "**TODO**: Read about the built-in types and operations on the [Python Docs](https://docs.python.org/2/library/stdtypes.html)"
   ]
  },
  {
   "cell_type": "markdown",
   "metadata": {},
   "source": [
    "    <   : strictly less than\t \n",
    "    <=  : less than or equal\t \n",
    "    >  : strictly greater than\t \n",
    "    >= : greater than or equal\t \n",
    "    ==  : equal\t \n",
    "    !=  : not equal\n",
    "\n",
    "    or: logical or\n",
    "    and: logical and\n",
    "    not: negate\n",
    "    \n",
    "    is  : object identity\t \n",
    "    is not : negated object identity"
   ]
  },
  {
   "cell_type": "code",
   "execution_count": 37,
   "metadata": {
    "collapsed": false,
    "run_control": {
     "frozen": false,
     "read_only": false
    }
   },
   "outputs": [
    {
     "data": {
      "text/plain": [
       "False"
      ]
     },
     "execution_count": 37,
     "metadata": {},
     "output_type": "execute_result"
    }
   ],
   "source": [
    "a = 4 ## assigning the variable\n",
    "a == 5 ## checking equality"
   ]
  },
  {
   "cell_type": "markdown",
   "metadata": {
    "run_control": {
     "frozen": false,
     "read_only": false
    }
   },
   "source": [
    "\n",
    "\n",
    "   ** IMPORTANT ** : **\"is\"** and **\"==\"** are different operators\n",
    "   * **'=='** checks for equality such as **(a == b)** which checks if 'a' and 'b' have the same value\n",
    "   * **'is'** checks for identity such as **( id(obj1) == id(obj2) )** which checks if 'obj1' and 'obj2' reference to the same object\n",
    "    \n",
    "\n",
    "\n"
   ]
  },
  {
   "cell_type": "code",
   "execution_count": 38,
   "metadata": {
    "collapsed": false
   },
   "outputs": [
    {
     "name": "stdout",
     "output_type": "stream",
     "text": [
      "True\n",
      "False\n"
     ]
    }
   ],
   "source": [
    "a = 400\n",
    "b = 400\n",
    "print (a==b)\n",
    "print (a is b)"
   ]
  },
  {
   "cell_type": "code",
   "execution_count": 39,
   "metadata": {
    "collapsed": false
   },
   "outputs": [
    {
     "name": "stdout",
     "output_type": "stream",
     "text": [
      "\n",
      "'is' vs. '=='\n",
      "s1: [1, 2] \n",
      "s2: [1, 2]\n",
      "s1 == s2:  True\n",
      "s1 is s2:  False\n",
      "s1 is not s2:  True\n",
      "id(s1):4470731272, id(s2):4470732744 \n"
     ]
    }
   ],
   "source": [
    "print( \"\\n'is' vs. '=='\")\n",
    "s1 = list([1,2])\n",
    "s2 = list([1,2])\n",
    "print( \"s1: {} \\ns2: {}\".format(s1,s2))\n",
    "print( \"s1 == s2: \", s1==s2)\n",
    "print( \"s1 is s2: \", s1 is s2) # print ids of s1 and s2 to understand why s1 is not s2\n",
    "print( \"s1 is not s2: \", s1 is not s2)\n",
    "print( \"id(s1):{}, id(s2):{} \".format(id(s1),id(s2)))"
   ]
  },
  {
   "cell_type": "markdown",
   "metadata": {},
   "source": [
    "# Python can have some very weird behavior sometimes\n",
    "*** For instance: what happens if in the previous cell I change a=3, and b =3? ***"
   ]
  },
  {
   "cell_type": "code",
   "execution_count": 40,
   "metadata": {
    "collapsed": false
   },
   "outputs": [
    {
     "name": "stdout",
     "output_type": "stream",
     "text": [
      "True\n",
      "True\n"
     ]
    }
   ],
   "source": [
    "a = 4\n",
    "b = 4\n",
    "print (a==b)\n",
    "print (a is b)"
   ]
  },
  {
   "cell_type": "markdown",
   "metadata": {},
   "source": [
    "\n",
    "*** Some more built-in functions in Python<br>***\n",
    "    -x : x negated\t \n",
    "\n",
    "    abs(x)  : absolute value or magnitude of x\t\n",
    "    int(x)  : x converted to integer\t\n",
    "    long(x) : x converted to long integer\t\n",
    "    float(x): x converted to floating point\t\n",
    "\n",
    "    x ** y\t: x to the power y\t\n",
    "    x % y   : x mod y : returns the remainder after division of x by y"
   ]
  },
  {
   "cell_type": "code",
   "execution_count": 41,
   "metadata": {
    "collapsed": true,
    "run_control": {
     "frozen": false,
     "read_only": false
    }
   },
   "outputs": [],
   "source": [
    "x = 5\n",
    "y = 4\n",
    "z = 1.6\n",
    "\n",
    "n = None\n",
    "t = True\n",
    "f = False"
   ]
  },
  {
   "cell_type": "code",
   "execution_count": 42,
   "metadata": {
    "collapsed": false,
    "run_control": {
     "frozen": false,
     "read_only": false
    }
   },
   "outputs": [
    {
     "name": "stdout",
     "output_type": "stream",
     "text": [
      "\n",
      "Arithmetic Operations: \n",
      " x + y * z / 2:  8.2\n",
      "(x + y) * z / 2:  7.2\n",
      "-x:  -5\n"
     ]
    }
   ],
   "source": [
    "result_a =  x + y * z / 2\n",
    "result_b = (x + y ) * z / 2\n",
    "\n",
    "print(\"\\nArithmetic Operations: \")\n",
    "print(\" x + y * z / 2: \", result_a)\n",
    "print(\"(x + y) * z / 2: \", result_b)\n",
    "print(\"-x: \", -x)"
   ]
  },
  {
   "cell_type": "code",
   "execution_count": 43,
   "metadata": {
    "collapsed": false,
    "run_control": {
     "frozen": false,
     "read_only": false
    }
   },
   "outputs": [
    {
     "name": "stdout",
     "output_type": "stream",
     "text": [
      "\n",
      "Comparisons\n",
      "x >= y -->  True\n",
      "x - 1 == y  -->  True\n",
      "(x > y) != False -->  True\n",
      "5 and 0:  False\n",
      "float z: 1.6 | integer converted z: 1\n"
     ]
    }
   ],
   "source": [
    "print(\"\\nComparisons\")\n",
    "print( \"x >= y --> \", x >= y)\n",
    "print( \"x - 1 == y  --> \", x - 1 == y)\n",
    "print( \"(x > y) != False --> \", (x > y) != False)\n",
    "print( \"5 and 0: \",bool(5 and 0))\n",
    "print( \"float z: {} | integer converted z: {}\".format(z,int(z)))"
   ]
  },
  {
   "cell_type": "code",
   "execution_count": 45,
   "metadata": {
    "collapsed": false,
    "run_control": {
     "frozen": false,
     "read_only": false
    }
   },
   "outputs": [
    {
     "name": "stdout",
     "output_type": "stream",
     "text": [
      "id of s1:  4470731272\n",
      "id of s2:  4470732744\n",
      "type of s1  <class 'list'>\n"
     ]
    }
   ],
   "source": [
    "print(\"id of s1: \", id(s1))\n",
    "print( \"id of s2: \", id(s2))\n",
    "print( \"type of s1 \", type(s1))"
   ]
  },
  {
   "cell_type": "markdown",
   "metadata": {},
   "source": [
    "** Exercise **\n",
    "1. Print “True” if the sum of all the numbers from 1 to 60 is greater than 1903\n",
    "2. Is 6/5 equal to 9/5?\n",
    "3. Print the result of  6/5 == 9/5\n",
    "4. What is wrong with 6/5 == 9/5?\n",
    "5. Calculate the total money you need to pay after having dinner in such a restaurant:\n",
    "6. Cost of meal: €65.50   \n",
    "\tRestaurant tax: 2.75%   \n",
    "\tTip: 15%   \n",
    "\tYou'll apply the tip to the overall cost of the meal (including tax).   \n",
    "\n"
   ]
  },
  {
   "cell_type": "markdown",
   "metadata": {
    "run_control": {
     "frozen": false,
     "read_only": false
    }
   },
   "source": [
    "# Control Flow"
   ]
  },
  {
   "cell_type": "markdown",
   "metadata": {
    "run_control": {
     "frozen": false,
     "read_only": false
    }
   },
   "source": [
    "### a. if conditions"
   ]
  },
  {
   "cell_type": "code",
   "execution_count": 46,
   "metadata": {
    "collapsed": false,
    "run_control": {
     "frozen": false,
     "read_only": false
    }
   },
   "outputs": [
    {
     "name": "stdout",
     "output_type": "stream",
     "text": [
      " x is equal to y \n"
     ]
    }
   ],
   "source": [
    "x = 1\n",
    "y = int(1.99)\n",
    "z = None\n",
    "if ( x==y ):\n",
    "    print(\" x is equal to y \")"
   ]
  },
  {
   "cell_type": "code",
   "execution_count": 47,
   "metadata": {
    "collapsed": false
   },
   "outputs": [
    {
     "name": "stdout",
     "output_type": "stream",
     "text": [
      "z is nothing\n"
     ]
    }
   ],
   "source": [
    "if not z:\n",
    "    print(\"z is nothing\")"
   ]
  },
  {
   "cell_type": "code",
   "execution_count": 48,
   "metadata": {
    "collapsed": false
   },
   "outputs": [
    {
     "name": "stdout",
     "output_type": "stream",
     "text": [
      "whole chain of conditions is True!\n"
     ]
    }
   ],
   "source": [
    "if (not z) and (x == 1) or (y < 0):\n",
    "    print(\"whole chain of conditions is True!\")"
   ]
  },
  {
   "cell_type": "code",
   "execution_count": 49,
   "metadata": {
    "collapsed": false,
    "run_control": {
     "frozen": false,
     "read_only": false
    }
   },
   "outputs": [
    {
     "name": "stdout",
     "output_type": "stream",
     "text": [
      "I couldnt find what x is :(\n"
     ]
    }
   ],
   "source": [
    "#if elif else block\n",
    "if (0 <= x < 1 ):\n",
    "    print(\"x is between 0 and 1\")\n",
    "elif( x < 0 ):\n",
    "    print(\"x is negative\")\n",
    "else:\n",
    "    print(\"I couldnt find what x is :(\")\n"
   ]
  },
  {
   "cell_type": "markdown",
   "metadata": {
    "run_control": {
     "frozen": false,
     "read_only": false
    }
   },
   "source": [
    "**Important**: In Python, indentation matters! <br>\n",
    "\n",
    "If we want to enclose multiple lines of code within an if condition, we need to use the identation"
   ]
  },
  {
   "cell_type": "code",
   "execution_count": 50,
   "metadata": {
    "collapsed": false
   },
   "outputs": [
    {
     "name": "stdout",
     "output_type": "stream",
     "text": [
      "This is the first correct statement\n",
      "This is the second correct statement\n",
      "I am a new if condition and I am True\n",
      "I am not indented, so I do am outside the if block :P\n"
     ]
    }
   ],
   "source": [
    "a = 4\n",
    "b = 3\n",
    "\n",
    "if a ==4:\n",
    "    print(\"This is the first correct statement\")\n",
    "    print(\"This is the second correct statement\")\n",
    "    \n",
    "    if b== a-1:\n",
    "        print(\"I am a new if condition and I am True\")\n",
    "    else:\n",
    "        print(\"I am a new if condition and I am False\")\n",
    "\n",
    "print(\"I am not indented, so I do am outside the if block :P\")       "
   ]
  },
  {
   "cell_type": "code",
   "execution_count": 51,
   "metadata": {
    "collapsed": false,
    "run_control": {
     "frozen": false,
     "read_only": false
    }
   },
   "outputs": [
    {
     "name": "stdout",
     "output_type": "stream",
     "text": [
      "2\n"
     ]
    }
   ],
   "source": [
    "x = 2\n",
    "y = x if (x**2) == 4 else 0\n",
    "print (y)"
   ]
  },
  {
   "cell_type": "markdown",
   "metadata": {
    "run_control": {
     "frozen": false,
     "read_only": false
    }
   },
   "source": [
    "### b. for loops"
   ]
  },
  {
   "cell_type": "markdown",
   "metadata": {
    "run_control": {
     "frozen": false,
     "read_only": false
    }
   },
   "source": [
    "**TODO**: Read about the [range() function](https://docs.python.org/2/library/functions.html#range)"
   ]
  },
  {
   "cell_type": "code",
   "execution_count": 52,
   "metadata": {
    "collapsed": false,
    "run_control": {
     "frozen": false,
     "read_only": false
    }
   },
   "outputs": [
    {
     "data": {
      "text/plain": [
       "range(0, -10, -1)"
      ]
     },
     "execution_count": 52,
     "metadata": {},
     "output_type": "execute_result"
    }
   ],
   "source": [
    "range(1,20)# watch out! the last digit is not included\n",
    "range(1,20,5) # values from 1 (included) to 20 (excluded) in steps of 5\n",
    "range(0, -10, -1)  # values from 0 (included) to -10 (excluded) in steps of -1 (backwards)"
   ]
  },
  {
   "cell_type": "markdown",
   "metadata": {},
   "source": [
    "### Advanced tip<br>\n",
    "\n",
    "`range` returns is an iterator, which is a very specific and lazy type of function which executes the steps only when \"explicitly\" asked for. <br>\n",
    "\n",
    "for example, putting it within the list object, it will be executed `list(range(1,20))`, or within the for statemtn\n",
    "\n"
   ]
  },
  {
   "cell_type": "code",
   "execution_count": 53,
   "metadata": {
    "collapsed": false
   },
   "outputs": [
    {
     "data": {
      "text/plain": [
       "[1, 2, 3, 4, 5, 6, 7, 8, 9, 10, 11, 12, 13, 14, 15, 16, 17, 18, 19]"
      ]
     },
     "execution_count": 53,
     "metadata": {},
     "output_type": "execute_result"
    }
   ],
   "source": [
    "#\n",
    "list(range(1,20))"
   ]
  },
  {
   "cell_type": "code",
   "execution_count": 54,
   "metadata": {
    "collapsed": false,
    "run_control": {
     "frozen": false,
     "read_only": false
    }
   },
   "outputs": [
    {
     "name": "stdout",
     "output_type": "stream",
     "text": [
      "1\n",
      "2\n",
      "3\n",
      "4\n",
      "5\n",
      "6\n",
      "7\n",
      "8\n",
      "9\n",
      "\n",
      "\n",
      "with step of 2:\n",
      "1\n",
      "3\n",
      "5\n",
      "7\n",
      "9\n"
     ]
    }
   ],
   "source": [
    "for i in range(1, 10): \n",
    "    print(i) #note the indetation\n",
    "\n",
    "print(\"\\n\\nwith step of 2:\")\n",
    "for i in range(1,10,2):\n",
    "    print(i)\n",
    "    \n"
   ]
  },
  {
   "cell_type": "markdown",
   "metadata": {},
   "source": [
    "Extra on loops:\n",
    "    * `break`: when this line is met, the loop stops\n",
    "    * `continue`: when this line is met, the loop skips the next steps and goes to the next iteration"
   ]
  },
  {
   "cell_type": "code",
   "execution_count": null,
   "metadata": {
    "collapsed": true
   },
   "outputs": [],
   "source": []
  },
  {
   "cell_type": "code",
   "execution_count": 55,
   "metadata": {
    "collapsed": false,
    "run_control": {
     "frozen": false,
     "read_only": false
    }
   },
   "outputs": [
    {
     "name": "stdout",
     "output_type": "stream",
     "text": [
      " The loop with break\n",
      "1\n",
      "2\n",
      "3\n",
      " The loop with continue\n",
      "1\n",
      "2\n",
      "3\n",
      "5\n",
      "6\n",
      "7\n",
      "8\n",
      "9\n"
     ]
    }
   ],
   "source": [
    "print(' The loop with break')\n",
    "for i in range(1,10):\n",
    "    if (i == 4): # change this to 1000 and see what happens\n",
    "        break\n",
    "    print(i)\n",
    "\n",
    "print(' The loop with continue')\n",
    "for i in range(1,10):\n",
    "    if (i == 4): # change this to 1000 and see what happens\n",
    "        continue\n",
    "    print(i)"
   ]
  },
  {
   "cell_type": "markdown",
   "metadata": {},
   "source": [
    "### Extra: the usefuleness of the modulo operation,\n",
    "i.e `a % b`"
   ]
  },
  {
   "cell_type": "code",
   "execution_count": 56,
   "metadata": {
    "collapsed": false
   },
   "outputs": [
    {
     "name": "stdout",
     "output_type": "stream",
     "text": [
      "The loop with modulo operation\n",
      "I am at step 100000\n",
      "I am at step 200000\n",
      "I am at step 300000\n",
      "I am at step 400000\n",
      "I am at step 500000\n",
      "I am at step 600000\n",
      "I am at step 700000\n",
      "I am at step 800000\n",
      "I am at step 900000\n"
     ]
    }
   ],
   "source": [
    "print('The loop with modulo operation')\n",
    "for i in range(1,1000000):\n",
    "    if i%100000==0: # if  i is divisble by 100000, then do the next step\n",
    "        print('I am at step {}'.format(i))\n"
   ]
  },
  {
   "cell_type": "markdown",
   "metadata": {
    "run_control": {
     "frozen": false,
     "read_only": false
    }
   },
   "source": [
    "### c. while loops"
   ]
  },
  {
   "cell_type": "code",
   "execution_count": 57,
   "metadata": {
    "collapsed": false,
    "run_control": {
     "frozen": false,
     "read_only": false
    }
   },
   "outputs": [
    {
     "name": "stdout",
     "output_type": "stream",
     "text": [
      "29\n",
      "28\n",
      "27\n",
      "26\n",
      "25\n",
      "24\n",
      "23\n",
      "22\n",
      "21\n"
     ]
    }
   ],
   "source": [
    "i = 30 # try this with 10 and see what happens\n",
    "while i > -1:\n",
    "    i = i - 1\n",
    "    if i == 20:\n",
    "        break\n",
    "    else:\n",
    "        print(i)\n",
    "else: \n",
    "    print(\"\\n\\nhere I am i: \",i )"
   ]
  },
  {
   "cell_type": "markdown",
   "metadata": {},
   "source": [
    "** Exercise **\n",
    "1. Find the sum of numbers that are divisible by 7 from 1 till 100\n",
    "2. Write a program to prompt for a score between 0.0 and 1.0. If the core is out of range print an error. If the score is between 0.0 and 1.0, print a grade using the following table:\n",
    "Score Grade    \n",
    "\t\t>= 0.9 A   \n",
    "\t\t>= 0.8 B   \n",
    "\t\t>= 0.7 C   \n",
    "\t\t>= 0.6 D   \n",
    "\t\t< 0.6 F  \n",
    "Hint: to get the input from user in python  \n",
    "age = input(\"What is your age?\") "
   ]
  },
  {
   "cell_type": "markdown",
   "metadata": {
    "run_control": {
     "frozen": false,
     "read_only": false
    }
   },
   "source": [
    "# Data Structures"
   ]
  },
  {
   "cell_type": "markdown",
   "metadata": {
    "run_control": {
     "frozen": false,
     "read_only": false
    }
   },
   "source": [
    " **list --> [1,2,'a',\"hello\"]**\n",
    " - comma-separated values(items) between square brackets\n",
    " - can include different types \n",
    " - preserves the order of the items\n",
    " - can include duplicate items\n",
    " \n",
    " - <b>The list is a mutable object</b>\n",
    " \n",
    " **TODO**: Read about the list and its methods on [Python Docs](https://docs.python.org/2/tutorial/datastructures.html)\n",
    " "
   ]
  },
  {
   "cell_type": "code",
   "execution_count": 58,
   "metadata": {
    "collapsed": false,
    "run_control": {
     "frozen": false,
     "read_only": false
    }
   },
   "outputs": [],
   "source": [
    "a = [1,5,2,8,\"I am an element in this list\",'a',9,9 , [\"22\",22]]"
   ]
  },
  {
   "cell_type": "code",
   "execution_count": 59,
   "metadata": {
    "collapsed": false
   },
   "outputs": [
    {
     "name": "stdout",
     "output_type": "stream",
     "text": [
      "2\n"
     ]
    }
   ],
   "source": [
    "#print the 3rd element of a (remember, we start counting from 0)\n",
    "print(a[2])"
   ]
  },
  {
   "cell_type": "code",
   "execution_count": 60,
   "metadata": {
    "collapsed": false
   },
   "outputs": [
    {
     "name": "stdout",
     "output_type": "stream",
     "text": [
      "['22', 22]\n"
     ]
    }
   ],
   "source": [
    "#print the last element of a\n",
    "print(a[-1])"
   ]
  },
  {
   "cell_type": "code",
   "execution_count": 61,
   "metadata": {
    "collapsed": false,
    "run_control": {
     "frozen": false,
     "read_only": false
    }
   },
   "outputs": [
    {
     "name": "stdout",
     "output_type": "stream",
     "text": [
      "22\n"
     ]
    }
   ],
   "source": [
    "#It's a list of list, get the first element of the last element\n",
    "print(a[-1][0])"
   ]
  },
  {
   "cell_type": "code",
   "execution_count": 62,
   "metadata": {
    "collapsed": false,
    "run_control": {
     "frozen": false,
     "read_only": false
    }
   },
   "outputs": [
    {
     "data": {
      "text/plain": [
       "[1, 10, 2, 8, 'I am an element in this list', 'a', 9, 9, ['22', 22]]"
      ]
     },
     "execution_count": 62,
     "metadata": {},
     "output_type": "execute_result"
    }
   ],
   "source": [
    "a[1] = 10 #list index starts from zero\n",
    "a"
   ]
  },
  {
   "cell_type": "markdown",
   "metadata": {
    "run_control": {
     "frozen": false,
     "read_only": false
    }
   },
   "source": [
    "You can slice the lists"
   ]
  },
  {
   "cell_type": "code",
   "execution_count": 64,
   "metadata": {
    "collapsed": false,
    "run_control": {
     "frozen": false,
     "read_only": false
    }
   },
   "outputs": [
    {
     "name": "stdout",
     "output_type": "stream",
     "text": [
      "[10, 8]\n",
      "[10, 2, 8, 'I am an element in this list', 'a', 9, 9]\n"
     ]
    }
   ],
   "source": [
    "print(a[1:5:2]) #start from the 2nd element and access every second element till 5th element\n",
    "print(a[1:8]) #till the last element (including the last element)\n"
   ]
  },
  {
   "cell_type": "code",
   "execution_count": 65,
   "metadata": {
    "collapsed": false
   },
   "outputs": [
    {
     "data": {
      "text/plain": [
       "[10, 8, 'a', 9]"
      ]
     },
     "execution_count": 65,
     "metadata": {},
     "output_type": "execute_result"
    }
   ],
   "source": [
    "a[1::2] # What does this do?"
   ]
  },
  {
   "cell_type": "code",
   "execution_count": 67,
   "metadata": {
    "collapsed": false,
    "run_control": {
     "frozen": false,
     "read_only": false
    }
   },
   "outputs": [
    {
     "name": "stdout",
     "output_type": "stream",
     "text": [
      "[['22', 22], 9, 9, 'a', 'I am an element in this list', 8, 2, 10, 1]\n"
     ]
    }
   ],
   "source": [
    "print (a[-1::-1]) # what does that do?"
   ]
  },
  {
   "cell_type": "markdown",
   "metadata": {
    "run_control": {
     "frozen": false,
     "read_only": false
    }
   },
   "source": [
    "### List Methods"
   ]
  },
  {
   "cell_type": "code",
   "execution_count": 68,
   "metadata": {
    "collapsed": true
   },
   "outputs": [],
   "source": [
    "a = [10,5,4,7,8,\"BMW\",\"Porsche\",0,0]"
   ]
  },
  {
   "cell_type": "code",
   "execution_count": 69,
   "metadata": {
    "collapsed": true
   },
   "outputs": [],
   "source": [
    "a.append(\"Dacia\")"
   ]
  },
  {
   "cell_type": "code",
   "execution_count": 70,
   "metadata": {
    "collapsed": false
   },
   "outputs": [
    {
     "data": {
      "text/plain": [
       "[10, 5, 4, 7, 8, 'BMW', 'Porsche', 0, 0, 'Dacia']"
      ]
     },
     "execution_count": 70,
     "metadata": {},
     "output_type": "execute_result"
    }
   ],
   "source": [
    "a"
   ]
  },
  {
   "cell_type": "code",
   "execution_count": 71,
   "metadata": {
    "collapsed": false
   },
   "outputs": [
    {
     "data": {
      "text/plain": [
       "[10, 5, 4, -99, 7, 8, 'BMW', 'Porsche', 0, 0, 'Dacia']"
      ]
     },
     "execution_count": 71,
     "metadata": {},
     "output_type": "execute_result"
    }
   ],
   "source": [
    "a.insert(3,-99)\n",
    "a"
   ]
  },
  {
   "cell_type": "code",
   "execution_count": 72,
   "metadata": {
    "collapsed": false
   },
   "outputs": [
    {
     "name": "stdout",
     "output_type": "stream",
     "text": [
      "Dacia \n",
      " [10, 5, 4, -99, 7, 8, 'BMW', 'Porsche', 0, 0]\n"
     ]
    }
   ],
   "source": [
    "x = a.pop()\n",
    "print(x,'\\n', a)"
   ]
  },
  {
   "cell_type": "code",
   "execution_count": 73,
   "metadata": {
    "collapsed": false
   },
   "outputs": [
    {
     "name": "stdout",
     "output_type": "stream",
     "text": [
      "0\n",
      "0\n",
      "Porsche\n",
      "BMW\n",
      "8\n",
      "7\n",
      "-99\n",
      "4\n",
      "5\n",
      "10\n",
      "This is the list at the end: []\n"
     ]
    }
   ],
   "source": [
    "dummy_list = a\n",
    "is_list = True\n",
    "while is_list:\n",
    "    print(dummy_list.pop())\n",
    "    if len(dummy_list)==0: is_list = False\n",
    "\n",
    "print('This is the list at the end:',dummy_list)"
   ]
  },
  {
   "cell_type": "code",
   "execution_count": 74,
   "metadata": {
    "collapsed": false
   },
   "outputs": [
    {
     "name": "stdout",
     "output_type": "stream",
     "text": [
      "[]\n"
     ]
    }
   ],
   "source": [
    "### What happend to a?\n",
    "print(a)"
   ]
  },
  {
   "cell_type": "code",
   "execution_count": 75,
   "metadata": {
    "collapsed": false
   },
   "outputs": [
    {
     "name": "stdout",
     "output_type": "stream",
     "text": [
      "4469787912\n",
      "4469787912\n"
     ]
    }
   ],
   "source": [
    "print(id(a))\n",
    "print(id(dummy_list))"
   ]
  },
  {
   "cell_type": "code",
   "execution_count": 76,
   "metadata": {
    "collapsed": false
   },
   "outputs": [
    {
     "name": "stdout",
     "output_type": "stream",
     "text": [
      "0\n",
      "0\n",
      "Porsche\n",
      "BMW\n",
      "8\n",
      "7\n",
      "4\n",
      "5\n",
      "10\n",
      "This is the list at the end: []\n",
      "This is the list at the end: [10, 5, 4, 7, 8, 'BMW', 'Porsche', 0, 0]\n",
      "ID of a: 4469959816\n",
      "ID of dummy_list: 4470657672\n"
     ]
    }
   ],
   "source": [
    "a = [10,5,4,7,8,\"BMW\",\"Porsche\",0,0]\n",
    "dummy_list = a.copy()\n",
    "is_list = True\n",
    "while is_list:\n",
    "    print(dummy_list.pop())\n",
    "    if len(dummy_list)==0: is_list = False\n",
    "\n",
    "print('This is the list at the end:',dummy_list)\n",
    "print('This is the list at the end:',a)\n",
    "print('ID of a:', id(a))\n",
    "print('ID of dummy_list:',id(dummy_list))"
   ]
  },
  {
   "cell_type": "code",
   "execution_count": 77,
   "metadata": {
    "collapsed": true
   },
   "outputs": [],
   "source": [
    "# let's make sure we have a again\n",
    "a = [10,5,4,7,8,0,0]"
   ]
  },
  {
   "cell_type": "code",
   "execution_count": 78,
   "metadata": {
    "collapsed": false
   },
   "outputs": [
    {
     "data": {
      "text/plain": [
       "[10, 5, 4, -99, 7, 8, 0, 0]"
      ]
     },
     "execution_count": 78,
     "metadata": {},
     "output_type": "execute_result"
    }
   ],
   "source": [
    "a.insert(3,-99)\n",
    "a"
   ]
  },
  {
   "cell_type": "code",
   "execution_count": 79,
   "metadata": {
    "collapsed": false
   },
   "outputs": [
    {
     "data": {
      "text/plain": [
       "[10, 5, 4, -99, 7, 8, 0, 0, 1, 1, 1]"
      ]
     },
     "execution_count": 79,
     "metadata": {},
     "output_type": "execute_result"
    }
   ],
   "source": [
    "a.extend([1,1,1])\n",
    "a"
   ]
  },
  {
   "cell_type": "code",
   "execution_count": 80,
   "metadata": {
    "collapsed": false
   },
   "outputs": [
    {
     "name": "stdout",
     "output_type": "stream",
     "text": [
      "3\n"
     ]
    }
   ],
   "source": [
    "print(a.count(1))"
   ]
  },
  {
   "cell_type": "code",
   "execution_count": 81,
   "metadata": {
    "collapsed": false
   },
   "outputs": [
    {
     "data": {
      "text/plain": [
       "[-99, 0, 0, 1, 1, 1, 4, 5, 7, 8, 10]"
      ]
     },
     "execution_count": 81,
     "metadata": {},
     "output_type": "execute_result"
    }
   ],
   "source": [
    "a.sort(reverse=False)\n",
    "a"
   ]
  },
  {
   "cell_type": "code",
   "execution_count": 82,
   "metadata": {
    "collapsed": false
   },
   "outputs": [
    {
     "data": {
      "text/plain": [
       "(-99, 10)"
      ]
     },
     "execution_count": 82,
     "metadata": {},
     "output_type": "execute_result"
    }
   ],
   "source": [
    "min(a), max(a)"
   ]
  },
  {
   "cell_type": "markdown",
   "metadata": {
    "run_control": {
     "frozen": false,
     "read_only": false
    }
   },
   "source": [
    "### Lists are very handy in for loops"
   ]
  },
  {
   "cell_type": "code",
   "execution_count": 83,
   "metadata": {
    "collapsed": false
   },
   "outputs": [],
   "source": [
    "car_brands = ['Audi','BMW', 'VW', 'Porsche', 'Volvo']"
   ]
  },
  {
   "cell_type": "code",
   "execution_count": 84,
   "metadata": {
    "collapsed": false,
    "run_control": {
     "frozen": false,
     "read_only": false
    }
   },
   "outputs": [
    {
     "name": "stdout",
     "output_type": "stream",
     "text": [
      "The key has been found\n"
     ]
    }
   ],
   "source": [
    "#search for a value in the list\n",
    "#oldschool way\n",
    "missing_key = \"BMW\"\n",
    "for i in car_brands:\n",
    "    if i == missing_key:\n",
    "        print(\"The key has been found\")\n",
    "        break\n",
    "else:\n",
    "    print(\"The key couldn't be found\")"
   ]
  },
  {
   "cell_type": "code",
   "execution_count": 85,
   "metadata": {
    "collapsed": false,
    "run_control": {
     "frozen": false,
     "read_only": false
    }
   },
   "outputs": [
    {
     "name": "stdout",
     "output_type": "stream",
     "text": [
      "The key has been found\n"
     ]
    }
   ],
   "source": [
    "#python way\n",
    "missing_key = \"BMW\"\n",
    "if missing_key in car_brands:\n",
    "    print(\"The key has been found\")\n",
    "else:\n",
    "    print(\"The key couldn't be found\")"
   ]
  },
  {
   "cell_type": "code",
   "execution_count": 86,
   "metadata": {
    "collapsed": false,
    "run_control": {
     "frozen": false,
     "read_only": false
    }
   },
   "outputs": [
    {
     "data": {
      "text/plain": [
       "1"
      ]
     },
     "execution_count": 86,
     "metadata": {},
     "output_type": "execute_result"
    }
   ],
   "source": [
    "car_brands.index(\"BMW\")"
   ]
  },
  {
   "cell_type": "code",
   "execution_count": 87,
   "metadata": {
    "collapsed": false,
    "run_control": {
     "frozen": false,
     "read_only": false
    }
   },
   "outputs": [
    {
     "name": "stdout",
     "output_type": "stream",
     "text": [
      "['Audi', 'BMW', 'VW', 'Porsche', 'Volvo', 'Audi', 'BMW', 'VW', 'Porsche', 'Volvo']\n"
     ]
    }
   ],
   "source": [
    "#what do you think this does?\n",
    "print(car_brands + car_brands)"
   ]
  },
  {
   "cell_type": "markdown",
   "metadata": {
    "run_control": {
     "frozen": false,
     "read_only": false
    }
   },
   "source": [
    "**Tuple --> (1,2,'a',\"hello\")**\n",
    "- Tuples are immutable (you cant add/remove/replace elements)\n",
    "- Tuples are handy when you need to return multiple elements from your Python function\n"
   ]
  },
  {
   "cell_type": "code",
   "execution_count": 88,
   "metadata": {
    "collapsed": false,
    "run_control": {
     "frozen": false,
     "read_only": false
    },
    "scrolled": true
   },
   "outputs": [],
   "source": [
    "b = (1,2,'a',\"hello\",(4,5))\n",
    "t = (1,2,3)\n",
    "t = (4,5,6)\n",
    "\n",
    "x,y = (4.6,9.2)\n",
    "\n",
    "#b[1]\n",
    "#b[1]=7\n",
    "#b[-1]  \n",
    "#b = t\n",
    "#print b"
   ]
  },
  {
   "cell_type": "code",
   "execution_count": 89,
   "metadata": {
    "collapsed": false
   },
   "outputs": [
    {
     "name": "stdout",
     "output_type": "stream",
     "text": [
      "4.6\n",
      "9.2\n"
     ]
    }
   ],
   "source": [
    "print(x)\n",
    "print(y)"
   ]
  },
  {
   "cell_type": "markdown",
   "metadata": {
    "run_control": {
     "frozen": false,
     "read_only": false
    }
   },
   "source": [
    "**Set --> set([1,2,'a',\"hello\"])**\n",
    "- A set is an unordered collection with no duplicate elements. \n",
    "- Basic uses include membership testing and eliminating duplicate entries.\n"
   ]
  },
  {
   "cell_type": "code",
   "execution_count": 90,
   "metadata": {
    "collapsed": false,
    "run_control": {
     "frozen": false,
     "read_only": false
    }
   },
   "outputs": [
    {
     "name": "stdout",
     "output_type": "stream",
     "text": [
      "{'orange', 'apple', 'pear', 'banana'}\n"
     ]
    }
   ],
   "source": [
    "basket = ['apple', 'orange', 'apple', 'pear', 'orange', 'banana']\n",
    "fruit = set(basket)\n",
    "print(fruit)"
   ]
  },
  {
   "cell_type": "code",
   "execution_count": 91,
   "metadata": {
    "collapsed": false
   },
   "outputs": [],
   "source": [
    "basket_a = {'apple', 'orange', 'apple', 'pear', 'orange', 'banana'}\n",
    "basket_b = {'watermellon', 'orange', 'orange','banana'}\n"
   ]
  },
  {
   "cell_type": "code",
   "execution_count": 92,
   "metadata": {
    "collapsed": false
   },
   "outputs": [
    {
     "data": {
      "text/plain": [
       "{'banana', 'orange'}"
      ]
     },
     "execution_count": 92,
     "metadata": {},
     "output_type": "execute_result"
    }
   ],
   "source": [
    "basket_a.intersection(basket_b)"
   ]
  },
  {
   "cell_type": "code",
   "execution_count": 93,
   "metadata": {
    "collapsed": false
   },
   "outputs": [
    {
     "data": {
      "text/plain": [
       "{'apple', 'pear'}"
      ]
     },
     "execution_count": 93,
     "metadata": {},
     "output_type": "execute_result"
    }
   ],
   "source": [
    "basket_a.difference(basket_b)"
   ]
  },
  {
   "cell_type": "markdown",
   "metadata": {
    "run_control": {
     "frozen": false,
     "read_only": false
    }
   },
   "source": [
    "**Dictionary** --> {'1':'orange','2':'apple',100:'mellon'}\n",
    "- It is best to think of a dictionary as an unordered set of key: value pairs\n",
    "- The keys must be unique \n",
    "- A pair of braces creates an empty dictionary: {}\n",
    "- The main operations on a dictionary are storing a value with some key and extracting the value given the key\n",
    "- It is also possible to delete a key:value pair with del\n",
    "- If you store using a key that is already in use, the old value associated with that key is forgotten\n",
    "- It is an error to extract a value using a non-existent key"
   ]
  },
  {
   "cell_type": "code",
   "execution_count": 94,
   "metadata": {
    "collapsed": false,
    "run_control": {
     "frozen": false,
     "read_only": false
    }
   },
   "outputs": [],
   "source": [
    "c = {'fruit_1':'orange','fruit_2':'apple',3:'mellon','car':9}\n",
    "c['fruit_3'] = 'apple' \n",
    "\n"
   ]
  },
  {
   "cell_type": "code",
   "execution_count": 95,
   "metadata": {
    "collapsed": false
   },
   "outputs": [
    {
     "name": "stdout",
     "output_type": "stream",
     "text": [
      "apple\n",
      "{'fruit_1': 'orange', 'fruit_2': 'apple', 3: 'mellon', 'car': 9, 'fruit_3': 'apple'}\n"
     ]
    }
   ],
   "source": [
    "print(c['fruit_2'])\n",
    "print(c)"
   ]
  },
  {
   "cell_type": "markdown",
   "metadata": {
    "run_control": {
     "frozen": false,
     "read_only": false
    }
   },
   "source": [
    "**TODO** Read the dictionary on [Python Docs](https://docs.python.org/2/tutorial/datastructures.html)"
   ]
  },
  {
   "cell_type": "markdown",
   "metadata": {},
   "source": [
    "** Exercise **\n",
    "1. Write a Python program to get the largest number from a list.\n",
    "2. Write a Python program to remove duplicates from a list if the list is not empty.\n",
    "3. Write a Python program to generate and print a list of first and last 5 elements where the values are square of numbers between 1 and 25 (both included).\n",
    "4. a. Create a new dictionary called prices and put these values in your prices dictionary:   \n",
    "   \n",
    "\"banana\": 2.17,   \n",
    "\t\"apple\": 1.08,   \n",
    "\t\"orange\": 0.54,   \n",
    "\t\"pear\": 1   \n",
    "   \n",
    "b. Loop through each key in prices. For each key, print out the key along with its price   \n",
    "c. Let's determine how much money you would make if you sold all of your food.   \n"
   ]
  },
  {
   "cell_type": "markdown",
   "metadata": {
    "run_control": {
     "frozen": false,
     "read_only": false
    }
   },
   "source": [
    "## 7. Functions"
   ]
  },
  {
   "cell_type": "markdown",
   "metadata": {
    "run_control": {
     "frozen": false,
     "read_only": false
    }
   },
   "source": [
    "- Functions are blocks of code identified by a name, which can receive predetermined parameters.\n",
    "- Can return objects or not.\n",
    "- Accepted Doc Strings.\n",
    "- Accepts optional parameters (with defaults ). If no parameter is passed, it will be equal to the default defined in the function.\n",
    "- Accepts parameters to be passed by name. In this case, the order in which the parameters were passed does not matter.\n"
   ]
  },
  {
   "cell_type": "markdown",
   "metadata": {
    "run_control": {
     "frozen": false,
     "read_only": false
    }
   },
   "source": [
    "** Important ** Always document your function with Doc Strings as follows\n"
   ]
  },
  {
   "cell_type": "code",
   "execution_count": 96,
   "metadata": {
    "collapsed": false,
    "run_control": {
     "frozen": false,
     "read_only": false
    }
   },
   "outputs": [],
   "source": [
    "import math\n",
    "def pythagoras(a,b=4):\n",
    "    \"\"\"\n",
    "    Calculates the length of the hypotenuse from the given legths of other two sides.\n",
    "   \n",
    "    Example: \n",
    "        pythagoras(3,4) -> sqrt(3^2,4^2) = 5 \n",
    "    \n",
    "    Arguments:\n",
    "        a (float): one of the sides\n",
    "        b (float): the other side\n",
    "        \n",
    "    Returns:\n",
    "        c (float): the lenth of the hypotenuse\n",
    "    \"\"\"\n",
    "    c = math.sqrt(a**2 + b**2)\n",
    "    return c"
   ]
  },
  {
   "cell_type": "code",
   "execution_count": 97,
   "metadata": {
    "collapsed": false,
    "run_control": {
     "frozen": false,
     "read_only": false
    }
   },
   "outputs": [
    {
     "name": "stdout",
     "output_type": "stream",
     "text": [
      "5.0\n"
     ]
    }
   ],
   "source": [
    "print(pythagoras(3))"
   ]
  },
  {
   "cell_type": "code",
   "execution_count": 98,
   "metadata": {
    "collapsed": false
   },
   "outputs": [
    {
     "name": "stdout",
     "output_type": "stream",
     "text": [
      "5.0\n"
     ]
    }
   ],
   "source": [
    "print(pythagoras(3,4))"
   ]
  },
  {
   "cell_type": "code",
   "execution_count": 99,
   "metadata": {
    "collapsed": false
   },
   "outputs": [],
   "source": [
    "def find(customer_id, customers_list,other_parameters=\"asads\"):\n",
    "    if customer_id and customers_list:\n",
    "        return customer_id in customers_list"
   ]
  },
  {
   "cell_type": "code",
   "execution_count": 100,
   "metadata": {
    "collapsed": false
   },
   "outputs": [
    {
     "data": {
      "text/plain": [
       "True"
      ]
     },
     "execution_count": 100,
     "metadata": {},
     "output_type": "execute_result"
    }
   ],
   "source": [
    "find(customer_id = 10, customers_list = range(1,20,1))"
   ]
  },
  {
   "cell_type": "markdown",
   "metadata": {
    "run_control": {
     "frozen": false,
     "read_only": false
    }
   },
   "source": [
    "**TODO** Learn about \\*\\*args and \\*\\*\\*kargs"
   ]
  },
  {
   "cell_type": "markdown",
   "metadata": {},
   "source": [
    "#### Anonymous Functions"
   ]
  },
  {
   "cell_type": "code",
   "execution_count": 101,
   "metadata": {
    "collapsed": false
   },
   "outputs": [],
   "source": [
    "f = lambda x: x*4 # even functions are objects in Python!"
   ]
  },
  {
   "cell_type": "code",
   "execution_count": 102,
   "metadata": {
    "collapsed": false
   },
   "outputs": [
    {
     "data": {
      "text/plain": [
       "32"
      ]
     },
     "execution_count": 102,
     "metadata": {},
     "output_type": "execute_result"
    }
   ],
   "source": [
    "f(8)"
   ]
  },
  {
   "cell_type": "markdown",
   "metadata": {},
   "source": [
    "** Exercises  **\n",
    "1. Write a Python function to find the Max of three numbers\n",
    "2. \tWrite a function that returns the multiplication of given parameters.  Ex: multiply(2,3) returns 6 multiply(4,5,6) returns 120\n",
    "Hint: learn how to use *args \n",
    "3. \tWrite a Python function to calculate the factorial of a number (a non-negative integer). The function accepts the number as an argument.\n",
    "4.\tWrite a Python function that takes a list and returns a new list with unique elements of the first list.\n",
    "\n"
   ]
  },
  {
   "cell_type": "markdown",
   "metadata": {},
   "source": [
    "# Advanced Python"
   ]
  },
  {
   "cell_type": "markdown",
   "metadata": {
    "run_control": {
     "frozen": false,
     "read_only": false
    }
   },
   "source": [
    "##  Exception Handling"
   ]
  },
  {
   "cell_type": "markdown",
   "metadata": {
    "run_control": {
     "frozen": false,
     "read_only": false
    }
   },
   "source": [
    "- Exception handling is essential for quality coding. Dont mind spending little time on writing exception handling.\n",
    "- Make the cause of the exception clear for the user "
   ]
  },
  {
   "cell_type": "code",
   "execution_count": 103,
   "metadata": {
    "collapsed": true,
    "run_control": {
     "frozen": false,
     "read_only": false
    }
   },
   "outputs": [],
   "source": [
    "import pandas as pd\n",
    "import numpy.random as nprnd\n",
    "import timeit\n",
    "import os"
   ]
  },
  {
   "cell_type": "code",
   "execution_count": 104,
   "metadata": {
    "collapsed": false,
    "run_control": {
     "frozen": false,
     "read_only": false
    }
   },
   "outputs": [
    {
     "ename": "FileNotFoundError",
     "evalue": "File b'ANAF2.txt' does not exist",
     "output_type": "error",
     "traceback": [
      "\u001b[0;31m---------------------------------------------------------------------------\u001b[0m",
      "\u001b[0;31mFileNotFoundError\u001b[0m                         Traceback (most recent call last)",
      "\u001b[0;32m<ipython-input-104-a75b9c5b3a2d>\u001b[0m in \u001b[0;36m<module>\u001b[0;34m()\u001b[0m\n\u001b[0;32m----> 1\u001b[0;31m \u001b[0mdf2\u001b[0m \u001b[0;34m=\u001b[0m \u001b[0mpd\u001b[0m\u001b[0;34m.\u001b[0m\u001b[0mread_csv\u001b[0m\u001b[0;34m(\u001b[0m\u001b[0;34m\"ANAF2.txt\"\u001b[0m\u001b[0;34m,\u001b[0m\u001b[0mdelimiter\u001b[0m\u001b[0;34m=\u001b[0m\u001b[0;34m'\\t'\u001b[0m\u001b[0;34m)\u001b[0m\u001b[0;34m\u001b[0m\u001b[0m\n\u001b[0m",
      "\u001b[0;32m~/anaconda/envs/IITP/lib/python3.6/site-packages/pandas/io/parsers.py\u001b[0m in \u001b[0;36mparser_f\u001b[0;34m(filepath_or_buffer, sep, delimiter, header, names, index_col, usecols, squeeze, prefix, mangle_dupe_cols, dtype, engine, converters, true_values, false_values, skipinitialspace, skiprows, nrows, na_values, keep_default_na, na_filter, verbose, skip_blank_lines, parse_dates, infer_datetime_format, keep_date_col, date_parser, dayfirst, iterator, chunksize, compression, thousands, decimal, lineterminator, quotechar, quoting, escapechar, comment, encoding, dialect, tupleize_cols, error_bad_lines, warn_bad_lines, skipfooter, doublequote, delim_whitespace, low_memory, memory_map, float_precision)\u001b[0m\n\u001b[1;32m    676\u001b[0m                     skip_blank_lines=skip_blank_lines)\n\u001b[1;32m    677\u001b[0m \u001b[0;34m\u001b[0m\u001b[0m\n\u001b[0;32m--> 678\u001b[0;31m         \u001b[0;32mreturn\u001b[0m \u001b[0m_read\u001b[0m\u001b[0;34m(\u001b[0m\u001b[0mfilepath_or_buffer\u001b[0m\u001b[0;34m,\u001b[0m \u001b[0mkwds\u001b[0m\u001b[0;34m)\u001b[0m\u001b[0;34m\u001b[0m\u001b[0m\n\u001b[0m\u001b[1;32m    679\u001b[0m \u001b[0;34m\u001b[0m\u001b[0m\n\u001b[1;32m    680\u001b[0m     \u001b[0mparser_f\u001b[0m\u001b[0;34m.\u001b[0m\u001b[0m__name__\u001b[0m \u001b[0;34m=\u001b[0m \u001b[0mname\u001b[0m\u001b[0;34m\u001b[0m\u001b[0m\n",
      "\u001b[0;32m~/anaconda/envs/IITP/lib/python3.6/site-packages/pandas/io/parsers.py\u001b[0m in \u001b[0;36m_read\u001b[0;34m(filepath_or_buffer, kwds)\u001b[0m\n\u001b[1;32m    438\u001b[0m \u001b[0;34m\u001b[0m\u001b[0m\n\u001b[1;32m    439\u001b[0m     \u001b[0;31m# Create the parser.\u001b[0m\u001b[0;34m\u001b[0m\u001b[0;34m\u001b[0m\u001b[0m\n\u001b[0;32m--> 440\u001b[0;31m     \u001b[0mparser\u001b[0m \u001b[0;34m=\u001b[0m \u001b[0mTextFileReader\u001b[0m\u001b[0;34m(\u001b[0m\u001b[0mfilepath_or_buffer\u001b[0m\u001b[0;34m,\u001b[0m \u001b[0;34m**\u001b[0m\u001b[0mkwds\u001b[0m\u001b[0;34m)\u001b[0m\u001b[0;34m\u001b[0m\u001b[0m\n\u001b[0m\u001b[1;32m    441\u001b[0m \u001b[0;34m\u001b[0m\u001b[0m\n\u001b[1;32m    442\u001b[0m     \u001b[0;32mif\u001b[0m \u001b[0mchunksize\u001b[0m \u001b[0;32mor\u001b[0m \u001b[0miterator\u001b[0m\u001b[0;34m:\u001b[0m\u001b[0;34m\u001b[0m\u001b[0m\n",
      "\u001b[0;32m~/anaconda/envs/IITP/lib/python3.6/site-packages/pandas/io/parsers.py\u001b[0m in \u001b[0;36m__init__\u001b[0;34m(self, f, engine, **kwds)\u001b[0m\n\u001b[1;32m    785\u001b[0m             \u001b[0mself\u001b[0m\u001b[0;34m.\u001b[0m\u001b[0moptions\u001b[0m\u001b[0;34m[\u001b[0m\u001b[0;34m'has_index_names'\u001b[0m\u001b[0;34m]\u001b[0m \u001b[0;34m=\u001b[0m \u001b[0mkwds\u001b[0m\u001b[0;34m[\u001b[0m\u001b[0;34m'has_index_names'\u001b[0m\u001b[0;34m]\u001b[0m\u001b[0;34m\u001b[0m\u001b[0m\n\u001b[1;32m    786\u001b[0m \u001b[0;34m\u001b[0m\u001b[0m\n\u001b[0;32m--> 787\u001b[0;31m         \u001b[0mself\u001b[0m\u001b[0;34m.\u001b[0m\u001b[0m_make_engine\u001b[0m\u001b[0;34m(\u001b[0m\u001b[0mself\u001b[0m\u001b[0;34m.\u001b[0m\u001b[0mengine\u001b[0m\u001b[0;34m)\u001b[0m\u001b[0;34m\u001b[0m\u001b[0m\n\u001b[0m\u001b[1;32m    788\u001b[0m \u001b[0;34m\u001b[0m\u001b[0m\n\u001b[1;32m    789\u001b[0m     \u001b[0;32mdef\u001b[0m \u001b[0mclose\u001b[0m\u001b[0;34m(\u001b[0m\u001b[0mself\u001b[0m\u001b[0;34m)\u001b[0m\u001b[0;34m:\u001b[0m\u001b[0;34m\u001b[0m\u001b[0m\n",
      "\u001b[0;32m~/anaconda/envs/IITP/lib/python3.6/site-packages/pandas/io/parsers.py\u001b[0m in \u001b[0;36m_make_engine\u001b[0;34m(self, engine)\u001b[0m\n\u001b[1;32m   1012\u001b[0m     \u001b[0;32mdef\u001b[0m \u001b[0m_make_engine\u001b[0m\u001b[0;34m(\u001b[0m\u001b[0mself\u001b[0m\u001b[0;34m,\u001b[0m \u001b[0mengine\u001b[0m\u001b[0;34m=\u001b[0m\u001b[0;34m'c'\u001b[0m\u001b[0;34m)\u001b[0m\u001b[0;34m:\u001b[0m\u001b[0;34m\u001b[0m\u001b[0m\n\u001b[1;32m   1013\u001b[0m         \u001b[0;32mif\u001b[0m \u001b[0mengine\u001b[0m \u001b[0;34m==\u001b[0m \u001b[0;34m'c'\u001b[0m\u001b[0;34m:\u001b[0m\u001b[0;34m\u001b[0m\u001b[0m\n\u001b[0;32m-> 1014\u001b[0;31m             \u001b[0mself\u001b[0m\u001b[0;34m.\u001b[0m\u001b[0m_engine\u001b[0m \u001b[0;34m=\u001b[0m \u001b[0mCParserWrapper\u001b[0m\u001b[0;34m(\u001b[0m\u001b[0mself\u001b[0m\u001b[0;34m.\u001b[0m\u001b[0mf\u001b[0m\u001b[0;34m,\u001b[0m \u001b[0;34m**\u001b[0m\u001b[0mself\u001b[0m\u001b[0;34m.\u001b[0m\u001b[0moptions\u001b[0m\u001b[0;34m)\u001b[0m\u001b[0;34m\u001b[0m\u001b[0m\n\u001b[0m\u001b[1;32m   1015\u001b[0m         \u001b[0;32melse\u001b[0m\u001b[0;34m:\u001b[0m\u001b[0;34m\u001b[0m\u001b[0m\n\u001b[1;32m   1016\u001b[0m             \u001b[0;32mif\u001b[0m \u001b[0mengine\u001b[0m \u001b[0;34m==\u001b[0m \u001b[0;34m'python'\u001b[0m\u001b[0;34m:\u001b[0m\u001b[0;34m\u001b[0m\u001b[0m\n",
      "\u001b[0;32m~/anaconda/envs/IITP/lib/python3.6/site-packages/pandas/io/parsers.py\u001b[0m in \u001b[0;36m__init__\u001b[0;34m(self, src, **kwds)\u001b[0m\n\u001b[1;32m   1706\u001b[0m         \u001b[0mkwds\u001b[0m\u001b[0;34m[\u001b[0m\u001b[0;34m'usecols'\u001b[0m\u001b[0;34m]\u001b[0m \u001b[0;34m=\u001b[0m \u001b[0mself\u001b[0m\u001b[0;34m.\u001b[0m\u001b[0musecols\u001b[0m\u001b[0;34m\u001b[0m\u001b[0m\n\u001b[1;32m   1707\u001b[0m \u001b[0;34m\u001b[0m\u001b[0m\n\u001b[0;32m-> 1708\u001b[0;31m         \u001b[0mself\u001b[0m\u001b[0;34m.\u001b[0m\u001b[0m_reader\u001b[0m \u001b[0;34m=\u001b[0m \u001b[0mparsers\u001b[0m\u001b[0;34m.\u001b[0m\u001b[0mTextReader\u001b[0m\u001b[0;34m(\u001b[0m\u001b[0msrc\u001b[0m\u001b[0;34m,\u001b[0m \u001b[0;34m**\u001b[0m\u001b[0mkwds\u001b[0m\u001b[0;34m)\u001b[0m\u001b[0;34m\u001b[0m\u001b[0m\n\u001b[0m\u001b[1;32m   1709\u001b[0m \u001b[0;34m\u001b[0m\u001b[0m\n\u001b[1;32m   1710\u001b[0m         \u001b[0mpassed_names\u001b[0m \u001b[0;34m=\u001b[0m \u001b[0mself\u001b[0m\u001b[0;34m.\u001b[0m\u001b[0mnames\u001b[0m \u001b[0;32mis\u001b[0m \u001b[0;32mNone\u001b[0m\u001b[0;34m\u001b[0m\u001b[0m\n",
      "\u001b[0;32mpandas/_libs/parsers.pyx\u001b[0m in \u001b[0;36mpandas._libs.parsers.TextReader.__cinit__\u001b[0;34m()\u001b[0m\n",
      "\u001b[0;32mpandas/_libs/parsers.pyx\u001b[0m in \u001b[0;36mpandas._libs.parsers.TextReader._setup_parser_source\u001b[0;34m()\u001b[0m\n",
      "\u001b[0;31mFileNotFoundError\u001b[0m: File b'ANAF2.txt' does not exist"
     ]
    }
   ],
   "source": [
    "df2 = pd.read_csv(\"ANAF2.txt\",delimiter='\\t')"
   ]
  },
  {
   "cell_type": "code",
   "execution_count": null,
   "metadata": {
    "collapsed": false,
    "run_control": {
     "frozen": false,
     "read_only": false
    }
   },
   "outputs": [],
   "source": [
    "try:\n",
    "    df2 = pd.read_csv(\"ANAF2.txt\",delimiter='\\t')\n",
    "except IOError as err:\n",
    "    print(\"couldnt read the file: \" + str(err))\n"
   ]
  },
  {
   "cell_type": "markdown",
   "metadata": {},
   "source": [
    "### Exercise: fix the code below to catch properly the exceptions"
   ]
  },
  {
   "cell_type": "code",
   "execution_count": 105,
   "metadata": {
    "collapsed": false
   },
   "outputs": [
    {
     "ename": "KeyError",
     "evalue": "'last_name'",
     "output_type": "error",
     "traceback": [
      "\u001b[0;31m---------------------------------------------------------------------------\u001b[0m",
      "\u001b[0;31mKeyError\u001b[0m                                  Traceback (most recent call last)",
      "\u001b[0;32m<ipython-input-105-4736b5146f6e>\u001b[0m in \u001b[0;36m<module>\u001b[0;34m()\u001b[0m\n\u001b[1;32m      5\u001b[0m \u001b[0;34m\u001b[0m\u001b[0m\n\u001b[1;32m      6\u001b[0m \u001b[0;31m#Test code\u001b[0m\u001b[0;34m\u001b[0m\u001b[0;34m\u001b[0m\u001b[0m\n\u001b[0;32m----> 7\u001b[0;31m \u001b[0mget_last_name\u001b[0m\u001b[0;34m(\u001b[0m\u001b[0;34m)\u001b[0m\u001b[0;34m\u001b[0m\u001b[0m\n\u001b[0m\u001b[1;32m      8\u001b[0m \u001b[0mprint\u001b[0m\u001b[0;34m(\u001b[0m\u001b[0;34m\"All exceptions caught! Good job!\"\u001b[0m\u001b[0;34m)\u001b[0m\u001b[0;34m\u001b[0m\u001b[0m\n\u001b[1;32m      9\u001b[0m \u001b[0mprint\u001b[0m\u001b[0;34m(\u001b[0m\u001b[0;34m\"The actor's last name is %s\"\u001b[0m \u001b[0;34m%\u001b[0m \u001b[0mget_last_name\u001b[0m\u001b[0;34m(\u001b[0m\u001b[0;34m)\u001b[0m\u001b[0;34m)\u001b[0m\u001b[0;34m\u001b[0m\u001b[0m\n",
      "\u001b[0;32m<ipython-input-105-4736b5146f6e>\u001b[0m in \u001b[0;36mget_last_name\u001b[0;34m()\u001b[0m\n\u001b[1;32m      2\u001b[0m \u001b[0;34m\u001b[0m\u001b[0m\n\u001b[1;32m      3\u001b[0m \u001b[0;32mdef\u001b[0m \u001b[0mget_last_name\u001b[0m\u001b[0;34m(\u001b[0m\u001b[0;34m)\u001b[0m\u001b[0;34m:\u001b[0m\u001b[0;34m\u001b[0m\u001b[0m\n\u001b[0;32m----> 4\u001b[0;31m     \u001b[0;32mreturn\u001b[0m \u001b[0mactor\u001b[0m\u001b[0;34m[\u001b[0m\u001b[0;34m\"last_name\"\u001b[0m\u001b[0;34m]\u001b[0m\u001b[0;34m\u001b[0m\u001b[0m\n\u001b[0m\u001b[1;32m      5\u001b[0m \u001b[0;34m\u001b[0m\u001b[0m\n\u001b[1;32m      6\u001b[0m \u001b[0;31m#Test code\u001b[0m\u001b[0;34m\u001b[0m\u001b[0;34m\u001b[0m\u001b[0m\n",
      "\u001b[0;31mKeyError\u001b[0m: 'last_name'"
     ]
    }
   ],
   "source": [
    "actor = {\"name\": \"John Cleese\", \"rank\": \"awesome\"} #setup\n",
    "\n",
    "def get_last_name():\n",
    "    return actor[\"last_name\"]\n",
    "\n",
    "#Test code\n",
    "get_last_name()\n",
    "print(\"All exceptions caught! Good job!\")\n",
    "print(\"The actor's last name is %s\" % get_last_name())\n"
   ]
  },
  {
   "cell_type": "markdown",
   "metadata": {
    "run_control": {
     "frozen": false,
     "read_only": false
    }
   },
   "source": [
    "## 9. Functional Programming Basics\n"
   ]
  },
  {
   "cell_type": "markdown",
   "metadata": {},
   "source": [
    "\"In a functional program, input flows through a set of functions. Each function operates on its input and produces some output. Functional style discourages functions with side effects that modify internal state or make other changes that aren’t visible in the function’s return value. Functions that have no side effects at all are called purely functional. Avoiding side effects means not using data structures that get updated as a program runs; every function’s output must only depend on its input.\""
   ]
  },
  {
   "cell_type": "markdown",
   "metadata": {},
   "source": [
    "### List Comprehensions"
   ]
  },
  {
   "cell_type": "markdown",
   "metadata": {
    "run_control": {
     "frozen": false,
     "read_only": false
    }
   },
   "source": [
    "List comprehensions are a tool for transforming one list (any iterable actually) into another list. During this transformation, elements can be conditionally included in the new list and each element can be transformed as needed."
   ]
  },
  {
   "cell_type": "code",
   "execution_count": 106,
   "metadata": {
    "collapsed": true,
    "run_control": {
     "frozen": false,
     "read_only": false
    }
   },
   "outputs": [],
   "source": [
    "numbers = range(1,10)"
   ]
  },
  {
   "cell_type": "code",
   "execution_count": 107,
   "metadata": {
    "collapsed": false,
    "run_control": {
     "frozen": false,
     "read_only": false
    }
   },
   "outputs": [
    {
     "data": {
      "text/plain": [
       "range(1, 10)"
      ]
     },
     "execution_count": 107,
     "metadata": {},
     "output_type": "execute_result"
    }
   ],
   "source": [
    "numbers"
   ]
  },
  {
   "cell_type": "code",
   "execution_count": 108,
   "metadata": {
    "collapsed": false,
    "run_control": {
     "frozen": false,
     "read_only": false
    }
   },
   "outputs": [
    {
     "data": {
      "text/plain": [
       "[1, 9, 25, 49, 81]"
      ]
     },
     "execution_count": 108,
     "metadata": {},
     "output_type": "execute_result"
    }
   ],
   "source": [
    "[x**2 for x in numbers if x%2 == 1]"
   ]
  },
  {
   "cell_type": "markdown",
   "metadata": {
    "run_control": {
     "frozen": false,
     "read_only": false
    }
   },
   "source": [
    "Every list comprehension can be rewritten as a for loop but not every for loop can be rewritten as a list comprehension.\n",
    "\n"
   ]
  },
  {
   "cell_type": "code",
   "execution_count": 109,
   "metadata": {
    "collapsed": false,
    "run_control": {
     "frozen": false,
     "read_only": false
    }
   },
   "outputs": [
    {
     "data": {
      "text/plain": [
       "[1, 9, 25, 49, 81]"
      ]
     },
     "execution_count": 109,
     "metadata": {},
     "output_type": "execute_result"
    }
   ],
   "source": [
    "squared_odds = []\n",
    "for n in numbers:\n",
    "    if n % 2 == 1:\n",
    "        squared_odds.append(n ** 2)\n",
    "\n",
    "squared_odds"
   ]
  },
  {
   "cell_type": "markdown",
   "metadata": {
    "run_control": {
     "frozen": false,
     "read_only": false
    }
   },
   "source": [
    "** <font color=\"#ff6600\"> new_list = [\"something with \" + ITEM for ITEM in old_list if a_condition(ITEM)] </font> **\n"
   ]
  },
  {
   "cell_type": "code",
   "execution_count": 110,
   "metadata": {
    "collapsed": false,
    "run_control": {
     "frozen": false,
     "read_only": false
    },
    "scrolled": true
   },
   "outputs": [
    {
     "data": {
      "text/plain": [
       "[1, 2, 3, 4, 5, 6, 7, 8, 9]"
      ]
     },
     "execution_count": 110,
     "metadata": {},
     "output_type": "execute_result"
    }
   ],
   "source": [
    "#the condition is not an obligation!\n",
    "[x for x in numbers]"
   ]
  },
  {
   "cell_type": "markdown",
   "metadata": {
    "run_control": {
     "frozen": false,
     "read_only": false
    }
   },
   "source": [
    "### Lambda, Map, Reduce, Filter"
   ]
  },
  {
   "cell_type": "markdown",
   "metadata": {
    "run_control": {
     "frozen": false,
     "read_only": false
    }
   },
   "source": [
    "Let's create anonymous functions (i.e. functions that are not bound to a name) at runtime, using a construct called \"lambda\"."
   ]
  },
  {
   "cell_type": "code",
   "execution_count": 112,
   "metadata": {
    "collapsed": false,
    "run_control": {
     "frozen": false,
     "read_only": false
    }
   },
   "outputs": [],
   "source": [
    "doubler = lambda x: x * 2"
   ]
  },
  {
   "cell_type": "code",
   "execution_count": 114,
   "metadata": {
    "collapsed": false,
    "run_control": {
     "frozen": false,
     "read_only": false
    }
   },
   "outputs": [
    {
     "data": {
      "text/plain": [
       "function"
      ]
     },
     "execution_count": 114,
     "metadata": {},
     "output_type": "execute_result"
    }
   ],
   "source": [
    "type(doubler)"
   ]
  },
  {
   "cell_type": "markdown",
   "metadata": {
    "run_control": {
     "frozen": false,
     "read_only": false
    }
   },
   "source": [
    "Lambda definition does not include a \"return\" statement -- it always contains an expression which is returned."
   ]
  },
  {
   "cell_type": "code",
   "execution_count": 115,
   "metadata": {
    "collapsed": false,
    "run_control": {
     "frozen": false,
     "read_only": false
    }
   },
   "outputs": [
    {
     "data": {
      "text/plain": [
       "16"
      ]
     },
     "execution_count": 115,
     "metadata": {},
     "output_type": "execute_result"
    }
   ],
   "source": [
    "doubler(8)"
   ]
  },
  {
   "cell_type": "code",
   "execution_count": 116,
   "metadata": {
    "collapsed": true,
    "run_control": {
     "frozen": false,
     "read_only": false
    }
   },
   "outputs": [],
   "source": [
    "multiplier = lambda x,y: x*y "
   ]
  },
  {
   "cell_type": "code",
   "execution_count": 117,
   "metadata": {
    "collapsed": false,
    "run_control": {
     "frozen": false,
     "read_only": false
    }
   },
   "outputs": [
    {
     "data": {
      "text/plain": [
       "6"
      ]
     },
     "execution_count": 117,
     "metadata": {},
     "output_type": "execute_result"
    }
   ],
   "source": [
    "multiplier(3,2)"
   ]
  },
  {
   "cell_type": "markdown",
   "metadata": {
    "run_control": {
     "frozen": false,
     "read_only": false
    }
   },
   "source": [
    "** MAP **"
   ]
  },
  {
   "cell_type": "markdown",
   "metadata": {
    "run_control": {
     "frozen": false,
     "read_only": false
    }
   },
   "source": [
    "Apply the given function to every element in the given list"
   ]
  },
  {
   "cell_type": "code",
   "execution_count": 118,
   "metadata": {
    "collapsed": true,
    "run_control": {
     "frozen": false,
     "read_only": false
    }
   },
   "outputs": [],
   "source": [
    "def power_x(x):\n",
    "    return x**2"
   ]
  },
  {
   "cell_type": "code",
   "execution_count": 119,
   "metadata": {
    "collapsed": false,
    "run_control": {
     "frozen": false,
     "read_only": false
    }
   },
   "outputs": [
    {
     "data": {
      "text/plain": [
       "<map at 0x113c6bb70>"
      ]
     },
     "execution_count": 119,
     "metadata": {},
     "output_type": "execute_result"
    }
   ],
   "source": [
    "map(power_x,numbers)"
   ]
  },
  {
   "cell_type": "markdown",
   "metadata": {
    "run_control": {
     "frozen": false,
     "read_only": false
    }
   },
   "source": [
    "We can also use lambda functions!"
   ]
  },
  {
   "cell_type": "code",
   "execution_count": 120,
   "metadata": {
    "collapsed": false,
    "run_control": {
     "frozen": false,
     "read_only": false
    }
   },
   "outputs": [
    {
     "data": {
      "text/plain": [
       "<map at 0x113c6bc88>"
      ]
     },
     "execution_count": 120,
     "metadata": {},
     "output_type": "execute_result"
    }
   ],
   "source": [
    "map(lambda x: x**2, numbers)"
   ]
  },
  {
   "cell_type": "markdown",
   "metadata": {
    "run_control": {
     "frozen": false,
     "read_only": false
    }
   },
   "source": [
    "** Filter **"
   ]
  },
  {
   "cell_type": "markdown",
   "metadata": {
    "run_control": {
     "frozen": false,
     "read_only": false
    }
   },
   "source": [
    "Filter calls the lambda function for each element of the list, and returns a new list that contains only those elements for which the function returned \"True\"."
   ]
  },
  {
   "cell_type": "code",
   "execution_count": 121,
   "metadata": {
    "collapsed": false,
    "run_control": {
     "frozen": false,
     "read_only": false
    }
   },
   "outputs": [
    {
     "data": {
      "text/plain": [
       "<filter at 0x113c6bf98>"
      ]
     },
     "execution_count": 121,
     "metadata": {},
     "output_type": "execute_result"
    }
   ],
   "source": [
    "filter(lambda x: x%3==0,numbers)"
   ]
  },
  {
   "cell_type": "markdown",
   "metadata": {
    "run_control": {
     "frozen": false,
     "read_only": false
    }
   },
   "source": [
    "** Reduce **"
   ]
  },
  {
   "cell_type": "code",
   "execution_count": 126,
   "metadata": {
    "collapsed": true
   },
   "outputs": [],
   "source": [
    "from functools import reduce"
   ]
  },
  {
   "cell_type": "markdown",
   "metadata": {
    "run_control": {
     "frozen": false,
     "read_only": false
    }
   },
   "source": [
    " The function is called with the first two elements from the list, then with the result of that call and the third element, and so on, until all of the list elements have been handled. This means that our function is called n-1 times if the list contains n elements. The return value of the last call is the result of the reduce() construct."
   ]
  },
  {
   "cell_type": "code",
   "execution_count": 128,
   "metadata": {
    "collapsed": false,
    "run_control": {
     "frozen": false,
     "read_only": false
    }
   },
   "outputs": [
    {
     "data": {
      "text/plain": [
       "45"
      ]
     },
     "execution_count": 128,
     "metadata": {},
     "output_type": "execute_result"
    }
   ],
   "source": [
    "reduce(lambda x,y: x + y , numbers)"
   ]
  },
  {
   "cell_type": "code",
   "execution_count": 129,
   "metadata": {
    "collapsed": false,
    "run_control": {
     "frozen": false,
     "read_only": false
    }
   },
   "outputs": [
    {
     "data": {
      "text/plain": [
       "45"
      ]
     },
     "execution_count": 129,
     "metadata": {},
     "output_type": "execute_result"
    }
   ],
   "source": [
    "def sum(x,y):\n",
    "    return x+y\n",
    "\n",
    "reduce(sum,numbers)"
   ]
  },
  {
   "cell_type": "code",
   "execution_count": 130,
   "metadata": {
    "collapsed": false,
    "run_control": {
     "frozen": false,
     "read_only": false
    }
   },
   "outputs": [
    {
     "data": {
      "text/plain": [
       "7"
      ]
     },
     "execution_count": 130,
     "metadata": {},
     "output_type": "execute_result"
    }
   ],
   "source": [
    "\n",
    "reduce(lambda x,y: x + y,[1,2,4]) \n",
    "\n",
    "#first does 1 + 2 = 3\n",
    "#then 3 + 4 = 7"
   ]
  },
  {
   "cell_type": "markdown",
   "metadata": {
    "run_control": {
     "frozen": false,
     "read_only": false
    }
   },
   "source": [
    "## 10. Modules and Virtual Environments"
   ]
  },
  {
   "cell_type": "markdown",
   "metadata": {
    "run_control": {
     "frozen": false,
     "read_only": false
    }
   },
   "source": [
    "The modules are loaded with the import statement. Thus, when using a module structure, it is necessary to identify the module. This is called absolute import."
   ]
  },
  {
   "cell_type": "code",
   "execution_count": 131,
   "metadata": {
    "collapsed": false,
    "run_control": {
     "frozen": false,
     "read_only": false
    }
   },
   "outputs": [
    {
     "data": {
      "text/plain": [
       "['Python_Training_February2017.pdf',\n",
       " 'original',\n",
       " 'NumpyTutorial.ipynb',\n",
       " 'Python_Basics_Tutorial.ipynb',\n",
       " 'Numpy_Tutorial_April2017.ipynb',\n",
       " '.ipynb_checkpoints']"
      ]
     },
     "execution_count": 131,
     "metadata": {},
     "output_type": "execute_result"
    }
   ],
   "source": [
    "import os #import the os module\n",
    "os.listdir('.') #when using a module structure, it is necessary to identify the module. This is called absolute import."
   ]
  },
  {
   "cell_type": "code",
   "execution_count": 132,
   "metadata": {
    "collapsed": false,
    "run_control": {
     "frozen": false,
     "read_only": false
    }
   },
   "outputs": [
    {
     "data": {
      "text/plain": [
       "array([[ 0.02104563, -1.30128514, -1.16499792, -0.8147171 ,  0.7537596 ,\n",
       "         0.32543105,  0.52306456, -1.85699537, -0.44073763, -0.3006072 ],\n",
       "       [ 0.5842647 ,  1.4178643 ,  0.11210432,  0.23538282,  0.22058449,\n",
       "         0.60586482, -0.57103399, -0.80468003, -0.05942856, -0.9802514 ],\n",
       "       [ 1.37236937, -0.31944537,  0.12580407, -1.0637231 , -0.35602877,\n",
       "         1.37745231, -0.66873997, -1.4535897 , -0.10660882, -0.71224681],\n",
       "       [ 0.43746201,  0.28755255, -0.21170679, -1.60708155, -0.11234385,\n",
       "         0.53872179, -0.03550427, -1.05766409,  0.38372245, -1.38867422],\n",
       "       [-0.55006966, -0.9929232 , -1.58782641, -0.85764433, -0.4901775 ,\n",
       "        -1.0607181 ,  1.54886343, -0.62139978,  0.53749307, -0.56671219],\n",
       "       [ 0.07999047,  1.72500473, -0.1913713 ,  0.54543157, -1.69152035,\n",
       "        -0.41012299, -0.12804212, -0.19780874, -1.29834097, -0.55603141],\n",
       "       [ 0.62013394,  1.34832589,  0.54814832,  1.09399507,  1.24290806,\n",
       "        -0.75512839, -0.42371597, -0.32429093,  0.05866867, -0.20557326],\n",
       "       [-0.72722587,  1.51571642,  1.22330627, -0.36302399, -0.97794873,\n",
       "         0.82372756,  1.29137404, -2.99550568, -0.26674564,  1.07133096],\n",
       "       [-1.0075429 ,  1.34770549, -0.73019458, -0.53492506,  0.38566569,\n",
       "        -0.94952384, -0.76967814,  1.14606438, -0.62070327, -1.06901282],\n",
       "       [-1.53748878,  0.30060125, -0.11795568, -0.10697575,  0.03804723,\n",
       "         2.2901956 , -0.16626461,  0.61510695,  1.56843593, -0.3026744 ]])"
      ]
     },
     "execution_count": 132,
     "metadata": {},
     "output_type": "execute_result"
    }
   ],
   "source": [
    "from numpy import random #You can also import modules with relative form:\n",
    "#import numpy\n",
    "random.randn(10,10)"
   ]
  },
  {
   "cell_type": "code",
   "execution_count": 133,
   "metadata": {
    "collapsed": false
   },
   "outputs": [
    {
     "data": {
      "text/plain": [
       "67"
      ]
     },
     "execution_count": 133,
     "metadata": {},
     "output_type": "execute_result"
    }
   ],
   "source": [
    "import numpy as np #you can use the modules with the custom name you give\n",
    "np.random.randint(100)"
   ]
  },
  {
   "cell_type": "markdown",
   "metadata": {
    "run_control": {
     "frozen": false,
     "read_only": false
    }
   },
   "source": [
    "#### Python Virtual Environments"
   ]
  },
  {
   "cell_type": "markdown",
   "metadata": {
    "run_control": {
     "frozen": false,
     "read_only": false
    }
   },
   "source": [
    "Virtual Environment is a tool to keep dependencies on different modules and versions separate for each project. So that projects have their own isolated environments and istalling different libraries for one project does not affect the others."
   ]
  },
  {
   "cell_type": "markdown",
   "metadata": {
    "run_control": {
     "frozen": false,
     "read_only": false
    }
   },
   "source": [
    "We will use Anaconda Python Distribution which includes basic libraries for data science"
   ]
  },
  {
   "cell_type": "code",
   "execution_count": 134,
   "metadata": {
    "collapsed": false,
    "run_control": {
     "frozen": false,
     "read_only": false
    }
   },
   "outputs": [
    {
     "name": "stdout",
     "output_type": "stream",
     "text": [
      "conda 4.5.8\n"
     ]
    }
   ],
   "source": [
    "%%bash\n",
    "conda -V"
   ]
  },
  {
   "cell_type": "code",
   "execution_count": 135,
   "metadata": {
    "collapsed": false,
    "run_control": {
     "frozen": false,
     "read_only": false
    }
   },
   "outputs": [
    {
     "ename": "SyntaxError",
     "evalue": "invalid syntax (<ipython-input-135-47c555076ef8>, line 2)",
     "output_type": "error",
     "traceback": [
      "\u001b[0;36m  File \u001b[0;32m\"<ipython-input-135-47c555076ef8>\"\u001b[0;36m, line \u001b[0;32m2\u001b[0m\n\u001b[0;31m    conda install <name of the library>\u001b[0m\n\u001b[0m                ^\u001b[0m\n\u001b[0;31mSyntaxError\u001b[0m\u001b[0;31m:\u001b[0m invalid syntax\n"
     ]
    }
   ],
   "source": [
    "#installing libraries with conda\n",
    "conda install <name of the library>"
   ]
  },
  {
   "cell_type": "markdown",
   "metadata": {
    "run_control": {
     "frozen": false,
     "read_only": false
    }
   },
   "source": [
    "#### create a virtual environment with conda"
   ]
  },
  {
   "cell_type": "markdown",
   "metadata": {
    "run_control": {
     "frozen": false,
     "read_only": false
    }
   },
   "source": [
    "conda create -n yourenvname python=x.x anaconda  \n",
    "( x.x is python version number such as = 2.7)"
   ]
  },
  {
   "cell_type": "markdown",
   "metadata": {
    "run_control": {
     "frozen": false,
     "read_only": false
    }
   },
   "source": [
    "But, our platform has scripts to simply create a python environment with pre-installed libraries -->"
   ]
  },
  {
   "cell_type": "markdown",
   "metadata": {
    "run_control": {
     "frozen": false,
     "read_only": false
    }
   },
   "source": [
    "For creating a default Python2 virtual environment, called condap2   \n",
    "** makepy2.sh  **\n",
    "\n",
    "For creating a default Python3 virtual environment, called condap3  \n",
    "** makepy3.sh **"
   ]
  },
  {
   "cell_type": "markdown",
   "metadata": {
    "run_control": {
     "frozen": false,
     "read_only": false
    }
   },
   "source": [
    "#### activate virtual environment"
   ]
  },
  {
   "cell_type": "code",
   "execution_count": null,
   "metadata": {
    "collapsed": false,
    "run_control": {
     "frozen": false,
     "read_only": false
    }
   },
   "outputs": [],
   "source": [
    "%%bash\n",
    "source activate condap2"
   ]
  },
  {
   "cell_type": "markdown",
   "metadata": {
    "run_control": {
     "frozen": false,
     "read_only": false
    }
   },
   "source": [
    "#### de-activate virtual environment"
   ]
  },
  {
   "cell_type": "code",
   "execution_count": null,
   "metadata": {
    "collapsed": false,
    "run_control": {
     "frozen": false,
     "read_only": false
    }
   },
   "outputs": [],
   "source": [
    "%%bash\n",
    "source deactivate"
   ]
  },
  {
   "cell_type": "markdown",
   "metadata": {
    "run_control": {
     "frozen": false,
     "read_only": false
    }
   },
   "source": [
    "#### install a library on your virtual environment"
   ]
  },
  {
   "cell_type": "markdown",
   "metadata": {
    "run_control": {
     "frozen": false,
     "read_only": false
    }
   },
   "source": [
    "1. Activate your virtual environment\n",
    "2. conda install \"name of the library\"  (or use pip: pip install \"name of the library\")"
   ]
  },
  {
   "cell_type": "markdown",
   "metadata": {
    "run_control": {
     "frozen": false,
     "read_only": false
    }
   },
   "source": [
    "**list virtual environments**"
   ]
  },
  {
   "cell_type": "code",
   "execution_count": 136,
   "metadata": {
    "collapsed": false,
    "run_control": {
     "frozen": false,
     "read_only": false
    }
   },
   "outputs": [
    {
     "name": "stdout",
     "output_type": "stream",
     "text": [
      "# conda environments:\n",
      "#\n",
      "base                  *  /Users/sandrobjelogrlic/anaconda\n",
      "IITP                     /Users/sandrobjelogrlic/anaconda/envs/IITP\n",
      "dsp                      /Users/sandrobjelogrlic/anaconda/envs/dsp\n",
      "ex2doc                   /Users/sandrobjelogrlic/anaconda/envs/ex2doc\n",
      "fire                     /Users/sandrobjelogrlic/anaconda/envs/fire\n",
      "gdd_banking_marketing     /Users/sandrobjelogrlic/anaconda/envs/gdd_banking_marketing\n",
      "graphs                   /Users/sandrobjelogrlic/anaconda/envs/graphs\n",
      "iitp                     /Users/sandrobjelogrlic/anaconda/envs/iitp\n",
      "kaggle                   /Users/sandrobjelogrlic/anaconda/envs/kaggle\n",
      "optimization             /Users/sandrobjelogrlic/anaconda/envs/optimization\n",
      "py27                     /Users/sandrobjelogrlic/anaconda/envs/py27\n",
      "py36                     /Users/sandrobjelogrlic/anaconda/envs/py36\n",
      "sparky                   /Users/sandrobjelogrlic/anaconda/envs/sparky\n",
      "\n"
     ]
    }
   ],
   "source": [
    "%%bash\n",
    "conda env list"
   ]
  },
  {
   "cell_type": "markdown",
   "metadata": {
    "run_control": {
     "frozen": false,
     "read_only": false
    }
   },
   "source": [
    "** Exercises  **\n",
    "\n",
    "    1. Write a program which can map() and filter() to make a list whose elements are square of even number in [1,2,3,4,5,6,7,8,9,10].\n",
    " \n",
    " ____________________________________________________________________\n",
    "\n",
    "    2. Write a program which can filter() to make a list whose elements are even number between 1 and 20 (both included).\n",
    "____________________________________________________________________\n",
    "\n",
    "    3. Write a program which will find all such numbers which are divisible by 7 but are not a multiple of 5,between 2000 and 3200 (both included). The numbers obtained should be printed in a comma-separated sequence on a single line.\n",
    "\n",
    "____________________________________________________________________\n",
    "\n",
    "    4.With a given integral number n, write a program to generate a dictionary that contains (i, i*i) such that is an integral number between 1 and n (both included). and then the program should print the dictionary.\n",
    "\n",
    "    Suppose the following input is supplied to the program: 8\n",
    "    Then, the output should be:\n",
    "    {1: 1, 2: 4, 3: 9, 4: 16, 5: 25, 6: 36, 7: 49, 8: 64}\n",
    "____________________________________________________________________\n",
    "    \n",
    "    5. Write a program that accepts a sequence of whitespace separated words as input and prints the words after removing all duplicate words and sorting them alphanumerically.\n",
    "    \n",
    "    Suppose the following input is supplied to the program:\n",
    "    hello world and practice makes perfect and hello world again\n",
    "    Then, the output should be:\n",
    "    again and hello makes perfect practice world"
   ]
  }
 ],
 "metadata": {
  "anaconda-cloud": {},
  "kernelspec": {
   "display_name": "Python [conda env:IITP]",
   "language": "python",
   "name": "conda-env-IITP-py"
  },
  "language_info": {
   "codemirror_mode": {
    "name": "ipython",
    "version": 3
   },
   "file_extension": ".py",
   "mimetype": "text/x-python",
   "name": "python",
   "nbconvert_exporter": "python",
   "pygments_lexer": "ipython3",
   "version": "3.6.5"
  },
  "toc": {
   "colors": {
    "hover_highlight": "#DAA520",
    "running_highlight": "#FF0000",
    "selected_highlight": "#FFD700"
   },
   "moveMenuLeft": true,
   "nav_menu": {
    "height": "510px",
    "width": "252px"
   },
   "navigate_menu": true,
   "number_sections": true,
   "sideBar": true,
   "threshold": 4,
   "toc_cell": false,
   "toc_section_display": "block",
   "toc_window_display": false
  }
 },
 "nbformat": 4,
 "nbformat_minor": 0
}
